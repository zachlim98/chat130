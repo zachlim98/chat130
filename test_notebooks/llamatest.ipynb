{
 "cells": [
  {
   "cell_type": "code",
   "execution_count": null,
   "metadata": {},
   "outputs": [],
   "source": [
    "! pip install llama-index\n",
    "! pip install azure-search-documents==11.4.0b8 --pre"
   ]
  },
  {
   "cell_type": "code",
   "execution_count": 1,
   "metadata": {},
   "outputs": [],
   "source": [
    "import nest_asyncio\n",
    "\n",
    "nest_asyncio.apply()\n",
    "\n",
    "import os\n",
    "import keys\n",
    "\n",
    "from llama_index import ServiceContext\n",
    "from llama_index.llms import AzureOpenAI\n",
    "from llama_index.schema import MetadataMode\n",
    "\n",
    "from llama_index.embeddings import OpenAIEmbedding"
   ]
  },
  {
   "cell_type": "code",
   "execution_count": 2,
   "metadata": {},
   "outputs": [],
   "source": [
    "llm = AzureOpenAI(\n",
    "    engine=\"raidGPT\",\n",
    "    model=\"gpt-4\",\n",
    "    temperature=0.0,\n",
    "    api_base=\"https://raid-ses-openai.openai.azure.com/\",\n",
    "    api_key=keys.gpt_key,\n",
    "    api_type=\"azure\",\n",
    "    api_version=\"2023-05-15\"\n",
    ")\n",
    "\n",
    "emb_llm = OpenAIEmbedding(\n",
    "    engine=\"swiftfaq-ada002\",\n",
    "    model=\"text-embedding-ada-002\",\n",
    "    temperature=0.0,\n",
    "    api_base=\"https://raid-ses-openai.openai.azure.com/\",\n",
    "    api_key=keys.gpt_key,\n",
    "    api_type=\"azure\",\n",
    "    api_version=\"2023-05-15\"\n",
    ")"
   ]
  },
  {
   "cell_type": "code",
   "execution_count": 10,
   "metadata": {},
   "outputs": [],
   "source": [
    "from llama_index import SimpleDirectoryReader\n",
    "\n",
    "documents = SimpleDirectoryReader('../data/124').load_data()"
   ]
  },
  {
   "cell_type": "markdown",
   "metadata": {},
   "source": [
    "## Integration with Azure Cognitive Search"
   ]
  },
  {
   "cell_type": "code",
   "execution_count": 3,
   "metadata": {},
   "outputs": [],
   "source": [
    "from azure.search.documents.indexes import SearchIndexClient\n",
    "from azure.search.documents import SearchClient\n",
    "from azure.core.credentials import AzureKeyCredential\n",
    "\n",
    "import keys\n",
    "\n",
    "from llama_index.vector_stores.cogsearch import (\n",
    "    IndexManagement,\n",
    "    CognitiveSearchVectorStore,\n",
    "    MetadataIndexFieldType\n",
    ")\n",
    "\n",
    "from llama_index import (\n",
    "    LangchainEmbedding,\n",
    "    SimpleDirectoryReader,\n",
    "    StorageContext,\n",
    "    ServiceContext,\n",
    "    VectorStoreIndex,\n",
    ")\n",
    "\n",
    "service_endpoint = \"https://aimlexplorationsearch.search.windows.net\"\n",
    "index_name = \"rsaf-cognitive-search\"\n",
    "key = keys.cognitive_key\n",
    "credential = AzureKeyCredential(key)"
   ]
  },
  {
   "cell_type": "markdown",
   "metadata": {},
   "source": [
    "## Creating own nodes from azure output"
   ]
  },
  {
   "cell_type": "code",
   "execution_count": 4,
   "metadata": {},
   "outputs": [],
   "source": [
    "from llama_index.query_engine import CustomQueryEngine\n",
    "from llama_index.retrievers import BaseRetriever\n",
    "from llama_index.response_synthesizers import get_response_synthesizer, BaseSynthesizer\n",
    "from llama_index.schema import Node, NodeWithScore\n",
    "from llama_index import QueryBundle\n",
    "from typing import List"
   ]
  },
  {
   "cell_type": "code",
   "execution_count": 39,
   "metadata": {},
   "outputs": [
    {
     "data": {
      "text/plain": [
       "AgentChatResponse(response='Advanced transitions in helicopter operations refer to specific techniques used for landing and taking off from challenging conditions such as confined spaces, high altitudes, or at a high All-Up Weight (AUW). These techniques are employed when the basic transition technique is not feasible due to limitations in the engine power available or availability of forward distance. The objectives of advanced transitions are to determine the power margin available through hover and forward flight power checks, select the appropriate advanced transition technique, conduct a Out of Ground Effect (OGE), In Ground Effect (IGE), cushion creep and running take off transition to the climb, and conduct a transition from forward flight to an OGE hover, zero speed and running landing.', sources=[ToolOutput(content='system: Context information is below.\\n--------------------\\nOFFICIAL (CLOSED)   \\n13-1 \\nOFFICIAL (CLOSED)   PAR T B \\n \\nCHAPTER 13  \\n \\nADVANCED TRANSITIONS  \\n \\nINTRODUCTION  \\n \\n13.1 Helicopter operations involve landing and taking off from confined \\nspaces, high altitudes or at a high AUW. In all of these conditions, it may not be \\nfeasible to employ the basic transition technique due  to limitations in the engine \\npower available or availability of forward distance. In such scenarios, advanced \\ntransition techniques are employed.  \\n \\n13.2 Objective . The objectives are; (1) determine the power margin available \\nthrough hover and forward flight po wer checks, (2) select the appropriate \\nadvanced transition technique, (3) conduct a OGE, IGE, cushion creep and \\nrunning take off transition to the climb and (4) conduct a transition from forward \\nflight to an OGE hover, zero speed and running landing.  \\n \\n \\nPOWER DEMANDS IN A HELICOPTER  \\n \\n13.3 Prior to  learning advanced transition techniques, an understand ing of  \\npower demands in a helicopter  will need to be established:  \\n \\na. Rotor profile power . This is the power required to drive the main \\nrotors at minimum pitch at a c onstant NR in addition to the power required \\nto drive the tail rotor and other ancillary equipment. Generally, the rotor \\nprofile power remains at about the same value throughout the speed range \\nwith minor increases in demand at higher airspeeds.  \\n \\nb. Induced p ower . To increase rotor thrust for hover or forward \\nmotion, the blade pitch must be increased leading to an increase in rotor \\ndrag. As such, to maintain NR more power must be produced to overcome \\nthe rising drag of the blades. This increase in power is kno wn as induced \\npower as it is the power required to overcome the rise in drag  when the \\nblades induce air to flow through the rotor. However, induced flow \\ndiminishes with forward speed and therefore the induced power.  \\n \\nc. Parasite power . Parasite drag, due to t he airframe, increases as \\nforward airspeed increases. As such, the disc would need to be tilted \\nfurther forward to increase the horizontal component of TRT leading and\\n\\nOFFICIAL (CLOSED)   \\n13-7 \\nOFFICIAL (CLOSED)   provided the required power margin permits . Else, a cushion creep or \\nrunning take off is needed. For these methods, the helicopter requires a \\nrun-on or take -off distance. As a rule of thumb, in a cushion creep \\ntransitio n, the EC120B would climb to 10% of the available take -off \\ndistance. A further 10% reduction in height from that of a cushion creep \\nis used to derive the height climbed for a running take -off. \\n \\n(1) Example :  \\n \\n(a) Take -off distance available: 400ft  \\n \\n(b) Target climb he ight at end of 400ft for cushion \\ncreep: 10% x 400ft = 40ft.  \\n \\n(c) Target climb height at end of 400ft for running \\nlanding: 40ft – (10% x 40ft) = 36ft.  \\n \\n13.11  Transition to hover or landing . Similar to the transition to a climb, while \\nthe basic transition constant an gle approach  (IGE hover transition)  is preferred, it \\nmay not be feasible due to:  \\n \\na. Obstacles at arrival LP . For approaches to LPs in densely \\nvegetated areas with tall trees, OGE power would be required. However, \\nif the power margin (due to AUW or environmen tal factors) does not allow \\nfor this type of approach, then either a larger LP or a LP with lower \\nobstacles may need to be selected.  \\n \\n \\nADVANCED TRANSITIONS TO A CLIMB  \\n \\n13.12  On assessing the power margin, obstacles and take -off distance available, \\ncrew can final ise the most suited type of advanced transition. Initial training of \\nthe transitions will be conducted at the airfield with simulated obstacles. The four \\ntypes of advanced transitions conducted on helicopters are:\\n\\nOFFICIAL (CLOSED)   \\niv \\nOFFICIAL (CLOSED)   CONTENT S \\n \\nPART A – BASIC HANDLING  ................................ .............................  I \\nCHAPTER  1 – Introduction And Familiaris ation  ................................ ..........  1-1 \\nCHAPTER  2 – Effects Of Control  ................................ ................................ . 2-1 \\nCHAPTER  3 – Straight & Level, Acceleration & Deceleration  ....................  3-1 \\nCHAPTER  4 – Climbing and Descending, Turns  ................................ ..........  4-1 \\nCHAPTER  5 – Basic Autorotation  ................................ ................................ . 5-1 \\nCHAPTER  6 – Hoveri ng ................................ ................................ ................  6-1 \\nCHAPTER  7 – Take -Off And Landing  ................................ ..........................  7-1 \\nCHAPTER  8 – Ground Manoeuvres – Sideways,  Backwards F light And Spot \\nTurns  ................................ ................................ ................................ ...............  8-1 \\nCHAPTER  9 – Basic Transition  ................................ ................................ ..... 9-1 \\nCHAPTER  10 - Circuits  ................................ ................................ ...............  10-1 \\nPART B  – ADVANCED HANDLIN G ................................ .................  1 \\nCHAPTER  11 – Advanced Autorotation ................................ ......................  11-1 \\nCHAPTER  12 – Practice Forced Landing  ................................ ....................  12-1 \\nCHAPTER  13 – Advanced Transitions  ................................ ........................  13-1 \\nCHAPTER  14 – Advanced Take -Off And Landing  ................................ ..... 14-1 \\nPART C  – APPLIED FLYING  ................................ ..............................  1 \\nCHAPTER  15 – Navigation   ................................ ................................ .........  15-1 \\nCHAPTER  16 – Quickstops   ................................ ................................ ........  16-1 \\nCHAPTER  17 – Terrain Flight  ................................ ................................ ..... 17-1 \\nCHAPTER  18 – Confined Area  ................................ ................................ .... 18-1 \\nCHAPTER  19 – Basic Tactical Formation  ................................ ...................  19-1 \\nPART D  – INSTRUMENT AND NIGHT FLYING ..........................  1 \\nCHAPTER  20 – Instrument Flying  ................................ ..............................  20-1 \\nCHAPTER  21 – Night Flying  ................................ ................................ ....... 21-1 \\nPART E  – EMERGENCY HANDLING  ................................ .............  1 \\nCHAPTER  22 – Emergency Handling  ................................ .........................  22-1\\n--------------------\\n', tool_name='retriever', raw_input={'message': 'What are advanced transitions?'}, raw_output=ChatMessage(role=<MessageRole.SYSTEM: 'system'>, content='Context information is below.\\n--------------------\\nOFFICIAL (CLOSED)   \\n13-1 \\nOFFICIAL (CLOSED)   PAR T B \\n \\nCHAPTER 13  \\n \\nADVANCED TRANSITIONS  \\n \\nINTRODUCTION  \\n \\n13.1 Helicopter operations involve landing and taking off from confined \\nspaces, high altitudes or at a high AUW. In all of these conditions, it may not be \\nfeasible to employ the basic transition technique due  to limitations in the engine \\npower available or availability of forward distance. In such scenarios, advanced \\ntransition techniques are employed.  \\n \\n13.2 Objective . The objectives are; (1) determine the power margin available \\nthrough hover and forward flight po wer checks, (2) select the appropriate \\nadvanced transition technique, (3) conduct a OGE, IGE, cushion creep and \\nrunning take off transition to the climb and (4) conduct a transition from forward \\nflight to an OGE hover, zero speed and running landing.  \\n \\n \\nPOWER DEMANDS IN A HELICOPTER  \\n \\n13.3 Prior to  learning advanced transition techniques, an understand ing of  \\npower demands in a helicopter  will need to be established:  \\n \\na. Rotor profile power . This is the power required to drive the main \\nrotors at minimum pitch at a c onstant NR in addition to the power required \\nto drive the tail rotor and other ancillary equipment. Generally, the rotor \\nprofile power remains at about the same value throughout the speed range \\nwith minor increases in demand at higher airspeeds.  \\n \\nb. Induced p ower . To increase rotor thrust for hover or forward \\nmotion, the blade pitch must be increased leading to an increase in rotor \\ndrag. As such, to maintain NR more power must be produced to overcome \\nthe rising drag of the blades. This increase in power is kno wn as induced \\npower as it is the power required to overcome the rise in drag  when the \\nblades induce air to flow through the rotor. However, induced flow \\ndiminishes with forward speed and therefore the induced power.  \\n \\nc. Parasite power . Parasite drag, due to t he airframe, increases as \\nforward airspeed increases. As such, the disc would need to be tilted \\nfurther forward to increase the horizontal component of TRT leading and\\n\\nOFFICIAL (CLOSED)   \\n13-7 \\nOFFICIAL (CLOSED)   provided the required power margin permits . Else, a cushion creep or \\nrunning take off is needed. For these methods, the helicopter requires a \\nrun-on or take -off distance. As a rule of thumb, in a cushion creep \\ntransitio n, the EC120B would climb to 10% of the available take -off \\ndistance. A further 10% reduction in height from that of a cushion creep \\nis used to derive the height climbed for a running take -off. \\n \\n(1) Example :  \\n \\n(a) Take -off distance available: 400ft  \\n \\n(b) Target climb he ight at end of 400ft for cushion \\ncreep: 10% x 400ft = 40ft.  \\n \\n(c) Target climb height at end of 400ft for running \\nlanding: 40ft – (10% x 40ft) = 36ft.  \\n \\n13.11  Transition to hover or landing . Similar to the transition to a climb, while \\nthe basic transition constant an gle approach  (IGE hover transition)  is preferred, it \\nmay not be feasible due to:  \\n \\na. Obstacles at arrival LP . For approaches to LPs in densely \\nvegetated areas with tall trees, OGE power would be required. However, \\nif the power margin (due to AUW or environmen tal factors) does not allow \\nfor this type of approach, then either a larger LP or a LP with lower \\nobstacles may need to be selected.  \\n \\n \\nADVANCED TRANSITIONS TO A CLIMB  \\n \\n13.12  On assessing the power margin, obstacles and take -off distance available, \\ncrew can final ise the most suited type of advanced transition. Initial training of \\nthe transitions will be conducted at the airfield with simulated obstacles. The four \\ntypes of advanced transitions conducted on helicopters are:\\n\\nOFFICIAL (CLOSED)   \\niv \\nOFFICIAL (CLOSED)   CONTENT S \\n \\nPART A – BASIC HANDLING  ................................ .............................  I \\nCHAPTER  1 – Introduction And Familiaris ation  ................................ ..........  1-1 \\nCHAPTER  2 – Effects Of Control  ................................ ................................ . 2-1 \\nCHAPTER  3 – Straight & Level, Acceleration & Deceleration  ....................  3-1 \\nCHAPTER  4 – Climbing and Descending, Turns  ................................ ..........  4-1 \\nCHAPTER  5 – Basic Autorotation  ................................ ................................ . 5-1 \\nCHAPTER  6 – Hoveri ng ................................ ................................ ................  6-1 \\nCHAPTER  7 – Take -Off And Landing  ................................ ..........................  7-1 \\nCHAPTER  8 – Ground Manoeuvres – Sideways,  Backwards F light And Spot \\nTurns  ................................ ................................ ................................ ...............  8-1 \\nCHAPTER  9 – Basic Transition  ................................ ................................ ..... 9-1 \\nCHAPTER  10 - Circuits  ................................ ................................ ...............  10-1 \\nPART B  – ADVANCED HANDLIN G ................................ .................  1 \\nCHAPTER  11 – Advanced Autorotation ................................ ......................  11-1 \\nCHAPTER  12 – Practice Forced Landing  ................................ ....................  12-1 \\nCHAPTER  13 – Advanced Transitions  ................................ ........................  13-1 \\nCHAPTER  14 – Advanced Take -Off And Landing  ................................ ..... 14-1 \\nPART C  – APPLIED FLYING  ................................ ..............................  1 \\nCHAPTER  15 – Navigation   ................................ ................................ .........  15-1 \\nCHAPTER  16 – Quickstops   ................................ ................................ ........  16-1 \\nCHAPTER  17 – Terrain Flight  ................................ ................................ ..... 17-1 \\nCHAPTER  18 – Confined Area  ................................ ................................ .... 18-1 \\nCHAPTER  19 – Basic Tactical Formation  ................................ ...................  19-1 \\nPART D  – INSTRUMENT AND NIGHT FLYING ..........................  1 \\nCHAPTER  20 – Instrument Flying  ................................ ..............................  20-1 \\nCHAPTER  21 – Night Flying  ................................ ................................ ....... 21-1 \\nPART E  – EMERGENCY HANDLING  ................................ .............  1 \\nCHAPTER  22 – Emergency Handling  ................................ .........................  22-1\\n--------------------\\n', additional_kwargs={}))], source_nodes=[NodeWithScore(node=TextNode(id_='854233da-5599-42ca-ab48-95054fa6702b', embedding=None, metadata={}, excluded_embed_metadata_keys=[], excluded_llm_metadata_keys=[], relationships={}, hash='620adef9bc15b43ca062d785808a576a286b7e5a98b3c8fed08897acf36a3075', text='OFFICIAL (CLOSED)   \\n13-1 \\nOFFICIAL (CLOSED)   PAR T B \\n \\nCHAPTER 13  \\n \\nADVANCED TRANSITIONS  \\n \\nINTRODUCTION  \\n \\n13.1 Helicopter operations involve landing and taking off from confined \\nspaces, high altitudes or at a high AUW. In all of these conditions, it may not be \\nfeasible to employ the basic transition technique due  to limitations in the engine \\npower available or availability of forward distance. In such scenarios, advanced \\ntransition techniques are employed.  \\n \\n13.2 Objective . The objectives are; (1) determine the power margin available \\nthrough hover and forward flight po wer checks, (2) select the appropriate \\nadvanced transition technique, (3) conduct a OGE, IGE, cushion creep and \\nrunning take off transition to the climb and (4) conduct a transition from forward \\nflight to an OGE hover, zero speed and running landing.  \\n \\n \\nPOWER DEMANDS IN A HELICOPTER  \\n \\n13.3 Prior to  learning advanced transition techniques, an understand ing of  \\npower demands in a helicopter  will need to be established:  \\n \\na. Rotor profile power . This is the power required to drive the main \\nrotors at minimum pitch at a c onstant NR in addition to the power required \\nto drive the tail rotor and other ancillary equipment. Generally, the rotor \\nprofile power remains at about the same value throughout the speed range \\nwith minor increases in demand at higher airspeeds.  \\n \\nb. Induced p ower . To increase rotor thrust for hover or forward \\nmotion, the blade pitch must be increased leading to an increase in rotor \\ndrag. As such, to maintain NR more power must be produced to overcome \\nthe rising drag of the blades. This increase in power is kno wn as induced \\npower as it is the power required to overcome the rise in drag  when the \\nblades induce air to flow through the rotor. However, induced flow \\ndiminishes with forward speed and therefore the induced power.  \\n \\nc. Parasite power . Parasite drag, due to t he airframe, increases as \\nforward airspeed increases. As such, the disc would need to be tilted \\nfurther forward to increase the horizontal component of TRT leading and', start_char_idx=None, end_char_idx=None, text_template='{metadata_str}\\n\\n{content}', metadata_template='{key}: {value}', metadata_seperator='\\n'), score=7.7570934), NodeWithScore(node=TextNode(id_='d142bfa9-416e-4fc3-a8ed-c1b9e66d84b6', embedding=None, metadata={}, excluded_embed_metadata_keys=[], excluded_llm_metadata_keys=[], relationships={}, hash='5222fafa7e4af02e4c102df9efbd801524cf5ce4be26686b9254cbb171ced328', text='OFFICIAL (CLOSED)   \\n13-7 \\nOFFICIAL (CLOSED)   provided the required power margin permits . Else, a cushion creep or \\nrunning take off is needed. For these methods, the helicopter requires a \\nrun-on or take -off distance. As a rule of thumb, in a cushion creep \\ntransitio n, the EC120B would climb to 10% of the available take -off \\ndistance. A further 10% reduction in height from that of a cushion creep \\nis used to derive the height climbed for a running take -off. \\n \\n(1) Example :  \\n \\n(a) Take -off distance available: 400ft  \\n \\n(b) Target climb he ight at end of 400ft for cushion \\ncreep: 10% x 400ft = 40ft.  \\n \\n(c) Target climb height at end of 400ft for running \\nlanding: 40ft – (10% x 40ft) = 36ft.  \\n \\n13.11  Transition to hover or landing . Similar to the transition to a climb, while \\nthe basic transition constant an gle approach  (IGE hover transition)  is preferred, it \\nmay not be feasible due to:  \\n \\na. Obstacles at arrival LP . For approaches to LPs in densely \\nvegetated areas with tall trees, OGE power would be required. However, \\nif the power margin (due to AUW or environmen tal factors) does not allow \\nfor this type of approach, then either a larger LP or a LP with lower \\nobstacles may need to be selected.  \\n \\n \\nADVANCED TRANSITIONS TO A CLIMB  \\n \\n13.12  On assessing the power margin, obstacles and take -off distance available, \\ncrew can final ise the most suited type of advanced transition. Initial training of \\nthe transitions will be conducted at the airfield with simulated obstacles. The four \\ntypes of advanced transitions conducted on helicopters are:', start_char_idx=None, end_char_idx=None, text_template='{metadata_str}\\n\\n{content}', metadata_template='{key}: {value}', metadata_seperator='\\n'), score=7.679412), NodeWithScore(node=TextNode(id_='440e8bc5-a866-45f0-8354-b42886a56b99', embedding=None, metadata={}, excluded_embed_metadata_keys=[], excluded_llm_metadata_keys=[], relationships={}, hash='516cb99bc05e4fb6c0b754d47fbaf3cb4274fe570118313471a33713413429f2', text='OFFICIAL (CLOSED)   \\niv \\nOFFICIAL (CLOSED)   CONTENT S \\n \\nPART A – BASIC HANDLING  ................................ .............................  I \\nCHAPTER  1 – Introduction And Familiaris ation  ................................ ..........  1-1 \\nCHAPTER  2 – Effects Of Control  ................................ ................................ . 2-1 \\nCHAPTER  3 – Straight & Level, Acceleration & Deceleration  ....................  3-1 \\nCHAPTER  4 – Climbing and Descending, Turns  ................................ ..........  4-1 \\nCHAPTER  5 – Basic Autorotation  ................................ ................................ . 5-1 \\nCHAPTER  6 – Hoveri ng ................................ ................................ ................  6-1 \\nCHAPTER  7 – Take -Off And Landing  ................................ ..........................  7-1 \\nCHAPTER  8 – Ground Manoeuvres – Sideways,  Backwards F light And Spot \\nTurns  ................................ ................................ ................................ ...............  8-1 \\nCHAPTER  9 – Basic Transition  ................................ ................................ ..... 9-1 \\nCHAPTER  10 - Circuits  ................................ ................................ ...............  10-1 \\nPART B  – ADVANCED HANDLIN G ................................ .................  1 \\nCHAPTER  11 – Advanced Autorotation ................................ ......................  11-1 \\nCHAPTER  12 – Practice Forced Landing  ................................ ....................  12-1 \\nCHAPTER  13 – Advanced Transitions  ................................ ........................  13-1 \\nCHAPTER  14 – Advanced Take -Off And Landing  ................................ ..... 14-1 \\nPART C  – APPLIED FLYING  ................................ ..............................  1 \\nCHAPTER  15 – Navigation   ................................ ................................ .........  15-1 \\nCHAPTER  16 – Quickstops   ................................ ................................ ........  16-1 \\nCHAPTER  17 – Terrain Flight  ................................ ................................ ..... 17-1 \\nCHAPTER  18 – Confined Area  ................................ ................................ .... 18-1 \\nCHAPTER  19 – Basic Tactical Formation  ................................ ...................  19-1 \\nPART D  – INSTRUMENT AND NIGHT FLYING ..........................  1 \\nCHAPTER  20 – Instrument Flying  ................................ ..............................  20-1 \\nCHAPTER  21 – Night Flying  ................................ ................................ ....... 21-1 \\nPART E  – EMERGENCY HANDLING  ................................ .............  1 \\nCHAPTER  22 – Emergency Handling  ................................ .........................  22-1', start_char_idx=None, end_char_idx=None, text_template='{metadata_str}\\n\\n{content}', metadata_template='{key}: {value}', metadata_seperator='\\n'), score=7.1385126)])"
      ]
     },
     "execution_count": 39,
     "metadata": {},
     "output_type": "execute_result"
    }
   ],
   "source": [
    "from llama_index.chat_engine import CondenseQuestionChatEngine, ContextChatEngine\n",
    "\n",
    "class CustomRetriever(BaseRetriever):\n",
    "    \"\"\"Custom retriever that performs both semantic search and hybrid search.\"\"\"\n",
    "\n",
    "    def __init__(\n",
    "        self,\n",
    "        search_client : SearchClient,\n",
    "    ) -> None:\n",
    "        \"\"\"Init params.\"\"\"\n",
    "        self._search_client = search_client\n",
    "    def _retrieve(self, query_bundle: QueryBundle) -> List[NodeWithScore]:\n",
    "        \"\"\"Retrieve nodes given query.\"\"\"\n",
    "\n",
    "        nodes = []\n",
    "        # filtering\n",
    "        results = self._search_client.search(search_text=query_bundle, top=3)\n",
    "        # citations management\n",
    "        # possible for rights management (post filtering)\n",
    "        for i in results:\n",
    "            nodes.append(NodeWithScore(node=Node(text=i[\"content\"]), score=i['@search.score']))\n",
    "\n",
    "        return nodes\n",
    " \n",
    "search_client = SearchClient(endpoint=service_endpoint, index_name=\"chat-demo\", credential=credential)\n",
    "service_context = ServiceContext.from_defaults(llm=llm, embed_model=emb_llm)\n",
    "    \n",
    "chat_engine = ContextChatEngine.from_defaults(retriever=CustomRetriever(search_client=search_client), verbose=True, service_context=service_context)\n",
    "\n",
    "chat_engine.chat(\"What are advanced transitions?\")"
   ]
  },
  {
   "cell_type": "markdown",
   "metadata": {},
   "source": [
    "### API friendly version"
   ]
  },
  {
   "cell_type": "markdown",
   "metadata": {},
   "source": [
    "### This creates a new llamaindex compatible Azure Search Index"
   ]
  },
  {
   "cell_type": "code",
   "execution_count": 5,
   "metadata": {},
   "outputs": [],
   "source": [
    "client_index = SearchIndexClient(endpoint=service_endpoint, credential=credential)"
   ]
  },
  {
   "cell_type": "code",
   "execution_count": 7,
   "metadata": {},
   "outputs": [],
   "source": [
    "def create_azure_index(index_client, index_name : str, metadata_fields : dict, llm, emb_llm, filepath) -> str:\n",
    "    \n",
    "    \"\"\"\n",
    "    Spins up an azure cognitive search index.\n",
    "    Will delete any index named as such so BE CAREFUL\n",
    "    \"\"\"\n",
    "    \n",
    "    vector_store = CognitiveSearchVectorStore(\n",
    "        search_or_index_client=index_client,\n",
    "        index_name=index_name,\n",
    "        filterable_metadata_field_keys=metadata_fields,\n",
    "        index_management=IndexManagement.CREATE_IF_NOT_EXISTS,\n",
    "        id_field_key=\"id\",\n",
    "        chunk_field_key=\"content\",\n",
    "        embedding_field_key=\"embedding\",\n",
    "        metadata_string_field_key=\"li_jsonMetadata\",\n",
    "        doc_id_field_key=\"li_doc_id\",\n",
    "    )\n",
    "    \n",
    "    storage_context = StorageContext.from_defaults(vector_store=vector_store)\n",
    "    service_context = ServiceContext.from_defaults(llm=llm, embed_model=emb_llm)\n",
    "    \n",
    "    documents = SimpleDirectoryReader(filepath).load_data()\n",
    "    \n",
    "    ####################################\n",
    "    # Chunking/Form Intelligence here  #\n",
    "    ####################################\n",
    "    \n",
    "    \n",
    "    index = VectorStoreIndex.from_documents(\n",
    "        documents, storage_context=storage_context, service_context=service_context\n",
    ")\n",
    "    \n",
    "    return \"{}\".format(index_name) + \" created\""
   ]
  },
  {
   "cell_type": "code",
   "execution_count": null,
   "metadata": {},
   "outputs": [],
   "source": [
    "create_azure_index(index_client=client_index, index_name=\"chat-demo\", metadata_fields={\"page_label\" : (\"page_label\", MetadataIndexFieldType.INT32)}, \n",
    "                   llm = llm, emb_llm=emb_llm, filepath=\"../data/124\")"
   ]
  },
  {
   "cell_type": "code",
   "execution_count": 11,
   "metadata": {},
   "outputs": [],
   "source": [
    "vector_store = CognitiveSearchVectorStore(\n",
    "    search_or_index_client=client_index,\n",
    "    index_name=\"chat-demo\",\n",
    "    filterable_metadata_field_keys={},\n",
    "    index_management=IndexManagement.CREATE_IF_NOT_EXISTS,\n",
    "    id_field_key=\"id\",\n",
    "    chunk_field_key=\"content\",\n",
    "    embedding_field_key=\"embedding\",\n",
    "    metadata_string_field_key=\"li_jsonMetadata\",\n",
    "    doc_id_field_key=\"li_doc_id\",\n",
    ")\n",
    "\n",
    "storage_context = StorageContext.from_defaults(vector_store=vector_store)\n",
    "service_context = ServiceContext.from_defaults(llm=llm, embed_model=emb_llm)\n",
    "\n",
    "index = VectorStoreIndex.from_documents(\n",
    "        documents, storage_context=storage_context, service_context=service_context\n",
    ")\n"
   ]
  },
  {
   "cell_type": "markdown",
   "metadata": {},
   "source": [
    "### Testing custom filters"
   ]
  },
  {
   "cell_type": "code",
   "execution_count": 19,
   "metadata": {},
   "outputs": [],
   "source": [
    "index_name = \"quickstart\"\n",
    "\n",
    "metadata_fields = {\n",
    "    \"page_label\": \"page_label\",\n",
    "    \"theme\": \"theme\",\n",
    "    \"director\": \"director\",\n",
    "}\n",
    "\n",
    "client_index = SearchIndexClient(endpoint=service_endpoint, credential=credential)\n",
    "\n",
    "vector_store = CognitiveSearchVectorStore(\n",
    "    search_or_index_client=client_index,\n",
    "    index_name=index_name,\n",
    "    filterable_metadata_field_keys=metadata_fields,\n",
    "    index_management=IndexManagement.CREATE_IF_NOT_EXISTS,\n",
    "    id_field_key=\"id\",\n",
    "    chunk_field_key=\"content\",\n",
    "    embedding_field_key=\"embedding\",\n",
    "    metadata_string_field_key=\"li_jsonMetadata\",\n",
    "    doc_id_field_key=\"li_doc_id\",\n",
    ")\n",
    "\n",
    "storage_context = StorageContext.from_defaults(vector_store=vector_store)\n",
    "service_context = ServiceContext.from_defaults(llm=llm, embed_model=emb_llm)\n",
    "\n",
    "index = VectorStoreIndex.from_documents(\n",
    "        documents, storage_context=storage_context, service_context=service_context\n",
    ")"
   ]
  },
  {
   "cell_type": "code",
   "execution_count": 14,
   "metadata": {},
   "outputs": [],
   "source": [
    "from llama_index.schema import TextNode\n",
    "\n",
    "nodes = [\n",
    "    TextNode(\n",
    "        text=\"The Shawshank Redemption\",\n",
    "        metadata={\n",
    "            \"author\": \"Stephen King\",\n",
    "            \"theme\": \"Friendship\",\n",
    "        },\n",
    "    ),\n",
    "    TextNode(\n",
    "        text=\"The Godfather\",\n",
    "        metadata={\n",
    "            \"director\": \"Francis Ford Coppola\",\n",
    "            \"theme\": \"Mafia\",\n",
    "        },\n",
    "    ),\n",
    "    TextNode(\n",
    "        text=\"Inception\",\n",
    "        metadata={\n",
    "            \"director\": \"Christopher Nolan\",\n",
    "        },\n",
    "    ),\n",
    "]\n",
    "\n",
    "index.insert_nodes(nodes)"
   ]
  },
  {
   "cell_type": "markdown",
   "metadata": {},
   "source": [
    "### This creates a custom retriever with a chat engine"
   ]
  },
  {
   "cell_type": "code",
   "execution_count": null,
   "metadata": {},
   "outputs": [],
   "source": [
    "from llama_index.chat_engine import CondenseQuestionChatEngine, ContextChatEngine\n",
    "\n",
    "class CustomRetriever(BaseRetriever):\n",
    "    \"\"\"Custom retriever that performs both semantic search and hybrid search.\"\"\"\n",
    "\n",
    "    def __init__(\n",
    "        self,\n",
    "        search_client : SearchClient,\n",
    "    ) -> None:\n",
    "        \"\"\"Init params.\"\"\"\n",
    "        self._search_client = search_client\n",
    "    def _retrieve(self, query_bundle: QueryBundle) -> List[NodeWithScore]:\n",
    "        \"\"\"Retrieve nodes given query.\"\"\"\n",
    "\n",
    "        nodes = []\n",
    "        # filtering\n",
    "        results = self._search_client.search(search_text=query_bundle, top=3)\n",
    "        # citations management\n",
    "        # possible for rights management (post filtering)\n",
    "        for i in results:\n",
    "            nodes.append(NodeWithScore(node=Node(text=i[\"content\"]), score=i['@search.score']))\n",
    "\n",
    "        return nodes\n",
    " \n",
    "search_client = SearchClient(endpoint=service_endpoint, index_name=\"chat-demo\", credential=credential)\n",
    "    \n",
    "chat_engine = ContextChatEngine.from_defaults(retriever=CustomRetriever(search_client=search_client), verbose=True, service_context=service_context)\n",
    "\n",
    "chat_engine.chat(\"What are advanced transitions?\")"
   ]
  },
  {
   "cell_type": "markdown",
   "metadata": {},
   "source": [
    "### This allows you to query that index"
   ]
  },
  {
   "cell_type": "code",
   "execution_count": 200,
   "metadata": {},
   "outputs": [],
   "source": [
    "# Create a custom class that calls on search client\n",
    "class AzureQueryEngine(CustomQueryEngine):\n",
    "    \"\"\"Azure Custom Query.\"\"\"\n",
    "\n",
    "    search_client : SearchClient\n",
    "    response_synthesizer: BaseSynthesizer\n",
    "    \n",
    "    def custom_query(self, query_str: str):\n",
    "        \n",
    "        nodes = []\n",
    "        # filtering\n",
    "        results = self.search_client.search(search_text=query_str, top=3)\n",
    "        # citations management\n",
    "        # possible for rights management (post filtering)\n",
    "        for i in results:\n",
    "            nodes.append(NodeWithScore(node=Node(text=i[\"content\"]), score=i['@search.score']))\n",
    "\n",
    "        response_obj = self.response_synthesizer.synthesize(query_str, nodes)\n",
    "        return response_obj"
   ]
  },
  {
   "cell_type": "code",
   "execution_count": null,
   "metadata": {},
   "outputs": [],
   "source": [
    "def create_azure_query_engine(service_endpoint, llm, emb_llm):\n",
    "    \n",
    "    service_context = ServiceContext.from_defaults(llm=llm, embed_model=emb_llm)\n",
    "\n",
    "    search_client = SearchClient(endpoint=service_endpoint, index_name=\"llamaindex-demo\", credential=credential)\n",
    "    \n",
    "    synthesizer = get_response_synthesizer(response_mode=\"compact\", service_context=service_context)\n",
    "    query_engine = AzureQueryEngine(search_client=search_client, response_synthesizer=synthesizer)\n",
    "\n",
    "    return query_engine"
   ]
  },
  {
   "cell_type": "code",
   "execution_count": null,
   "metadata": {},
   "outputs": [],
   "source": []
  }
 ],
 "metadata": {
  "kernelspec": {
   "display_name": ".venv",
   "language": "python",
   "name": "python3"
  },
  "language_info": {
   "codemirror_mode": {
    "name": "ipython",
    "version": 3
   },
   "file_extension": ".py",
   "mimetype": "text/x-python",
   "name": "python",
   "nbconvert_exporter": "python",
   "pygments_lexer": "ipython3",
   "version": "3.8.10"
  },
  "orig_nbformat": 4
 },
 "nbformat": 4,
 "nbformat_minor": 2
}
