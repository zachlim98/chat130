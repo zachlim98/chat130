{
 "cells": [
  {
   "cell_type": "code",
   "execution_count": null,
   "metadata": {},
   "outputs": [],
   "source": [
    "! pip install llama-index"
   ]
  },
  {
   "cell_type": "code",
   "execution_count": 1,
   "metadata": {},
   "outputs": [],
   "source": [
    "import nest_asyncio\n",
    "\n",
    "nest_asyncio.apply()\n",
    "\n",
    "import os\n",
    "import keys\n",
    "\n",
    "from llama_index import ServiceContext\n",
    "from llama_index.llms import AzureOpenAI\n",
    "from llama_index.schema import MetadataMode\n",
    "\n",
    "from llama_index.embeddings import OpenAIEmbedding"
   ]
  },
  {
   "cell_type": "code",
   "execution_count": 2,
   "metadata": {},
   "outputs": [],
   "source": [
    "llm = AzureOpenAI(\n",
    "    engine=\"raidGPT\",\n",
    "    model=\"gpt-4\",\n",
    "    temperature=0.0,\n",
    "    api_base=\"https://raid-ses-openai.openai.azure.com/\",\n",
    "    api_key=keys.gpt_key,\n",
    "    api_type=\"azure\",\n",
    "    api_version=\"2023-05-15\"\n",
    ")\n",
    "\n",
    "emb_llm = OpenAIEmbedding(\n",
    "    engine=\"swiftfaq-ada002\",\n",
    "    model=\"text-embedding-ada-002\",\n",
    "    temperature=0.0,\n",
    "    api_base=\"https://raid-ses-openai.openai.azure.com/\",\n",
    "    api_key=keys.gpt_key,\n",
    "    api_type=\"azure\",\n",
    "    api_version=\"2023-05-15\"\n",
    ")"
   ]
  },
  {
   "cell_type": "markdown",
   "metadata": {},
   "source": [
    "## Experimenting with custom text splitter"
   ]
  },
  {
   "cell_type": "code",
   "execution_count": 3,
   "metadata": {},
   "outputs": [],
   "source": [
    "from llama_index.node_parser import SimpleNodeParser\n",
    "from llama_index.node_parser.extractors import (\n",
    "    MetadataExtractor,\n",
    "    SummaryExtractor,\n",
    "    QuestionsAnsweredExtractor,\n",
    "    TitleExtractor,\n",
    "    KeywordExtractor,\n",
    "    EntityExtractor,\n",
    "    MetadataFeatureExtractor,\n",
    ")\n",
    "from llama_index.text_splitter import TokenTextSplitter\n",
    "\n",
    "text_splitter = TokenTextSplitter(separator=\" \", chunk_size=512, chunk_overlap=128)\n",
    "\n",
    "\n",
    "class CustomExtractor(MetadataFeatureExtractor):\n",
    "    def extract(self, nodes):\n",
    "        metadata_list = [\n",
    "            {\n",
    "                \"custom\": node.metadata[\"document_title\"]\n",
    "                + \"\\n\"\n",
    "                + node.metadata[\"excerpt_keywords\"]\n",
    "            }\n",
    "            for node in nodes\n",
    "        ]\n",
    "        return metadata_list\n",
    "\n",
    "\n",
    "metadata_extractor = MetadataExtractor(\n",
    "    extractors=[\n",
    "        TitleExtractor(nodes=5, llm=llm),\n",
    "        # EntityExtractor(prediction_threshold=0.5),\n",
    "        SummaryExtractor(summaries=[\"prev\", \"self\"], llm=llm),\n",
    "        # KeywordExtractor(keywords=10, llm=llm),\n",
    "        # CustomExtractor()\n",
    "    ],\n",
    ")\n",
    "\n",
    "node_parser = SimpleNodeParser.from_defaults(\n",
    "    text_splitter=text_splitter,\n",
    "    # metadata_extractor=metadata_extractor,\n",
    ")"
   ]
  },
  {
   "cell_type": "code",
   "execution_count": 4,
   "metadata": {},
   "outputs": [],
   "source": [
    "from llama_index import SimpleDirectoryReader\n",
    "\n",
    "documents = SimpleDirectoryReader('../data/124').load_data()"
   ]
  },
  {
   "cell_type": "code",
   "execution_count": 14,
   "metadata": {},
   "outputs": [
    {
     "name": "stderr",
     "output_type": "stream",
     "text": [
      "Extracting summaries: 100%|██████████| 31/31 [05:23<00:00, 10.45s/it]\n"
     ]
    }
   ],
   "source": [
    "nodes = node_parser.get_nodes_from_documents(documents[10:30])"
   ]
  },
  {
   "cell_type": "code",
   "execution_count": 20,
   "metadata": {},
   "outputs": [
    {
     "data": {
      "text/plain": [
       "{'page_label': '12',\n",
       " 'file_name': 'AP3456 Vol 12 Helicopters.pdf',\n",
       " 'document_title': 'Understanding the Principles and Techniques of Helicopter Movement and Hovering in Various Environments',\n",
       " 'prev_section_summary': 'The section is from a document titled \"Understanding the Principles and Techniques of Helicopter Movement and Hovering in Various Environments\". It includes various figures explaining different aspects of helicopter movement and hovering. Key topics include the effect of long grass on recirculation, recirculation near a building, producing horizontal movement, flapping to equality, control orbit, pitch operating arm movement, relationship of blade position to control orbit position, high and low blade positions, advance angle, dragging hinge, variation in radius of blade CG resulting from flapping, and Hooke’s Joint Effect.',\n",
       " 'section_summary': \"The section discusses the principles of helicopter hovering and horizontal movement, specifically focusing on the take-off and climb to a free air hover. It explains that to lift a helicopter off the ground, a force greater than the weight of the aircraft must be produced. This force acts vertically downwards through the aircraft's center of gravity. The total Rotor Thrust (TRT) is initially small, but as the collective lever is raised, blade pitch and the angle of attack increase, causing the TRT to equal the All Up Weight (AUW) of the helicopter. Further increase in angle of attack causes the TRT to exceed the AUW, resulting in the helicopter's vertical acceleration. The section also discusses the effect of the Rate of Climb (ROC) on the induced airflow, angle of attack, and total rotor thrust.\"}"
      ]
     },
     "execution_count": 20,
     "metadata": {},
     "output_type": "execute_result"
    }
   ],
   "source": [
    "nodes[2].metadata"
   ]
  },
  {
   "cell_type": "markdown",
   "metadata": {},
   "source": [
    "## Integration with Azure Cognitive Search"
   ]
  },
  {
   "cell_type": "code",
   "execution_count": 198,
   "metadata": {},
   "outputs": [],
   "source": [
    "from azure.search.documents.indexes import SearchIndexClient\n",
    "from azure.search.documents import SearchClient\n",
    "from azure.core.credentials import AzureKeyCredential\n",
    "\n",
    "from llama_index.vector_stores.cogsearch import (\n",
    "    IndexManagement,\n",
    "    CognitiveSearchVectorStore,\n",
    ")\n",
    "\n",
    "from llama_index import (\n",
    "    LangchainEmbedding,\n",
    "    SimpleDirectoryReader,\n",
    "    StorageContext,\n",
    "    ServiceContext,\n",
    "    VectorStoreIndex,\n",
    ")\n",
    "\n",
    "service_endpoint = \"https://rsaf-cognitive-search-service.search.windows.net\"\n",
    "index_name = \"rsaf-cognitive-search\"\n",
    "key = keys.cognitive_key\n",
    "credential = AzureKeyCredential(key)"
   ]
  },
  {
   "cell_type": "markdown",
   "metadata": {},
   "source": [
    "## Creating own nodes from azure output"
   ]
  },
  {
   "cell_type": "code",
   "execution_count": 158,
   "metadata": {},
   "outputs": [],
   "source": [
    "from llama_index.query_engine import CustomQueryEngine\n",
    "from llama_index.retrievers import BaseRetriever\n",
    "from llama_index.response_synthesizers import get_response_synthesizer, BaseSynthesizer\n",
    "from llama_index.schema import Node, NodeWithScore"
   ]
  },
  {
   "cell_type": "code",
   "execution_count": null,
   "metadata": {},
   "outputs": [],
   "source": [
    "from llama_index.chat_engine import CondenseQuestionChatEngine, ContextChatEngine\n",
    "\n",
    "#######################################\n",
    "# THIS IS BROKEN AND I DON'T KNOW WHY #\n",
    "#######################################\n",
    "\n",
    "\n",
    "class CustomRetriever(BaseRetriever):\n",
    "    \"\"\"Custom retriever that performs both semantic search and hybrid search.\"\"\"\n",
    "\n",
    "    def __init__(\n",
    "        self,\n",
    "    ) -> None:\n",
    "        \"\"\"Init params.\"\"\"\n",
    "\n",
    "    def _retrieve(self, query_bundle: QueryBundle) -> List[NodeWithScore]:\n",
    "        \"\"\"Retrieve nodes given query.\"\"\"\n",
    "\n",
    "        doc1 = Node(text='OFFICIAL (CLOSED)   \\n13-1 \\nOFFICIAL (CLOSED)   PAR T B \\n \\nCHAPTER 13  \\n \\nADVANCED TRANSITIONS  \\n \\nINTRODUCTION  \\n \\n13.1 Helicopter operations involve landing and taking off from confined \\nspaces, high altitudes or at a high AUW. In all of these conditions, it may not be \\nfeasible to employ the basic transition technique due  to limitations in the engine \\npower available or availability of forward distance. In such scenarios, advanced \\ntransition techniques are employed.  \\n \\n13.2 Objective . The objectives are; (1) determine the power margin available \\nthrough hover and forward flight po wer checks, (2) select the appropriate \\nadvanced transition technique, (3) conduct a OGE, IGE, cushion creep and \\nrunning take off transition to the climb and (4) conduct a transition from forward \\nflight to an OGE hover, zero speed and running landing.  \\n \\n \\nPOWER DEMANDS IN A HELICOPTER  \\n \\n13.3 Prior to  learning advanced transition techniques, an understand ing of  \\npower demands in a helicopter  will need to be established:  \\n \\na. Rotor profile power . This is the power required to drive the main \\nrotors at minimum pitch at a c onstant NR in addition to the power required \\nto drive the tail rotor and other ancillary equipment. Generally, the rotor \\nprofile power remains at about the same value throughout the speed range \\nwith minor increases in demand at higher airspeeds.  \\n \\nb. Induced p ower . To increase rotor thrust for hover or forward \\nmotion, the blade pitch must be increased leading to an increase in rotor \\ndrag. As such, to maintain NR more power must be produced to overcome \\nthe rising drag of the blades. This increase in power is kno wn as induced \\npower as it is the power required to overcome the rise in drag  when the \\nblades induce air to flow through the rotor. However, induced flow \\ndiminishes with forward speed and therefore the induced power.  \\n \\nc. Parasite power . Parasite drag, due to t he airframe, increases as \\nforward airspeed increases. As such, the disc would need to be tilted \\nfurther forward to increase the horizontal component of TRT leading and')\n",
    "        doc2 = Node(text='power in a helicopter is extremely important')\n",
    "\n",
    "        retrieve_nodes = [NodeWithScore(node=doc1, score = 0.2), NodeWithScore(node=doc2, score = 10.0)]\n",
    "\n",
    "        return retrieve_nodes\n",
    "    \n",
    "chat_engine = ContextChatEngine.from_defaults(retriever=CustomRetriever, verbose=True, service_context=service_context)\n",
    "\n",
    "chat_engine.chat(\"What are advanced transitions?\")"
   ]
  },
  {
   "cell_type": "markdown",
   "metadata": {},
   "source": [
    "### API friendly version"
   ]
  },
  {
   "cell_type": "markdown",
   "metadata": {},
   "source": [
    "### This creates a new llamaindex compatible Azure Search Index"
   ]
  },
  {
   "cell_type": "code",
   "execution_count": 197,
   "metadata": {},
   "outputs": [],
   "source": [
    "def create_azure_index(index_client, index_name : str, metadata_fields : dict, llm, emb_llm, filepath) -> str:\n",
    "    \n",
    "    \"\"\"\n",
    "    Spins up an azure cognitive search index.\n",
    "    Will delete any index named as such so BE CAREFUL\n",
    "    \"\"\"\n",
    "    \n",
    "    vector_store = CognitiveSearchVectorStore(  \n",
    "    search_or_index_client=index_client,  \n",
    "    index_name=index_name,  \n",
    "    filterable_metadata_field_keys=metadata_fields,  \n",
    "    index_management=IndexManagement.CREATE_IF_NOT_EXISTS,  \n",
    "    id_field_key=\"id\",  \n",
    "    chunk_field_key=\"content\",  \n",
    "    embedding_field_key=\"content_vector\",  \n",
    "    metadata_string_field_key=\"metadata\",  \n",
    "    doc_id_field_key=\"doc_id\",  \n",
    ")\n",
    "    \n",
    "    storage_context = StorageContext.from_defaults(vector_store=vector_store)\n",
    "    service_context = ServiceContext.from_defaults(llm=llm, embed_model=emb_llm)\n",
    "    \n",
    "    documents = SimpleDirectoryReader(filepath).load_data()\n",
    "    \n",
    "    \n",
    "    index = VectorStoreIndex.from_documents(\n",
    "        documents, storage_context=storage_context, service_context=service_context\n",
    ")\n",
    "    \n",
    "    return \"{}\".format(index_name) + \" created\""
   ]
  },
  {
   "cell_type": "code",
   "execution_count": null,
   "metadata": {},
   "outputs": [],
   "source": [
    "create_azure_index()"
   ]
  },
  {
   "cell_type": "markdown",
   "metadata": {},
   "source": [
    "### This allows you to query that index"
   ]
  },
  {
   "cell_type": "code",
   "execution_count": 200,
   "metadata": {},
   "outputs": [],
   "source": [
    "# Create a custom class that calls on search client\n",
    "class AzureQueryEngine(CustomQueryEngine):\n",
    "    \"\"\"Azure Custom Query.\"\"\"\n",
    "\n",
    "    search_client : SearchClient\n",
    "    response_synthesizer: BaseSynthesizer\n",
    "    \n",
    "    def custom_query(self, query_str: str):\n",
    "        \n",
    "        nodes = []\n",
    "        \n",
    "        results = self.search_client.search(search_text=query_str, top=3)\n",
    "\n",
    "        for i in results:\n",
    "            nodes.append(NodeWithScore(node=Node(text=i[\"content\"]), score=i['@search.score']))\n",
    "\n",
    "        response_obj = self.response_synthesizer.synthesize(query_str, nodes)\n",
    "        return response_obj"
   ]
  },
  {
   "cell_type": "code",
   "execution_count": 203,
   "metadata": {},
   "outputs": [
    {
     "ename": "ServiceRequestError",
     "evalue": "<urllib3.connection.HTTPSConnection object at 0x0000026FBE1A3C10>: Failed to establish a new connection: [Errno 11001] getaddrinfo failed",
     "output_type": "error",
     "traceback": [
      "\u001b[1;31m---------------------------------------------------------------------------\u001b[0m",
      "\u001b[1;31mServiceRequestError\u001b[0m                       Traceback (most recent call last)",
      "\u001b[1;32mx:\\GitHub\\chat130\\test_notebooks\\llamatest.ipynb Cell 20\u001b[0m line \u001b[0;36m8\n\u001b[0;32m      <a href='vscode-notebook-cell:/x%3A/GitHub/chat130/test_notebooks/llamatest.ipynb#Y122sZmlsZQ%3D%3D?line=4'>5</a>\u001b[0m synthesizer \u001b[39m=\u001b[39m get_response_synthesizer(response_mode\u001b[39m=\u001b[39m\u001b[39m\"\u001b[39m\u001b[39mcompact\u001b[39m\u001b[39m\"\u001b[39m, service_context\u001b[39m=\u001b[39mservice_context)\n\u001b[0;32m      <a href='vscode-notebook-cell:/x%3A/GitHub/chat130/test_notebooks/llamatest.ipynb#Y122sZmlsZQ%3D%3D?line=5'>6</a>\u001b[0m query_engine \u001b[39m=\u001b[39m AzureQueryEngine(response_synthesizer\u001b[39m=\u001b[39msynthesizer)\n\u001b[1;32m----> <a href='vscode-notebook-cell:/x%3A/GitHub/chat130/test_notebooks/llamatest.ipynb#Y122sZmlsZQ%3D%3D?line=7'>8</a>\u001b[0m response \u001b[39m=\u001b[39m query_engine\u001b[39m.\u001b[39;49mquery(\u001b[39m\"\u001b[39;49m\u001b[39mWhat are advanced transitions?\u001b[39;49m\u001b[39m\"\u001b[39;49m)\n\u001b[0;32m     <a href='vscode-notebook-cell:/x%3A/GitHub/chat130/test_notebooks/llamatest.ipynb#Y122sZmlsZQ%3D%3D?line=9'>10</a>\u001b[0m \u001b[39mprint\u001b[39m(\u001b[39mstr\u001b[39m(response))\n",
      "File \u001b[1;32mx:\\GitHub\\chat130\\.venv\\Lib\\site-packages\\llama_index\\query_engine\\custom.py:42\u001b[0m, in \u001b[0;36mCustomQueryEngine.query\u001b[1;34m(self, str_or_query_bundle)\u001b[0m\n\u001b[0;32m     40\u001b[0m \u001b[39melse\u001b[39;00m:\n\u001b[0;32m     41\u001b[0m     query_str \u001b[39m=\u001b[39m str_or_query_bundle\n\u001b[1;32m---> 42\u001b[0m raw_response \u001b[39m=\u001b[39m \u001b[39mself\u001b[39;49m\u001b[39m.\u001b[39;49mcustom_query(query_str)\n\u001b[0;32m     43\u001b[0m response \u001b[39m=\u001b[39m (\n\u001b[0;32m     44\u001b[0m     Response(raw_response)\n\u001b[0;32m     45\u001b[0m     \u001b[39mif\u001b[39;00m \u001b[39misinstance\u001b[39m(raw_response, \u001b[39mstr\u001b[39m)\n\u001b[0;32m     46\u001b[0m     \u001b[39melse\u001b[39;00m raw_response\n\u001b[0;32m     47\u001b[0m )\n\u001b[0;32m     48\u001b[0m \u001b[39mreturn\u001b[39;00m response\n",
      "\u001b[1;32mx:\\GitHub\\chat130\\test_notebooks\\llamatest.ipynb Cell 20\u001b[0m line \u001b[0;36m1\n\u001b[0;32m     <a href='vscode-notebook-cell:/x%3A/GitHub/chat130/test_notebooks/llamatest.ipynb#Y122sZmlsZQ%3D%3D?line=9'>10</a>\u001b[0m nodes \u001b[39m=\u001b[39m []\n\u001b[0;32m     <a href='vscode-notebook-cell:/x%3A/GitHub/chat130/test_notebooks/llamatest.ipynb#Y122sZmlsZQ%3D%3D?line=11'>12</a>\u001b[0m results \u001b[39m=\u001b[39m search_client\u001b[39m.\u001b[39msearch(search_text\u001b[39m=\u001b[39mquery_str, top\u001b[39m=\u001b[39m\u001b[39m3\u001b[39m)\n\u001b[1;32m---> <a href='vscode-notebook-cell:/x%3A/GitHub/chat130/test_notebooks/llamatest.ipynb#Y122sZmlsZQ%3D%3D?line=13'>14</a>\u001b[0m \u001b[39mfor\u001b[39;00m i \u001b[39min\u001b[39;00m results:\n\u001b[0;32m     <a href='vscode-notebook-cell:/x%3A/GitHub/chat130/test_notebooks/llamatest.ipynb#Y122sZmlsZQ%3D%3D?line=14'>15</a>\u001b[0m     nodes\u001b[39m.\u001b[39mappend(NodeWithScore(node\u001b[39m=\u001b[39mNode(text\u001b[39m=\u001b[39mi[\u001b[39m\"\u001b[39m\u001b[39mcontent\u001b[39m\u001b[39m\"\u001b[39m]), score\u001b[39m=\u001b[39mi[\u001b[39m'\u001b[39m\u001b[39m@search.score\u001b[39m\u001b[39m'\u001b[39m]))\n\u001b[0;32m     <a href='vscode-notebook-cell:/x%3A/GitHub/chat130/test_notebooks/llamatest.ipynb#Y122sZmlsZQ%3D%3D?line=16'>17</a>\u001b[0m response_obj \u001b[39m=\u001b[39m \u001b[39mself\u001b[39m\u001b[39m.\u001b[39mresponse_synthesizer\u001b[39m.\u001b[39msynthesize(query_str, nodes)\n",
      "File \u001b[1;32mx:\\GitHub\\chat130\\.venv\\Lib\\site-packages\\azure\\search\\documents\\_paging.py:54\u001b[0m, in \u001b[0;36mSearchItemPaged.__next__\u001b[1;34m(self)\u001b[0m\n\u001b[0;32m     52\u001b[0m     first_iterator \u001b[39m=\u001b[39m \u001b[39mself\u001b[39m\u001b[39m.\u001b[39m_first_iterator_instance()\n\u001b[0;32m     53\u001b[0m     \u001b[39mself\u001b[39m\u001b[39m.\u001b[39m_page_iterator \u001b[39m=\u001b[39m itertools\u001b[39m.\u001b[39mchain\u001b[39m.\u001b[39mfrom_iterable(first_iterator)\n\u001b[1;32m---> 54\u001b[0m \u001b[39mreturn\u001b[39;00m \u001b[39mnext\u001b[39m(\u001b[39mself\u001b[39m\u001b[39m.\u001b[39m_page_iterator)\n",
      "File \u001b[1;32mx:\\GitHub\\chat130\\.venv\\Lib\\site-packages\\azure\\core\\paging.py:75\u001b[0m, in \u001b[0;36mPageIterator.__next__\u001b[1;34m(self)\u001b[0m\n\u001b[0;32m     73\u001b[0m     \u001b[39mraise\u001b[39;00m \u001b[39mStopIteration\u001b[39;00m(\u001b[39m\"\u001b[39m\u001b[39mEnd of paging\u001b[39m\u001b[39m\"\u001b[39m)\n\u001b[0;32m     74\u001b[0m \u001b[39mtry\u001b[39;00m:\n\u001b[1;32m---> 75\u001b[0m     \u001b[39mself\u001b[39m\u001b[39m.\u001b[39m_response \u001b[39m=\u001b[39m \u001b[39mself\u001b[39;49m\u001b[39m.\u001b[39;49m_get_next(\u001b[39mself\u001b[39;49m\u001b[39m.\u001b[39;49mcontinuation_token)\n\u001b[0;32m     76\u001b[0m \u001b[39mexcept\u001b[39;00m AzureError \u001b[39mas\u001b[39;00m error:\n\u001b[0;32m     77\u001b[0m     \u001b[39mif\u001b[39;00m \u001b[39mnot\u001b[39;00m error\u001b[39m.\u001b[39mcontinuation_token:\n",
      "File \u001b[1;32mx:\\GitHub\\chat130\\.venv\\Lib\\site-packages\\azure\\search\\documents\\_paging.py:124\u001b[0m, in \u001b[0;36mSearchPageIterator._get_next_cb\u001b[1;34m(self, continuation_token)\u001b[0m\n\u001b[0;32m    122\u001b[0m \u001b[39mdef\u001b[39;00m \u001b[39m_get_next_cb\u001b[39m(\u001b[39mself\u001b[39m, continuation_token):\n\u001b[0;32m    123\u001b[0m     \u001b[39mif\u001b[39;00m continuation_token \u001b[39mis\u001b[39;00m \u001b[39mNone\u001b[39;00m:\n\u001b[1;32m--> 124\u001b[0m         \u001b[39mreturn\u001b[39;00m \u001b[39mself\u001b[39;49m\u001b[39m.\u001b[39;49m_client\u001b[39m.\u001b[39;49mdocuments\u001b[39m.\u001b[39;49msearch_post(search_request\u001b[39m=\u001b[39;49m\u001b[39mself\u001b[39;49m\u001b[39m.\u001b[39;49m_initial_query\u001b[39m.\u001b[39;49mrequest, \u001b[39m*\u001b[39;49m\u001b[39m*\u001b[39;49m\u001b[39mself\u001b[39;49m\u001b[39m.\u001b[39;49m_kwargs)\n\u001b[0;32m    126\u001b[0m     _next_link, next_page_request \u001b[39m=\u001b[39m unpack_continuation_token(continuation_token)\n\u001b[0;32m    128\u001b[0m     \u001b[39mreturn\u001b[39;00m \u001b[39mself\u001b[39m\u001b[39m.\u001b[39m_client\u001b[39m.\u001b[39mdocuments\u001b[39m.\u001b[39msearch_post(search_request\u001b[39m=\u001b[39mnext_page_request, \u001b[39m*\u001b[39m\u001b[39m*\u001b[39m\u001b[39mself\u001b[39m\u001b[39m.\u001b[39m_kwargs)\n",
      "File \u001b[1;32mx:\\GitHub\\chat130\\.venv\\Lib\\site-packages\\azure\\core\\tracing\\decorator.py:78\u001b[0m, in \u001b[0;36mdistributed_trace.<locals>.decorator.<locals>.wrapper_use_tracer\u001b[1;34m(*args, **kwargs)\u001b[0m\n\u001b[0;32m     76\u001b[0m span_impl_type \u001b[39m=\u001b[39m settings\u001b[39m.\u001b[39mtracing_implementation()\n\u001b[0;32m     77\u001b[0m \u001b[39mif\u001b[39;00m span_impl_type \u001b[39mis\u001b[39;00m \u001b[39mNone\u001b[39;00m:\n\u001b[1;32m---> 78\u001b[0m     \u001b[39mreturn\u001b[39;00m func(\u001b[39m*\u001b[39;49margs, \u001b[39m*\u001b[39;49m\u001b[39m*\u001b[39;49mkwargs)\n\u001b[0;32m     80\u001b[0m \u001b[39m# Merge span is parameter is set, but only if no explicit parent are passed\u001b[39;00m\n\u001b[0;32m     81\u001b[0m \u001b[39mif\u001b[39;00m merge_span \u001b[39mand\u001b[39;00m \u001b[39mnot\u001b[39;00m passed_in_parent:\n",
      "File \u001b[1;32mx:\\GitHub\\chat130\\.venv\\Lib\\site-packages\\azure\\search\\documents\\_generated\\operations\\_documents_operations.py:778\u001b[0m, in \u001b[0;36mDocumentsOperations.search_post\u001b[1;34m(self, search_request, request_options, **kwargs)\u001b[0m\n\u001b[0;32m    775\u001b[0m request\u001b[39m.\u001b[39murl \u001b[39m=\u001b[39m \u001b[39mself\u001b[39m\u001b[39m.\u001b[39m_client\u001b[39m.\u001b[39mformat_url(request\u001b[39m.\u001b[39murl, \u001b[39m*\u001b[39m\u001b[39m*\u001b[39mpath_format_arguments)\n\u001b[0;32m    777\u001b[0m _stream \u001b[39m=\u001b[39m \u001b[39mFalse\u001b[39;00m\n\u001b[1;32m--> 778\u001b[0m pipeline_response: PipelineResponse \u001b[39m=\u001b[39m \u001b[39mself\u001b[39;49m\u001b[39m.\u001b[39;49m_client\u001b[39m.\u001b[39;49m_pipeline\u001b[39m.\u001b[39;49mrun(  \u001b[39m# pylint: disable=protected-access\u001b[39;49;00m\n\u001b[0;32m    779\u001b[0m     request, stream\u001b[39m=\u001b[39;49m_stream, \u001b[39m*\u001b[39;49m\u001b[39m*\u001b[39;49mkwargs\n\u001b[0;32m    780\u001b[0m )\n\u001b[0;32m    782\u001b[0m response \u001b[39m=\u001b[39m pipeline_response\u001b[39m.\u001b[39mhttp_response\n\u001b[0;32m    784\u001b[0m \u001b[39mif\u001b[39;00m response\u001b[39m.\u001b[39mstatus_code \u001b[39mnot\u001b[39;00m \u001b[39min\u001b[39;00m [\u001b[39m200\u001b[39m]:\n",
      "File \u001b[1;32mx:\\GitHub\\chat130\\.venv\\Lib\\site-packages\\azure\\core\\pipeline\\_base.py:230\u001b[0m, in \u001b[0;36mPipeline.run\u001b[1;34m(self, request, **kwargs)\u001b[0m\n\u001b[0;32m    228\u001b[0m pipeline_request: PipelineRequest[HTTPRequestType] \u001b[39m=\u001b[39m PipelineRequest(request, context)\n\u001b[0;32m    229\u001b[0m first_node \u001b[39m=\u001b[39m \u001b[39mself\u001b[39m\u001b[39m.\u001b[39m_impl_policies[\u001b[39m0\u001b[39m] \u001b[39mif\u001b[39;00m \u001b[39mself\u001b[39m\u001b[39m.\u001b[39m_impl_policies \u001b[39melse\u001b[39;00m _TransportRunner(\u001b[39mself\u001b[39m\u001b[39m.\u001b[39m_transport)\n\u001b[1;32m--> 230\u001b[0m \u001b[39mreturn\u001b[39;00m first_node\u001b[39m.\u001b[39;49msend(pipeline_request)\n",
      "File \u001b[1;32mx:\\GitHub\\chat130\\.venv\\Lib\\site-packages\\azure\\core\\pipeline\\_base.py:86\u001b[0m, in \u001b[0;36m_SansIOHTTPPolicyRunner.send\u001b[1;34m(self, request)\u001b[0m\n\u001b[0;32m     84\u001b[0m _await_result(\u001b[39mself\u001b[39m\u001b[39m.\u001b[39m_policy\u001b[39m.\u001b[39mon_request, request)\n\u001b[0;32m     85\u001b[0m \u001b[39mtry\u001b[39;00m:\n\u001b[1;32m---> 86\u001b[0m     response \u001b[39m=\u001b[39m \u001b[39mself\u001b[39;49m\u001b[39m.\u001b[39;49mnext\u001b[39m.\u001b[39;49msend(request)\n\u001b[0;32m     87\u001b[0m \u001b[39mexcept\u001b[39;00m \u001b[39mException\u001b[39;00m:  \u001b[39m# pylint: disable=broad-except\u001b[39;00m\n\u001b[0;32m     88\u001b[0m     _await_result(\u001b[39mself\u001b[39m\u001b[39m.\u001b[39m_policy\u001b[39m.\u001b[39mon_exception, request)\n",
      "File \u001b[1;32mx:\\GitHub\\chat130\\.venv\\Lib\\site-packages\\azure\\core\\pipeline\\_base.py:86\u001b[0m, in \u001b[0;36m_SansIOHTTPPolicyRunner.send\u001b[1;34m(self, request)\u001b[0m\n\u001b[0;32m     84\u001b[0m _await_result(\u001b[39mself\u001b[39m\u001b[39m.\u001b[39m_policy\u001b[39m.\u001b[39mon_request, request)\n\u001b[0;32m     85\u001b[0m \u001b[39mtry\u001b[39;00m:\n\u001b[1;32m---> 86\u001b[0m     response \u001b[39m=\u001b[39m \u001b[39mself\u001b[39;49m\u001b[39m.\u001b[39;49mnext\u001b[39m.\u001b[39;49msend(request)\n\u001b[0;32m     87\u001b[0m \u001b[39mexcept\u001b[39;00m \u001b[39mException\u001b[39;00m:  \u001b[39m# pylint: disable=broad-except\u001b[39;00m\n\u001b[0;32m     88\u001b[0m     _await_result(\u001b[39mself\u001b[39m\u001b[39m.\u001b[39m_policy\u001b[39m.\u001b[39mon_exception, request)\n",
      "    \u001b[1;31m[... skipping similar frames: _SansIOHTTPPolicyRunner.send at line 86 (2 times)]\u001b[0m\n",
      "File \u001b[1;32mx:\\GitHub\\chat130\\.venv\\Lib\\site-packages\\azure\\core\\pipeline\\_base.py:86\u001b[0m, in \u001b[0;36m_SansIOHTTPPolicyRunner.send\u001b[1;34m(self, request)\u001b[0m\n\u001b[0;32m     84\u001b[0m _await_result(\u001b[39mself\u001b[39m\u001b[39m.\u001b[39m_policy\u001b[39m.\u001b[39mon_request, request)\n\u001b[0;32m     85\u001b[0m \u001b[39mtry\u001b[39;00m:\n\u001b[1;32m---> 86\u001b[0m     response \u001b[39m=\u001b[39m \u001b[39mself\u001b[39;49m\u001b[39m.\u001b[39;49mnext\u001b[39m.\u001b[39;49msend(request)\n\u001b[0;32m     87\u001b[0m \u001b[39mexcept\u001b[39;00m \u001b[39mException\u001b[39;00m:  \u001b[39m# pylint: disable=broad-except\u001b[39;00m\n\u001b[0;32m     88\u001b[0m     _await_result(\u001b[39mself\u001b[39m\u001b[39m.\u001b[39m_policy\u001b[39m.\u001b[39mon_exception, request)\n",
      "File \u001b[1;32mx:\\GitHub\\chat130\\.venv\\Lib\\site-packages\\azure\\core\\pipeline\\policies\\_redirect.py:197\u001b[0m, in \u001b[0;36mRedirectPolicy.send\u001b[1;34m(self, request)\u001b[0m\n\u001b[0;32m    195\u001b[0m original_domain \u001b[39m=\u001b[39m get_domain(request\u001b[39m.\u001b[39mhttp_request\u001b[39m.\u001b[39murl) \u001b[39mif\u001b[39;00m redirect_settings[\u001b[39m\"\u001b[39m\u001b[39mallow\u001b[39m\u001b[39m\"\u001b[39m] \u001b[39melse\u001b[39;00m \u001b[39mNone\u001b[39;00m\n\u001b[0;32m    196\u001b[0m \u001b[39mwhile\u001b[39;00m retryable:\n\u001b[1;32m--> 197\u001b[0m     response \u001b[39m=\u001b[39m \u001b[39mself\u001b[39;49m\u001b[39m.\u001b[39;49mnext\u001b[39m.\u001b[39;49msend(request)\n\u001b[0;32m    198\u001b[0m     redirect_location \u001b[39m=\u001b[39m \u001b[39mself\u001b[39m\u001b[39m.\u001b[39mget_redirect_location(response)\n\u001b[0;32m    199\u001b[0m     \u001b[39mif\u001b[39;00m redirect_location \u001b[39mand\u001b[39;00m redirect_settings[\u001b[39m\"\u001b[39m\u001b[39mallow\u001b[39m\u001b[39m\"\u001b[39m]:\n",
      "File \u001b[1;32mx:\\GitHub\\chat130\\.venv\\Lib\\site-packages\\azure\\core\\pipeline\\policies\\_retry.py:553\u001b[0m, in \u001b[0;36mRetryPolicy.send\u001b[1;34m(self, request)\u001b[0m\n\u001b[0;32m    551\u001b[0m                 is_response_error \u001b[39m=\u001b[39m \u001b[39mTrue\u001b[39;00m\n\u001b[0;32m    552\u001b[0m             \u001b[39mcontinue\u001b[39;00m\n\u001b[1;32m--> 553\u001b[0m     \u001b[39mraise\u001b[39;00m err\n\u001b[0;32m    554\u001b[0m \u001b[39mfinally\u001b[39;00m:\n\u001b[0;32m    555\u001b[0m     end_time \u001b[39m=\u001b[39m time\u001b[39m.\u001b[39mtime()\n",
      "File \u001b[1;32mx:\\GitHub\\chat130\\.venv\\Lib\\site-packages\\azure\\core\\pipeline\\policies\\_retry.py:531\u001b[0m, in \u001b[0;36mRetryPolicy.send\u001b[1;34m(self, request)\u001b[0m\n\u001b[0;32m    529\u001b[0m \u001b[39mtry\u001b[39;00m:\n\u001b[0;32m    530\u001b[0m     \u001b[39mself\u001b[39m\u001b[39m.\u001b[39m_configure_timeout(request, absolute_timeout, is_response_error)\n\u001b[1;32m--> 531\u001b[0m     response \u001b[39m=\u001b[39m \u001b[39mself\u001b[39;49m\u001b[39m.\u001b[39;49mnext\u001b[39m.\u001b[39;49msend(request)\n\u001b[0;32m    532\u001b[0m     \u001b[39mif\u001b[39;00m \u001b[39mself\u001b[39m\u001b[39m.\u001b[39mis_retry(retry_settings, response):\n\u001b[0;32m    533\u001b[0m         retry_active \u001b[39m=\u001b[39m \u001b[39mself\u001b[39m\u001b[39m.\u001b[39mincrement(retry_settings, response\u001b[39m=\u001b[39mresponse)\n",
      "File \u001b[1;32mx:\\GitHub\\chat130\\.venv\\Lib\\site-packages\\azure\\core\\pipeline\\_base.py:86\u001b[0m, in \u001b[0;36m_SansIOHTTPPolicyRunner.send\u001b[1;34m(self, request)\u001b[0m\n\u001b[0;32m     84\u001b[0m _await_result(\u001b[39mself\u001b[39m\u001b[39m.\u001b[39m_policy\u001b[39m.\u001b[39mon_request, request)\n\u001b[0;32m     85\u001b[0m \u001b[39mtry\u001b[39;00m:\n\u001b[1;32m---> 86\u001b[0m     response \u001b[39m=\u001b[39m \u001b[39mself\u001b[39;49m\u001b[39m.\u001b[39;49mnext\u001b[39m.\u001b[39;49msend(request)\n\u001b[0;32m     87\u001b[0m \u001b[39mexcept\u001b[39;00m \u001b[39mException\u001b[39;00m:  \u001b[39m# pylint: disable=broad-except\u001b[39;00m\n\u001b[0;32m     88\u001b[0m     _await_result(\u001b[39mself\u001b[39m\u001b[39m.\u001b[39m_policy\u001b[39m.\u001b[39mon_exception, request)\n",
      "File \u001b[1;32mx:\\GitHub\\chat130\\.venv\\Lib\\site-packages\\azure\\core\\pipeline\\_base.py:86\u001b[0m, in \u001b[0;36m_SansIOHTTPPolicyRunner.send\u001b[1;34m(self, request)\u001b[0m\n\u001b[0;32m     84\u001b[0m _await_result(\u001b[39mself\u001b[39m\u001b[39m.\u001b[39m_policy\u001b[39m.\u001b[39mon_request, request)\n\u001b[0;32m     85\u001b[0m \u001b[39mtry\u001b[39;00m:\n\u001b[1;32m---> 86\u001b[0m     response \u001b[39m=\u001b[39m \u001b[39mself\u001b[39;49m\u001b[39m.\u001b[39;49mnext\u001b[39m.\u001b[39;49msend(request)\n\u001b[0;32m     87\u001b[0m \u001b[39mexcept\u001b[39;00m \u001b[39mException\u001b[39;00m:  \u001b[39m# pylint: disable=broad-except\u001b[39;00m\n\u001b[0;32m     88\u001b[0m     _await_result(\u001b[39mself\u001b[39m\u001b[39m.\u001b[39m_policy\u001b[39m.\u001b[39mon_exception, request)\n",
      "    \u001b[1;31m[... skipping similar frames: _SansIOHTTPPolicyRunner.send at line 86 (2 times)]\u001b[0m\n",
      "File \u001b[1;32mx:\\GitHub\\chat130\\.venv\\Lib\\site-packages\\azure\\core\\pipeline\\_base.py:86\u001b[0m, in \u001b[0;36m_SansIOHTTPPolicyRunner.send\u001b[1;34m(self, request)\u001b[0m\n\u001b[0;32m     84\u001b[0m _await_result(\u001b[39mself\u001b[39m\u001b[39m.\u001b[39m_policy\u001b[39m.\u001b[39mon_request, request)\n\u001b[0;32m     85\u001b[0m \u001b[39mtry\u001b[39;00m:\n\u001b[1;32m---> 86\u001b[0m     response \u001b[39m=\u001b[39m \u001b[39mself\u001b[39;49m\u001b[39m.\u001b[39;49mnext\u001b[39m.\u001b[39;49msend(request)\n\u001b[0;32m     87\u001b[0m \u001b[39mexcept\u001b[39;00m \u001b[39mException\u001b[39;00m:  \u001b[39m# pylint: disable=broad-except\u001b[39;00m\n\u001b[0;32m     88\u001b[0m     _await_result(\u001b[39mself\u001b[39m\u001b[39m.\u001b[39m_policy\u001b[39m.\u001b[39mon_exception, request)\n",
      "File \u001b[1;32mx:\\GitHub\\chat130\\.venv\\Lib\\site-packages\\azure\\core\\pipeline\\_base.py:119\u001b[0m, in \u001b[0;36m_TransportRunner.send\u001b[1;34m(self, request)\u001b[0m\n\u001b[0;32m    109\u001b[0m \u001b[39m\u001b[39m\u001b[39m\"\"\"HTTP transport send method.\u001b[39;00m\n\u001b[0;32m    110\u001b[0m \n\u001b[0;32m    111\u001b[0m \u001b[39m:param request: The PipelineRequest object.\u001b[39;00m\n\u001b[1;32m   (...)\u001b[0m\n\u001b[0;32m    114\u001b[0m \u001b[39m:rtype: ~azure.core.pipeline.PipelineResponse\u001b[39;00m\n\u001b[0;32m    115\u001b[0m \u001b[39m\"\"\"\u001b[39;00m\n\u001b[0;32m    116\u001b[0m cleanup_kwargs_for_transport(request\u001b[39m.\u001b[39mcontext\u001b[39m.\u001b[39moptions)\n\u001b[0;32m    117\u001b[0m \u001b[39mreturn\u001b[39;00m PipelineResponse(\n\u001b[0;32m    118\u001b[0m     request\u001b[39m.\u001b[39mhttp_request,\n\u001b[1;32m--> 119\u001b[0m     \u001b[39mself\u001b[39;49m\u001b[39m.\u001b[39;49m_sender\u001b[39m.\u001b[39;49msend(request\u001b[39m.\u001b[39;49mhttp_request, \u001b[39m*\u001b[39;49m\u001b[39m*\u001b[39;49mrequest\u001b[39m.\u001b[39;49mcontext\u001b[39m.\u001b[39;49moptions),\n\u001b[0;32m    120\u001b[0m     context\u001b[39m=\u001b[39mrequest\u001b[39m.\u001b[39mcontext,\n\u001b[0;32m    121\u001b[0m )\n",
      "File \u001b[1;32mx:\\GitHub\\chat130\\.venv\\Lib\\site-packages\\azure\\core\\pipeline\\transport\\_requests_basic.py:381\u001b[0m, in \u001b[0;36mRequestsTransport.send\u001b[1;34m(self, request, **kwargs)\u001b[0m\n\u001b[0;32m    378\u001b[0m     error \u001b[39m=\u001b[39m ServiceRequestError(err, error\u001b[39m=\u001b[39merr)\n\u001b[0;32m    380\u001b[0m \u001b[39mif\u001b[39;00m error:\n\u001b[1;32m--> 381\u001b[0m     \u001b[39mraise\u001b[39;00m error\n\u001b[0;32m    382\u001b[0m \u001b[39mif\u001b[39;00m _is_rest(request):\n\u001b[0;32m    383\u001b[0m     \u001b[39mfrom\u001b[39;00m \u001b[39mazure\u001b[39;00m\u001b[39m.\u001b[39;00m\u001b[39mcore\u001b[39;00m\u001b[39m.\u001b[39;00m\u001b[39mrest\u001b[39;00m\u001b[39m.\u001b[39;00m\u001b[39m_requests_basic\u001b[39;00m \u001b[39mimport\u001b[39;00m RestRequestsTransportResponse\n",
      "\u001b[1;31mServiceRequestError\u001b[0m: <urllib3.connection.HTTPSConnection object at 0x0000026FBE1A3C10>: Failed to establish a new connection: [Errno 11001] getaddrinfo failed"
     ]
    }
   ],
   "source": [
    "service_context = ServiceContext.from_defaults(llm=llm, embed_model=emb_llm)\n",
    "\n",
    "search_client = SearchClient(endpoint=service_endpoint, index_name=\"llamaindex-demo\", credential=credential)\n",
    "   \n",
    "synthesizer = get_response_synthesizer(response_mode=\"compact\", service_context=service_context)\n",
    "query_engine = AzureQueryEngine(search_client=search_client, response_synthesizer=synthesizer)\n",
    "\n",
    "response = query_engine.query(\"What are advanced transitions?\")\n",
    "\n",
    "print(str(response))"
   ]
  },
  {
   "cell_type": "code",
   "execution_count": 202,
   "metadata": {},
   "outputs": [],
   "source": [
    "# Create a custom class that calls on search client\n",
    "class AzureQueryEngine(CustomQueryEngine):\n",
    "    \"\"\"Azure Custom Query.\"\"\"\n",
    "\n",
    "    # search_client : SearchClient\n",
    "    response_synthesizer: BaseSynthesizer\n",
    "    \n",
    "    def custom_query(self, query_str: str):\n",
    "        \n",
    "        nodes = []\n",
    "        \n",
    "        results = search_client.search(search_text=query_str, top=3)\n",
    "\n",
    "        for i in results:\n",
    "            nodes.append(NodeWithScore(node=Node(text=i[\"content\"]), score=i['@search.score']))\n",
    "\n",
    "        response_obj = self.response_synthesizer.synthesize(query_str, nodes)\n",
    "        return response_obj"
   ]
  },
  {
   "cell_type": "code",
   "execution_count": null,
   "metadata": {},
   "outputs": [],
   "source": []
  }
 ],
 "metadata": {
  "kernelspec": {
   "display_name": ".venv",
   "language": "python",
   "name": "python3"
  },
  "language_info": {
   "codemirror_mode": {
    "name": "ipython",
    "version": 3
   },
   "file_extension": ".py",
   "mimetype": "text/x-python",
   "name": "python",
   "nbconvert_exporter": "python",
   "pygments_lexer": "ipython3",
   "version": "3.11.5"
  },
  "orig_nbformat": 4
 },
 "nbformat": 4,
 "nbformat_minor": 2
}
