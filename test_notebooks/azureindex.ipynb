{
 "cells": [
  {
   "cell_type": "code",
   "execution_count": null,
   "metadata": {},
   "outputs": [],
   "source": [
    "! pip install azure-search-documents --pre\n",
    "! pip install python-dotenv"
   ]
  },
  {
   "cell_type": "code",
   "execution_count": 1,
   "metadata": {},
   "outputs": [],
   "source": [
    "# Import required libraries  \n",
    "import os  \n",
    "import json  \n",
    "import openai\n",
    "import keys\n",
    "from dotenv import load_dotenv  \n",
    "from tenacity import retry, wait_random_exponential, stop_after_attempt  \n",
    "from azure.core.credentials import AzureKeyCredential  \n",
    "from azure.search.documents import SearchClient  \n",
    "from azure.search.documents.indexes import SearchIndexClient  \n",
    "from azure.search.documents.models import Vector  \n",
    "from azure.search.documents.indexes.models import (  \n",
    "    SearchIndex,  \n",
    "    SearchField,  \n",
    "    SearchFieldDataType,  \n",
    "    SimpleField,  \n",
    "    SearchableField,  \n",
    "    SearchIndex,  \n",
    "    SemanticConfiguration,  \n",
    "    PrioritizedFields,  \n",
    "    SemanticField,  \n",
    "    SearchField,  \n",
    "    SemanticSettings,  \n",
    "    VectorSearch,  \n",
    "    HnswVectorSearchAlgorithmConfiguration,  \n",
    ")  \n",
    "  \n",
    "# Configure environment variables  \n",
    "load_dotenv()  \n",
    "service_endpoint = \"https://rsaf-cognitive-search-service-us.search.windows.net\"\n",
    "index_name = \"rsaf-cognitive-search\"\n",
    "key = keys.cognitive_key\n",
    "openai.api_type = \"azure\"\n",
    "openai.api_key = \"0e576c031e5446e19cc6d866ad3d9f3f\"\n",
    "openai.api_base = \"https://raid-ses-openai.openai.azure.com/\"\n",
    "openai.api_version = \"2023-05-15\"\n",
    "credential = AzureKeyCredential(key)"
   ]
  },
  {
   "cell_type": "code",
   "execution_count": 2,
   "metadata": {},
   "outputs": [],
   "source": [
    "client_index = SearchIndexClient(endpoint=service_endpoint, credential=credential)"
   ]
  },
  {
   "cell_type": "code",
   "execution_count": 34,
   "metadata": {},
   "outputs": [],
   "source": [
    "client_index.delete_index(\"chat-demo\")"
   ]
  },
  {
   "cell_type": "code",
   "execution_count": 35,
   "metadata": {},
   "outputs": [
    {
     "name": "stdout",
     "output_type": "stream",
     "text": [
      "chat-demo\n"
     ]
    }
   ],
   "source": [
    "for i in client_index.list_indexes():\n",
    "    print(i.name)"
   ]
  },
  {
   "cell_type": "code",
   "execution_count": 36,
   "metadata": {},
   "outputs": [
    {
     "data": {
      "text/html": [
       "<div>\n",
       "<style scoped>\n",
       "    .dataframe tbody tr th:only-of-type {\n",
       "        vertical-align: middle;\n",
       "    }\n",
       "\n",
       "    .dataframe tbody tr th {\n",
       "        vertical-align: top;\n",
       "    }\n",
       "\n",
       "    .dataframe thead th {\n",
       "        text-align: right;\n",
       "    }\n",
       "</style>\n",
       "<table border=\"1\" class=\"dataframe\">\n",
       "  <thead>\n",
       "    <tr style=\"text-align: right;\">\n",
       "      <th></th>\n",
       "      <th>content</th>\n",
       "      <th>page_label</th>\n",
       "      <th>li_jsonMetadata</th>\n",
       "      <th>embedding</th>\n",
       "      <th>li_doc_id</th>\n",
       "      <th>id</th>\n",
       "      <th>@search.score</th>\n",
       "      <th>@search.reranker_score</th>\n",
       "      <th>@search.highlights</th>\n",
       "      <th>@search.captions</th>\n",
       "    </tr>\n",
       "  </thead>\n",
       "  <tbody>\n",
       "    <tr>\n",
       "      <th>0</th>\n",
       "      <td>OFFICIAL (CLOSED)   \\nA \\nOFFICIAL (CLOSED)   ...</td>\n",
       "      <td>5</td>\n",
       "      <td>{\"page_label\": \"5\", \"file_name\": \"EEM FINAL ca...</td>\n",
       "      <td>[-0.01596086, -0.0031881887, -0.01879963, -0.0...</td>\n",
       "      <td>f7e3e0f0-697c-418c-9fd2-574119b63c84</td>\n",
       "      <td>7a1a2929-1831-43a3-9ada-733bb89813d7</td>\n",
       "      <td>1.0</td>\n",
       "      <td>None</td>\n",
       "      <td>None</td>\n",
       "      <td>None</td>\n",
       "    </tr>\n",
       "  </tbody>\n",
       "</table>\n",
       "</div>"
      ],
      "text/plain": [
       "                                             content  page_label  \\\n",
       "0  OFFICIAL (CLOSED)   \\nA \\nOFFICIAL (CLOSED)   ...           5   \n",
       "\n",
       "                                     li_jsonMetadata  \\\n",
       "0  {\"page_label\": \"5\", \"file_name\": \"EEM FINAL ca...   \n",
       "\n",
       "                                           embedding  \\\n",
       "0  [-0.01596086, -0.0031881887, -0.01879963, -0.0...   \n",
       "\n",
       "                              li_doc_id                                    id  \\\n",
       "0  f7e3e0f0-697c-418c-9fd2-574119b63c84  7a1a2929-1831-43a3-9ada-733bb89813d7   \n",
       "\n",
       "   @search.score @search.reranker_score @search.highlights @search.captions  \n",
       "0            1.0                   None               None             None  "
      ]
     },
     "execution_count": 36,
     "metadata": {},
     "output_type": "execute_result"
    }
   ],
   "source": [
    "search_client = SearchClient(endpoint=service_endpoint, index_name=\"chat-demo\", credential=credential)\n",
    "\n",
    "all_docs = search_client.search(search_text=\"*\", filter=\"page_label eq 5\", top=5)\n",
    "\n",
    "import pandas as pd\n",
    "\n",
    "pd.DataFrame(all_docs)"
   ]
  },
  {
   "cell_type": "code",
   "execution_count": 12,
   "metadata": {},
   "outputs": [],
   "source": [
    "search_client = SearchClient(endpoint=service_endpoint, index_name=\"chat-demo\", credential=credential)"
   ]
  },
  {
   "cell_type": "code",
   "execution_count": 7,
   "metadata": {},
   "outputs": [],
   "source": [
    "results = search_client.search(search_text=\"Advanced Transitions confined spaces\", select=\"content\", top=3)"
   ]
  },
  {
   "cell_type": "code",
   "execution_count": 53,
   "metadata": {},
   "outputs": [],
   "source": [
    "def generate_embeddings(text):\n",
    "    response = openai.Embedding.create(\n",
    "        input=text, engine=\"swiftfaq-ada002\")\n",
    "    embeddings = response['data'][0]['embedding']\n",
    "    return embeddings\n"
   ]
  },
  {
   "cell_type": "code",
   "execution_count": 55,
   "metadata": {},
   "outputs": [
    {
     "ename": "HttpResponseError",
     "evalue": "(FeatureNotSupportedInService) Semantic search is not enabled for this service.\r\nParameter name: queryType\nCode: FeatureNotSupportedInService\nMessage: Semantic search is not enabled for this service.\r\nParameter name: queryType\nException Details:\t(SemanticQueriesNotAvailable) Semantic search is not enabled for this service.\n\tCode: SemanticQueriesNotAvailable\n\tMessage: Semantic search is not enabled for this service.",
     "output_type": "error",
     "traceback": [
      "\u001b[1;31m---------------------------------------------------------------------------\u001b[0m",
      "\u001b[1;31mHttpResponseError\u001b[0m                         Traceback (most recent call last)",
      "\u001b[1;32mx:\\GitHub\\chat130\\test_notebooks\\azureindex.ipynb Cell 9\u001b[0m line \u001b[0;36m1\n\u001b[0;32m      <a href='vscode-notebook-cell:/x%3A/GitHub/chat130/test_notebooks/azureindex.ipynb#X16sZmlsZQ%3D%3D?line=6'>7</a>\u001b[0m vector \u001b[39m=\u001b[39m Vector(value\u001b[39m=\u001b[39mgenerate_embeddings(query), k\u001b[39m=\u001b[39m\u001b[39m3\u001b[39m, fields\u001b[39m=\u001b[39m\u001b[39m\"\u001b[39m\u001b[39mcontentVector\u001b[39m\u001b[39m\"\u001b[39m)  \n\u001b[0;32m      <a href='vscode-notebook-cell:/x%3A/GitHub/chat130/test_notebooks/azureindex.ipynb#X16sZmlsZQ%3D%3D?line=8'>9</a>\u001b[0m results \u001b[39m=\u001b[39m search_client\u001b[39m.\u001b[39msearch(  \n\u001b[0;32m     <a href='vscode-notebook-cell:/x%3A/GitHub/chat130/test_notebooks/azureindex.ipynb#X16sZmlsZQ%3D%3D?line=9'>10</a>\u001b[0m     search_text\u001b[39m=\u001b[39mquery,  \n\u001b[0;32m     <a href='vscode-notebook-cell:/x%3A/GitHub/chat130/test_notebooks/azureindex.ipynb#X16sZmlsZQ%3D%3D?line=10'>11</a>\u001b[0m     vectors\u001b[39m=\u001b[39m[vector],\n\u001b[0;32m     <a href='vscode-notebook-cell:/x%3A/GitHub/chat130/test_notebooks/azureindex.ipynb#X16sZmlsZQ%3D%3D?line=11'>12</a>\u001b[0m     query_type\u001b[39m=\u001b[39m\u001b[39m\"\u001b[39m\u001b[39msemantic\u001b[39m\u001b[39m\"\u001b[39m, query_language\u001b[39m=\u001b[39m\u001b[39m\"\u001b[39m\u001b[39men-us\u001b[39m\u001b[39m\"\u001b[39m, semantic_configuration_name\u001b[39m=\u001b[39m\u001b[39m'\u001b[39m\u001b[39mmy-semantic-config\u001b[39m\u001b[39m'\u001b[39m, query_caption\u001b[39m=\u001b[39m\u001b[39m\"\u001b[39m\u001b[39mextractive\u001b[39m\u001b[39m\"\u001b[39m, query_answer\u001b[39m=\u001b[39m\u001b[39m\"\u001b[39m\u001b[39mextractive\u001b[39m\u001b[39m\"\u001b[39m,\n\u001b[0;32m     <a href='vscode-notebook-cell:/x%3A/GitHub/chat130/test_notebooks/azureindex.ipynb#X16sZmlsZQ%3D%3D?line=12'>13</a>\u001b[0m     top\u001b[39m=\u001b[39m\u001b[39m3\u001b[39m\n\u001b[0;32m     <a href='vscode-notebook-cell:/x%3A/GitHub/chat130/test_notebooks/azureindex.ipynb#X16sZmlsZQ%3D%3D?line=13'>14</a>\u001b[0m )\n\u001b[1;32m---> <a href='vscode-notebook-cell:/x%3A/GitHub/chat130/test_notebooks/azureindex.ipynb#X16sZmlsZQ%3D%3D?line=15'>16</a>\u001b[0m semantic_answers \u001b[39m=\u001b[39m results\u001b[39m.\u001b[39;49mget_answers()\n\u001b[0;32m     <a href='vscode-notebook-cell:/x%3A/GitHub/chat130/test_notebooks/azureindex.ipynb#X16sZmlsZQ%3D%3D?line=16'>17</a>\u001b[0m \u001b[39mfor\u001b[39;00m answer \u001b[39min\u001b[39;00m semantic_answers:\n\u001b[0;32m     <a href='vscode-notebook-cell:/x%3A/GitHub/chat130/test_notebooks/azureindex.ipynb#X16sZmlsZQ%3D%3D?line=17'>18</a>\u001b[0m     \u001b[39mif\u001b[39;00m answer\u001b[39m.\u001b[39mhighlights:\n",
      "File \u001b[1;32mx:\\GitHub\\chat130\\.venv\\Lib\\site-packages\\azure\\search\\documents\\_paging.py:93\u001b[0m, in \u001b[0;36mSearchItemPaged.get_answers\u001b[1;34m(self)\u001b[0m\n\u001b[0;32m     87\u001b[0m \u001b[39mdef\u001b[39;00m \u001b[39mget_answers\u001b[39m(\u001b[39mself\u001b[39m) \u001b[39m-\u001b[39m\u001b[39m>\u001b[39m Optional[List[AnswerResult]]:\n\u001b[0;32m     88\u001b[0m \u001b[39m    \u001b[39m\u001b[39m\"\"\"Return answers.\u001b[39;00m\n\u001b[0;32m     89\u001b[0m \n\u001b[0;32m     90\u001b[0m \u001b[39m    :return: answers\u001b[39;00m\n\u001b[0;32m     91\u001b[0m \u001b[39m    :rtype: list[~azure.search.documents.models.AnswerResult] or None\u001b[39;00m\n\u001b[0;32m     92\u001b[0m \u001b[39m    \"\"\"\u001b[39;00m\n\u001b[1;32m---> 93\u001b[0m     \u001b[39mreturn\u001b[39;00m \u001b[39mself\u001b[39;49m\u001b[39m.\u001b[39;49m_first_iterator_instance()\u001b[39m.\u001b[39;49mget_answers()\n",
      "File \u001b[1;32mx:\\GitHub\\chat130\\.venv\\Lib\\site-packages\\azure\\search\\documents\\_paging.py:102\u001b[0m, in \u001b[0;36m_ensure_response.<locals>.wrapper\u001b[1;34m(self, *args, **kw)\u001b[0m\n\u001b[0;32m    100\u001b[0m \u001b[39mdef\u001b[39;00m \u001b[39mwrapper\u001b[39m(\u001b[39mself\u001b[39m, \u001b[39m*\u001b[39margs, \u001b[39m*\u001b[39m\u001b[39m*\u001b[39mkw):\n\u001b[0;32m    101\u001b[0m     \u001b[39mif\u001b[39;00m \u001b[39mself\u001b[39m\u001b[39m.\u001b[39m_current_page \u001b[39mis\u001b[39;00m \u001b[39mNone\u001b[39;00m:\n\u001b[1;32m--> 102\u001b[0m         \u001b[39mself\u001b[39m\u001b[39m.\u001b[39m_response \u001b[39m=\u001b[39m \u001b[39mself\u001b[39;49m\u001b[39m.\u001b[39;49m_get_next(\u001b[39mself\u001b[39;49m\u001b[39m.\u001b[39;49mcontinuation_token)\n\u001b[0;32m    103\u001b[0m         \u001b[39mself\u001b[39m\u001b[39m.\u001b[39mcontinuation_token, \u001b[39mself\u001b[39m\u001b[39m.\u001b[39m_current_page \u001b[39m=\u001b[39m \u001b[39mself\u001b[39m\u001b[39m.\u001b[39m_extract_data(\u001b[39mself\u001b[39m\u001b[39m.\u001b[39m_response)\n\u001b[0;32m    104\u001b[0m     \u001b[39mreturn\u001b[39;00m f(\u001b[39mself\u001b[39m, \u001b[39m*\u001b[39margs, \u001b[39m*\u001b[39m\u001b[39m*\u001b[39mkw)\n",
      "File \u001b[1;32mx:\\GitHub\\chat130\\.venv\\Lib\\site-packages\\azure\\search\\documents\\_paging.py:124\u001b[0m, in \u001b[0;36mSearchPageIterator._get_next_cb\u001b[1;34m(self, continuation_token)\u001b[0m\n\u001b[0;32m    122\u001b[0m \u001b[39mdef\u001b[39;00m \u001b[39m_get_next_cb\u001b[39m(\u001b[39mself\u001b[39m, continuation_token):\n\u001b[0;32m    123\u001b[0m     \u001b[39mif\u001b[39;00m continuation_token \u001b[39mis\u001b[39;00m \u001b[39mNone\u001b[39;00m:\n\u001b[1;32m--> 124\u001b[0m         \u001b[39mreturn\u001b[39;00m \u001b[39mself\u001b[39;49m\u001b[39m.\u001b[39;49m_client\u001b[39m.\u001b[39;49mdocuments\u001b[39m.\u001b[39;49msearch_post(search_request\u001b[39m=\u001b[39;49m\u001b[39mself\u001b[39;49m\u001b[39m.\u001b[39;49m_initial_query\u001b[39m.\u001b[39;49mrequest, \u001b[39m*\u001b[39;49m\u001b[39m*\u001b[39;49m\u001b[39mself\u001b[39;49m\u001b[39m.\u001b[39;49m_kwargs)\n\u001b[0;32m    126\u001b[0m     _next_link, next_page_request \u001b[39m=\u001b[39m unpack_continuation_token(continuation_token)\n\u001b[0;32m    128\u001b[0m     \u001b[39mreturn\u001b[39;00m \u001b[39mself\u001b[39m\u001b[39m.\u001b[39m_client\u001b[39m.\u001b[39mdocuments\u001b[39m.\u001b[39msearch_post(search_request\u001b[39m=\u001b[39mnext_page_request, \u001b[39m*\u001b[39m\u001b[39m*\u001b[39m\u001b[39mself\u001b[39m\u001b[39m.\u001b[39m_kwargs)\n",
      "File \u001b[1;32mx:\\GitHub\\chat130\\.venv\\Lib\\site-packages\\azure\\core\\tracing\\decorator.py:78\u001b[0m, in \u001b[0;36mdistributed_trace.<locals>.decorator.<locals>.wrapper_use_tracer\u001b[1;34m(*args, **kwargs)\u001b[0m\n\u001b[0;32m     76\u001b[0m span_impl_type \u001b[39m=\u001b[39m settings\u001b[39m.\u001b[39mtracing_implementation()\n\u001b[0;32m     77\u001b[0m \u001b[39mif\u001b[39;00m span_impl_type \u001b[39mis\u001b[39;00m \u001b[39mNone\u001b[39;00m:\n\u001b[1;32m---> 78\u001b[0m     \u001b[39mreturn\u001b[39;00m func(\u001b[39m*\u001b[39;49margs, \u001b[39m*\u001b[39;49m\u001b[39m*\u001b[39;49mkwargs)\n\u001b[0;32m     80\u001b[0m \u001b[39m# Merge span is parameter is set, but only if no explicit parent are passed\u001b[39;00m\n\u001b[0;32m     81\u001b[0m \u001b[39mif\u001b[39;00m merge_span \u001b[39mand\u001b[39;00m \u001b[39mnot\u001b[39;00m passed_in_parent:\n",
      "File \u001b[1;32mx:\\GitHub\\chat130\\.venv\\Lib\\site-packages\\azure\\search\\documents\\_generated\\operations\\_documents_operations.py:787\u001b[0m, in \u001b[0;36mDocumentsOperations.search_post\u001b[1;34m(self, search_request, request_options, **kwargs)\u001b[0m\n\u001b[0;32m    785\u001b[0m     map_error(status_code\u001b[39m=\u001b[39mresponse\u001b[39m.\u001b[39mstatus_code, response\u001b[39m=\u001b[39mresponse, error_map\u001b[39m=\u001b[39merror_map)\n\u001b[0;32m    786\u001b[0m     error \u001b[39m=\u001b[39m \u001b[39mself\u001b[39m\u001b[39m.\u001b[39m_deserialize\u001b[39m.\u001b[39mfailsafe_deserialize(_models\u001b[39m.\u001b[39mSearchError, pipeline_response)\n\u001b[1;32m--> 787\u001b[0m     \u001b[39mraise\u001b[39;00m HttpResponseError(response\u001b[39m=\u001b[39mresponse, model\u001b[39m=\u001b[39merror)\n\u001b[0;32m    789\u001b[0m deserialized \u001b[39m=\u001b[39m \u001b[39mself\u001b[39m\u001b[39m.\u001b[39m_deserialize(\u001b[39m\"\u001b[39m\u001b[39mSearchDocumentsResult\u001b[39m\u001b[39m\"\u001b[39m, pipeline_response)\n\u001b[0;32m    791\u001b[0m \u001b[39mif\u001b[39;00m \u001b[39mcls\u001b[39m:\n",
      "\u001b[1;31mHttpResponseError\u001b[0m: (FeatureNotSupportedInService) Semantic search is not enabled for this service.\r\nParameter name: queryType\nCode: FeatureNotSupportedInService\nMessage: Semantic search is not enabled for this service.\r\nParameter name: queryType\nException Details:\t(SemanticQueriesNotAvailable) Semantic search is not enabled for this service.\n\tCode: SemanticQueriesNotAvailable\n\tMessage: Semantic search is not enabled for this service."
     ]
    }
   ],
   "source": [
    "# Semantic Hybrid Search\n",
    "query = \"what is autorotation?\"\n",
    "\n",
    "index_name = \"chat-demo\"\n",
    "\n",
    "search_client = SearchClient(service_endpoint, index_name, AzureKeyCredential(key))\n",
    "vector = Vector(value=generate_embeddings(query), k=3, fields=\"contentVector\")  \n",
    "\n",
    "results = search_client.search(  \n",
    "    search_text=query,  \n",
    "    vectors=[vector],\n",
    "    query_type=\"semantic\", query_language=\"en-us\", semantic_configuration_name='my-semantic-config', query_caption=\"extractive\", query_answer=\"extractive\",\n",
    "    top=3\n",
    ")\n",
    "\n",
    "semantic_answers = results.get_answers()\n",
    "for answer in semantic_answers:\n",
    "    if answer.highlights:\n",
    "        print(f\"Semantic Answer: {answer.highlights}\")\n",
    "    else:\n",
    "        print(f\"Semantic Answer: {answer.text}\")\n",
    "    print(f\"Semantic Answer Score: {answer.score}\\n\")\n",
    "\n",
    "for result in results:\n",
    "    print(f\"Title: {result['title']}\")\n",
    "    print(f\"Content: {result['content']}\")\n",
    "    print(f\"Category: {result['category']}\")\n",
    "\n",
    "    captions = result[\"@search.captions\"]\n",
    "    if captions:\n",
    "        caption = captions[0]\n",
    "        if caption.highlights:\n",
    "            print(f\"Caption: {caption.highlights}\\n\")\n",
    "        else:\n",
    "            print(f\"Caption: {caption.text}\\n\")"
   ]
  },
  {
   "cell_type": "code",
   "execution_count": null,
   "metadata": {},
   "outputs": [],
   "source": []
  }
 ],
 "metadata": {
  "kernelspec": {
   "display_name": ".venv",
   "language": "python",
   "name": "python3"
  },
  "language_info": {
   "codemirror_mode": {
    "name": "ipython",
    "version": 3
   },
   "file_extension": ".py",
   "mimetype": "text/x-python",
   "name": "python",
   "nbconvert_exporter": "python",
   "pygments_lexer": "ipython3",
   "version": "3.11.5"
  },
  "orig_nbformat": 4
 },
 "nbformat": 4,
 "nbformat_minor": 2
}
