{
 "cells": [
  {
   "cell_type": "code",
   "execution_count": null,
   "metadata": {},
   "outputs": [],
   "source": [
    "# Install required dependencies\n",
    "! pip install openai num2words matplotlib plotly scipy scikit-learn pandas tiktoken langchain pypdf faiss-cpu"
   ]
  },
  {
   "cell_type": "code",
   "execution_count": 2,
   "metadata": {},
   "outputs": [],
   "source": [
    "# Setup openAI connections\n",
    "\n",
    "import keys\n",
    "\n",
    "gpt_key = keys.gpt_key\n",
    "gpt_endpoint = \"https://raid-ses-openai.openai.azure.com/\""
   ]
  },
  {
   "cell_type": "code",
   "execution_count": 2,
   "metadata": {},
   "outputs": [],
   "source": [
    "# some logic here to better split the documents instead of just by page??"
   ]
  },
  {
   "cell_type": "code",
   "execution_count": 4,
   "metadata": {},
   "outputs": [],
   "source": [
    "from langchain.embeddings.openai import OpenAIEmbeddings\n",
    "from langchain.chat_models import AzureChatOpenAI\n",
    "from langchain.vectorstores import FAISS\n",
    "from langchain.document_loaders import PyPDFLoader, DirectoryLoader\n",
    "from langchain.chains import RetrievalQA\n",
    "from langchain.chains.question_answering import load_qa_chain\n",
    "\n",
    "def load_docs(filepath):\n",
    "    loader = DirectoryLoader(filepath, glob='**/*.pdf', loader_cls=PyPDFLoader)\n",
    "\n",
    "    docs = loader.load()\n",
    "    \n",
    "    return docs\n",
    "\n",
    "def vector_load(docs, key, endpoint):\n",
    "    \n",
    "    embedding_model = OpenAIEmbeddings(\n",
    "    openai_api_type=\"azure\",\n",
    "    openai_api_key=key, \n",
    "    openai_api_base=endpoint,\n",
    "    openai_api_version=\"2023-05-15\",\n",
    "    deployment=\"swiftfaq-ada002\"\n",
    "    )\n",
    "    \n",
    "    # need to build some logic here for checking the database - if exists then just add if not, create\n",
    "    \n",
    "    db = FAISS.from_documents(docs, embedding_model)\n",
    "    \n",
    "    return db\n",
    "    "
   ]
  },
  {
   "cell_type": "code",
   "execution_count": 6,
   "metadata": {},
   "outputs": [],
   "source": [
    "docs = load_docs('./data/124')\n",
    "db = vector_load(docs, gpt_key, gpt_endpoint)"
   ]
  },
  {
   "cell_type": "code",
   "execution_count": 15,
   "metadata": {},
   "outputs": [],
   "source": [
    "db.save_local(\"vecstore_124\")"
   ]
  },
  {
   "cell_type": "code",
   "execution_count": 4,
   "metadata": {},
   "outputs": [],
   "source": [
    "db = FAISS.load_local(\"dbstore\", OpenAIEmbeddings(\n",
    "    openai_api_type=\"azure\",\n",
    "    openai_api_key=gpt_key, \n",
    "    openai_api_base=gpt_endpoint,\n",
    "    openai_api_version=\"2023-05-15\",\n",
    "    deployment=\"swiftfaq-ada002\"\n",
    "    ))"
   ]
  },
  {
   "cell_type": "code",
   "execution_count": 7,
   "metadata": {},
   "outputs": [],
   "source": [
    "from langchain.chat_models import AzureChatOpenAI\n",
    "from langchain.chains import ConversationalRetrievalChain\n",
    "from langchain.memory import ConversationSummaryBufferMemory\n",
    "\n",
    "# initiate llm\n",
    "llm = AzureChatOpenAI(openai_api_type=\"azure\", \n",
    "                      openai_api_version=\"2023-05-15\", \n",
    "                      openai_api_base=gpt_endpoint, \n",
    "                      openai_api_key=gpt_key, \n",
    "                      deployment_name=\"raidGPT\", \n",
    "                      temperature=0.0)\n",
    "\n",
    "retriever = db.as_retriever(search_kwargs = {\"k\": 10})\n",
    "\n",
    "memory = ConversationSummaryBufferMemory(llm=llm,\n",
    "                                   memory_key=\"chat_history\", \n",
    "                                   input_key=\"question\", \n",
    "                                   output_key=\"answer\", \n",
    "                                   return_messages=True)\n",
    "\n",
    "qa = ConversationalRetrievalChain.from_llm(llm=llm, \n",
    "                                           retriever=retriever, \n",
    "                                           return_source_documents=True, \n",
    "                                           memory = memory)"
   ]
  },
  {
   "cell_type": "markdown",
   "metadata": {},
   "source": [
    "## Testing custom prompt"
   ]
  },
  {
   "cell_type": "code",
   "execution_count": 8,
   "metadata": {},
   "outputs": [],
   "source": [
    "from langchain.prompts.prompt import PromptTemplate"
   ]
  },
  {
   "cell_type": "code",
   "execution_count": 11,
   "metadata": {},
   "outputs": [],
   "source": [
    "custom_template = \"\"\"\n",
    "You are a bot designed to answer military helicopter pilot trainees' questions from various flying handbooks and rulebooks. Use the context provided below to answer their questions. If you don't know the answer, just say that you don't know, don't try to make up an answer. \n",
    "\n",
    "{context}\n",
    "\n",
    "Additionally, this was the chat history of your conversation with the user.\n",
    "{chat_history}\n",
    "\n",
    "Question: {question}\n",
    "\n",
    "\"\"\"\n",
    "\n",
    "PROMPT = PromptTemplate.from_template(template=custom_template)"
   ]
  },
  {
   "cell_type": "code",
   "execution_count": 12,
   "metadata": {},
   "outputs": [],
   "source": [
    "qa = ConversationalRetrievalChain.from_llm(llm=llm, \n",
    "                                           retriever=retriever, \n",
    "                                           return_source_documents=True, \n",
    "                                           memory = memory,\n",
    "                                           combine_docs_chain_kwargs={\"prompt\" : PROMPT})"
   ]
  },
  {
   "cell_type": "code",
   "execution_count": 13,
   "metadata": {},
   "outputs": [
    {
     "data": {
      "text/plain": [
       "{'question': 'what are the types of autorotation?',\n",
       " 'chat_history': [HumanMessage(content='what are the types of autorotation?', additional_kwargs={}, example=False),\n",
       "  AIMessage(content='The types of autorotation covered in the handbook are:\\n\\n1. Glide autorotation\\n2. 180° autorotation\\n3. 360° autorotation\\n4. Low level autorotation', additional_kwargs={}, example=False)],\n",
       " 'answer': 'The types of autorotation covered in the handbook are:\\n\\n1. Glide autorotation\\n2. 180° autorotation\\n3. 360° autorotation\\n4. Low level autorotation',\n",
       " 'source_documents': [Document(page_content='OFFICIAL (CLOSED)   \\n11-1 \\nOFFICIAL (CLOSED)   PART B  \\n \\nCHAPTER 11  \\n \\nADVANCED AUTOROTATION  \\n \\nINTRODUCTION  \\n \\n11.1 Advanced autorotation is an extension of basic autorotation. In advanced \\nautorotation, the terminal phase of landing the helicopter along with varying \\nprofiles through which an autorotation can be conducted will be covered.  \\n \\n11.2 The learning obj ectives are:  (1) understanding a im point and touchdown \\npoint, (2) conducting the flare recovery technique, (3) conduct glide autorotation, \\n(4) 180o autorotation, (5) 360o autorotation and (6) Low level autorotation.  \\n \\nTHE FLARE RECOVERY  \\n \\n11.3 Flare Effects . The terminal pha se of the autorotation involves a technique \\nknown as the ‘flare recovery’. The objective of this technique is to harness the \\nkinetic energy from the forward motion of the helicopter to sustain autorotative \\nflight when nearer the ground and thereafter the e nergy of the autorotating blades \\nto execute a safe touchdown. This is made possible due to the following \\naerodynamic effects in a flare:   \\n \\na. Thrust Reversal . By easing the cyclic aft, the horizontal \\ncomponent of total rotor thrust will now act in the same di rection as \\nparasite drag, causing the groundspeed to reduce rapidly. This will be \\naccompanied by a pitching up of the fuselage because reverse thrust is \\nbeing maintained while parasite drag decreases as groundspeed decreases.  \\n(See Figure  11-1).  \\n \\n Figure 1 1-1: Reversal of TRT  \\n  \\n', metadata={'source': 'data\\\\124\\\\EEM FINAL caa201221.pdf', 'page': 110}),\n",
       "  Document(page_content='AP3456 – 12-4 - Autorotation \\nRevised Mar 10  Page 8 of 8 Avoid Area for Autorotation \\n \\n18. To establish fully developed autor \\notation, following power failure, it is vital to lower the lever \\nimmediately, probably fully, depending on forward speed and how quickly the lever is lowered after \\npower loss is detected.  At low forward speed it may also be necessary to gain forward speed.  Lowering \\nthe lever and gaining forward speed will require cons iderable height loss before full autorotation is \\nestablished at a safe speed to execute an engine-off landing.  If power failure occurs above optimum \\nautorotation speed, flare may be used to recover N r and reduce height loss as autorotation is \\nestablished.  At high airspeed and low level there ma \\ny be insufficient time to reduce speed for a safe \\nlanding, despite the use of the lever and flare to maintain N r and reduce height loss as autorotation is \\nestablished.  Avoid areas, determined by test flying, are published in the relevant aircraft Aircrew Manual; \\nFig 10 shows an example.  Power failure when oper ating inside the avoid areas may result in an \\nunsuccessful engine off landing as the aircraft may be too low and too slow, or too low and too fast, to \\nestablish full autorotation at a safe speed for landing.  Operation within the avoid areas should be kept to \\na minimum.  The relevant Aircrew manual should be consulted for specific techniques following power \\nfailure. \\n \\n12-4 Fig 10 Typical Autorotation Avoid Areas \\n \\n400\\n300\\n200Height (ft)\\n100\\n10\\n01 0 2 0 3 0\\nAir Speed (kt)40 50 60Avoid Area\\nAvoid Area500\\n \\n \\n19. Autorotative Landing \\n.\\n  \\nWhen engine failure occurs at height, the aircraft has potential energy to \\ndissipate and this is converted into kinetic energy during the descent process in autorotation.  When \\nnear the ground, the kinetic energy stored in the rotor by virtue of its rp m is converted into work, in the \\nform of a large increase in rotor thrust, by use of the collective lever, with a consequent rapid decay in \\nRrpm as the kinetic energy is used.  ', metadata={'source': 'data\\\\124\\\\AP3456 Vol 12 Helicopters.pdf', 'page': 47}),\n",
       "  Document(page_content='AP3456 – 12-4 - Autorotation \\nCHAPTER 4 – AUTOROTATION (HELICOPTER) \\n \\nContents Page \\n \\nAUTOROTATION IN  STILL AIR...................................................................................................... ........ 1  \\nIntroduc tion................................................................................................................... ........................... 1  \\nAutorotative Fo rce/Rotor Drag .................................................................................................. .............. 2  \\nRate of Descent................................................................................................................ ....................... 4  \\nRelative Airflow - Vertical Auto rotation....................................................................................... ............. 4  \\nAUTOROTATION WITH  FORWA RD SPEED......................................................................................... 5  \\nRelative Airflow - Fo rward Auto rotation........................................................................................ ........... 5  \\nRate of Descent Require ments in Au torotation................................................................................... .... 6 \\nAutorotation for Endurance and Range in Still Air.............................................................................. ..... 7 \\nFlare.......................................................................................................................... ............................... 7  \\n \\nTable of Figures \\n \\n12-4 Fig 1 Autorotation - Terms Used ..................................................................................................... 2  \\n12-4 Fig 2 Distribution of Rotational Forces ............................................................................................ 2  \\n12-4 Fig 3 Autorotation - Position of Total Reaction and Autorotative Forces ........................................ 3  \\n12-4 Fig 4 Inflow Angle and Rate of Descent Relationship ..................................................................... 4  \\n12-4 Fig 5 Inflow Angle - Disc Tilted Forward ......................................................................................... 5  \\n12-4 Fig 6 Inflow Angle - Effect of Horizontal Airflow .............................................................................. 5  \\n12-4 Fig 7 Inflow Angle - Effect of Forward Speed ................................................................................. 6  \\n12-4 Fig 8 Effect of Forward Speed on Rate of Descent ........................................................................ 7  \\n12-4 Fig 9 Range and Endurance ........................................................................................................... 7  \\n12-4 Fig 10 Typical Autorotation Avoid Areas ......................................................................................... 8  \\n \\n \\nAUTOROTATION IN STILL AIR \\n \\nIntroduction \\n \\n1. In powered flight, the rotor drag is overcome  with engine \\npower but, when the engine fails or is \\ndeliberately disengaged from the rotor system, some other force must be used to maintain the rotor \\nrpm.  This is achieved by allowing the helicopter to descend and by lowering the collective lever fully so that the resultant airf low strikes the blades in such a manner that the airflow it self provides the \\ndriving force.  When the helicopter is descending in  this manner, the rate of descent becomes the \\npower equivalent and the helicopter is said  to be in a state of autorotation. \\n 2. Although most autorotations ar e carried out with forward speed, the explanation as to why the \\nblades continue to turn when in rotation can best be seen if it is considered that the helicopter is \\nautorotating vertically downwards in still air.  Under these conditions, if the various forces involved are calculated for one blade, the calculations will be valid for all the other blades irrespective of where the \\nblade is positioned in its 360\\uf0b0  of travel.  The various airflows and angles which will be referred to are \\nshown in Fig 1. \\nRevised Mar 10  Page 1 of 8 ', metadata={'source': 'data\\\\124\\\\AP3456 Vol 12 Helicopters.pdf', 'page': 40}),\n",
       "  Document(page_content='AP3456 – 12-12 - Helicopter Flying Techniques \\n12-12 Fig 3 Airspeed/Altitude Graph for Autorotative Landing \\n \\n010020030040050060070080090010001100\\n0 20 40 60 80 100 120 140Sea Level\\n DatumAVOID CONTINUOUS OPERATION\\nIN THE SHADED AREASHeight AGL\\n(feet)\\n6500 Feet Datum\\nIAS (Knots)\\n10 feet skid clearance at sea level\\n3 feet skid clearance at 6500 feet   \\n54. Wind .  It is desirable that the final part of t he approach for an autorotative landing should be \\ncarried out into wind, bearing in mind that a considerable loss of hei ght will occur during an \\nautorotative descent if turns through more than 180º  are carried out.  Loading in the turn may make it \\nnecessary to control Rrpm by raising the lever, t he lever being lowered on completing the turn in order \\nto maintain Rrpm.  Airspeed must be maintained.  When practicable, the minimum height on a cross-\\ncountry flight should be such as to allow for turns into wind.  Because of the steep angle of descent in \\nautorotation, flying over towns,  heavily wooded areas and large stretches of water should be avoided \\nin a single-engine helicopter. \\n \\n55. Practice .  The engine-off capabilities of the helicop \\nter provide a degree of safety not found in \\nother aircraft.  Regular practices of engine-off landings and autorotation to flare recovery will promote \\npersonal confidence in the aircraft and improv e pilot judgement under varying conditions. \\n \\nAPPLIED AND OPERATIONAL TECHNIQUES \\n \\nOperating at Maximum All-up Weight \\n \\n56. When operating \\nat maximum all-up weight (auw) the following considerations must be borne in \\nmind: \\n \\na. An increase in auw requires more power to hover and thus reduces the excess power \\navailable for the climb. \\n \\nRevised Jul 12  Page 12 of 22 ', metadata={'source': 'data\\\\124\\\\AP3456 Vol 12 Helicopters.pdf', 'page': 125}),\n",
       "  Document(page_content='AP3456 – 12-4 - Autorotation \\n12-4 Fig 3 Autorotation - Position of Total Reaction and Autorotative Forces \\n \\nFig 3a Position of Total Reaction \\nFig 3b Autorotative Force \\nDrag\\nRAF\\nRate of\\nDescent\\nAirflowLift\\nATotal \\nReaction\\nB\\nC\\nAxis of\\nRotation\\n A\\nB\\nCRotor\\nThrustTotal\\nReaction\\nRotor Drag\\n(Deceleration)\\nRotor\\nThrustTotal\\nReaction\\nTotal\\nReactionRotor\\nThrust(Equilibrium)\\nAutorotative\\nForce\\n(Acceleration) \\n \\n5. If the angle of attack for each section of the blade is known, the lift/drag ratio for these angles of \\nattack can be ascertained by referring to the aerofo il data tables, and, by adding lift and drag vectors in \\nthe correct ratio, the position of the total reacti on can be determined (Fig 3).  Relating total reaction \\nposition to the axis of rotation (see Fig 3b) at secti on A, the total reaction lies behind the axis; at section B \\nit is on the axis and at section C it  is in front of the axis.  Havi ng determined the position of the total \\nreaction, it can now be considered in terms of rotor thrust and rotor drag (Fig 3b).  At section A, the \\ncondition is the same as in powered flight and the component of total reaction in the plane of rotation \\nopposes rotation and is continually trying to decelerat \\ne the blade.  At section B no part of the total \\nreaction is acting in the plane of rotation and it is a ll rotor thrust; at section C the component of total \\nreaction in the plane of rotation assists rotation and is continually trying to accelerate the blade.  Under \\nthese conditions it is no longer referred to as  rotor drag, but as the autorotative force. \\n \\n6. Considering the blade as a whole, the section producing an autorotative force will be accelerating \\nthe blade, whilst the section producing rotor drag w ill endeavour to slow it down.  To maintain a \\nconstant rotor rpm, the autorotativ e section must be sufficient to bal \\nance the rotor drag section of the \\nblade, plus the drag set up by the ancillary equipmen t, tail rotor shaft and tail rotor, all of which \\ncontinue to function in autorotation. \\n \\n7. In normal conditions with the lever lowered, t he blade geometry is such t \\nhat the autorotative rpm \\nare in the correct operating range, provided an adequate rate of descent exists.  If the lever is raised \\nduring autorotation the pitch angles increase on a ll sections (Figs 2 and 3).  Section B will tend \\ntowards section A and section C will tend towards B, thus the autorotative se ction moves outwards.  \\nHowever, section D at the root becomes stall ed and the extra drag generated causes a decrease in \\nthe size of the autorotat ive section and therefore rpm decreases, stabilizing at a lower figure.  This \\ncontinues with further raising of the lever until such  time as the blade is no longer able to autorotate. \\n \\nRevised Mar 10  Page 3 of 8 ', metadata={'source': 'data\\\\124\\\\AP3456 Vol 12 Helicopters.pdf', 'page': 42}),\n",
       "  Document(page_content='OFFICIAL (CLOSED)   \\n11-8 \\nOFFICIAL (CLOSED)   (2) Attitude – Maintain the 65kts autorotative attitude.  \\n \\n(3) Airspeed – Scan the instruments to ensure 65kts and adjust \\nattitude as required.  \\n \\n(4) Balance – Check the ball for balance  \\n \\n(5) Control NR – Maintain NR within limits  using the \\ncollective and adjust using the ‘bracketing technique’. As a guide, \\nthe aircraft is not in powered flight as long as TQ is maintained \\n<5%.  \\n \\nf. 400ft AGL . This is the decision height on whether to continue with \\nthe autorotation. First,  the helicopte r should be in an autorotative state \\n(Tq<5%).Next, assess if the helicopter can complete the flare recovery and \\novershoot ( be established in a ROC) within the length of the platform. If \\nunable, call out and conduct the overshoot. If able, assess if the ori ginal \\nintended touch down point can be achieved. If unable, nominate a new \\ntouch down point or verbalise “long” or “short” of the original touch down \\npoint.  \\n \\ng. 300ft AGL . Select “wings level”. The helicopter should be lined \\nup with the platform and in balanc ed flight.  \\n \\nh. 200ft AGL . Cross control as required and straighten the aircraft.  \\n \\ni. 70ft AGL . Execute the flare recovery technique  (this includes the \\n15ft “check”) as described in the preceding section.  \\n \\nj. 5ft. On completing the flare recovery for power on autoro tation, \\nconduct the overshoot. In SBAB, an R/T call must be made on the \\novershoot.  \\n \\n \\n180° AUTOROTATION  \\n \\n11.10  180 Autorotation . Autorotations should, as far as possible, be conducted \\ninto wind. This aids in ranging, ensures tail rotor effectiveness and better \\ncontrollability at low speeds while maximising the flare effect. The 180o \\nautorotation (180 autos) is conducted to manoeuvre the helicopter from a \\ndownwind autorotation to eventually land into wind. The sequence is as follows:  \\n ', metadata={'source': 'data\\\\124\\\\EEM FINAL caa201221.pdf', 'page': 117}),\n",
       "  Document(page_content='OFFICIAL (CLOSED)   \\n5-6 \\nOFFICIAL (CLOSED)   Figure  5-8: Range and endurance  speed in autorotation  \\n \\nf. Factors affecting autor otative performance . Autorotation therefore \\ninvolves the management of two key parameters; ROD and rotor RPM \\n(NR in the EC). However, in addition to speed, other factors that influence \\nthe performance of a helicopter in autorotation are as shown in Table 5 -1 \\nbelow. It is vital to understand the impact of these factors to ensure crew \\nare aware of the helicopter’s behaviour under the varying operating \\ncontexts.  \\n \\nTable 5 -1: Factors affecting NR and ROD in autoroation   \\nFactor  Effect  Net ROD  NR \\nIncrease \\nin AUW  ROD airflow needed will be higher leading to a \\nhigher inflow angle. This will cause the \\nautorotative section to move further outboard on \\nthe blade.  Increase  Increase  \\nIncrease \\nin Density \\nAltitude  Increase  Increase  \\nIncrease \\nin AOB  AOB tilts the disc lead ing to an increase in the \\neffects si milar to Factors A and B (Para 5 .3d) Increase  Increase  \\nIncreased \\nDisc \\nLoading / \\nFlaring  Incident ROD airflow increases leading to a higher \\ninflow angle. This will cause the autorotative \\nsection to move further outboard on the blade (Flare \\neffects will be elaborated in later chapters).  Decrease  Increase  \\n  \\n \\nBASIC AUTOROTATION  \\n \\n5.4  The introduction to autorotation, termed as basic autorotation, focuses on \\nthe entry technique, scan and sustenance of autorotation at 65kts. The following \\nset of checks will need to be completed prior to commencing practice \\nautorotation s:  \\n \\na. HFIPAL checks are conducted to configure the helicopter for \\npractice autorotation:  \\n \\n', metadata={'source': 'data\\\\124\\\\EEM FINAL caa201221.pdf', 'page': 46}),\n",
       "  Document(page_content='AP3456 – 12-4 - Autorotation \\n \\n12-4 Fig 8 Effect of Forward Speed on Rate of Descent \\nRate of Desce nt (Power Equivalent)Total Rate\\nof Descent\\nParasite Drag\\nRate of Descent\\nAutorotative\\nForce Rate \\nof Descent\\nRotor Thrust\\nRate of Descent\\nTAS  \\n \\nAutorotation for Endurance and Range in Still Air \\n \\n16. Autorotating to give the maximum time in the ai r must be at \\nthe speed to give the minimum rate of \\ndescent.  The speed for endurance will therefore corres pond to the lowest part on the rate of descent \\ncurve (Fig 9).  Maximum range will be achieved when the helicopter is descending along its shallowest \\nflight path.  This will be achieved when flying at the best forward speed/rate of descent ratio.  Relating \\nthis to the rate of descent curve, the optimum ratio will be at the speed where a line drawn from the \\npoint of origin of the graph is tangential to the rate of descent curve.  For both range and endurance, \\nrotor rpm should be as quoted in the Aircrew Manual. \\n \\n12-4 Fig 9 Range and Endurance \\n \\nRate of Descent\\nRange\\nEndurance\\nTAS  \\n \\nFlare \\n \\n17. The flare effect in autorotation will be exactly t he same \\nas for a flare in powered flight.  Rotor rpm \\nwill rise because the increased inflow angle will caus e the autorotative secti on to move further out \\ntowards the tip, and increased rotor thrust will reduc e the rate of descent while flare effects last. \\nRevised Mar 10  Page 7 of 8 ', metadata={'source': 'data\\\\124\\\\AP3456 Vol 12 Helicopters.pdf', 'page': 46}),\n",
       "  Document(page_content='AP3456 – 12-4 - Autorotation \\n8. Autorotative descent from high altitudes or at a high all-up weight leads to high rates of descent.  \\nInflow angles will be higher and autorotative sections will be further outboard on the blades; rpm will \\nbe higher in autorotation under these conditions.  It should be noted, however, that descent into more \\ndense air decreases rate of descent and rpm for a constant lever position. \\n \\nRate of Descent \\n \\n9. If the \\nengine fails during a hover in still air and t he collective pitch is reduced, the helicopter will \\naccelerate downwards until such time as the angle of attack is producing a total reaction to give an \\nautorotative force to maintain the required rotor rp m and a rotor thrust equal to the weight.  When this \\ncondition has been established, the acceleration will st op and the helicopter will continue downwards at a \\nsteady rate of descent.  If some outside influence caus es the angle of attack to increase, there will be an \\nautomatic reduction in the rate of descent, the reve rse taking place if the angle of attack is decreased. \\n \\n10. Compared with a vertical autorotation in still air, \\n the rate of descent will initially decrease with \\nforward speed, but beyond a certain speed the rate of descent will start to increase again.  The cause \\nof this variation of rate of descent with forward speed is the changing direction of the relative airflow \\nwhich occurs throughout the speed range in autorotation. \\n \\nRelative Airflow - Vertical Autorotation \\n \\n11. Consider \\na helicopter of a given we \\night requiring a mean angle of attack of 8 \\n\\uf0b0\\n to provide the \\nrequired rotor thrust and autorotative forces to maintain it in a vertical autorotat ion, and assume that this \\nangle of attack is obtained when the rate of descent is \\n 2,000 fpm.  If the inflow angle is determined from \\nrate of descent and a mean rotational velocity, it will be found to have a  value of, say 10 \\uf0b0 (Fig 4a) but \\nbecause the action of the blades slow s down the airflow coming from below \\n the disc, the actual inflow \\nangle will be less, say, only 6 \\n\\uf0b0\\n (Fig 4b).  If the mean pitch value of the blade is 2 \\n\\uf0b0\\n, then the angle of attack \\nwill be 8\\uf0b0, which is the angle required.  So 2,000 fpm rate  of descent is required by this particular \\nhelicopter to produce an inflow angle of 6 \\uf0b0. \\n \\n12-4 Fig 4 Inflow Angle and Rate of Descent Relationship \\n \\nFig 4a  \\nPitch 2\\nRotational\\nAirflow\\nInflow\\nAngle 10o\\nRAFCalculated\\nAirflow for\\na 2,000 fpm\\nRate of \\nDescent  \\nFig 4b \\nPitch 2ٛ\\nEffective\\nAirflow from\\na 2,000 fpm\\nRate of DescentInflow\\nAngle 6o\\n \\n \\n \\nRevised Mar 10  Page 4 of 8 ', metadata={'source': 'data\\\\124\\\\AP3456 Vol 12 Helicopters.pdf', 'page': 43}),\n",
       "  Document(page_content='OFFICIAL (CLOSED)   \\n5-1 \\nOFFICIAL (CLOSED)   PART A  \\n \\nCHAPTER 5  \\n \\nBASIC AUTOROTATION  \\n \\nINTRODUCTION  \\n \\n5.1 Autorotation is unique to helicopters and is conducted to allow the rate of \\ndescent airflow to be the driving force to turn the helicopter’s blades. It is critical \\nto autorotate during emerg encies that render the engine ineffective, when the anti -\\ntorque effect of the tail rotor needs to be eradicated in a tail rotor control failure \\nor when a rapid descent is required.  \\n \\n5.2 Objectives . (1) From straight and level flight, enter and establish  \\nautoro tation at 65kts, (2) From straight and level flight, establish autorotation at \\n65kt and turn to complete an 180o heading change and (3) Recover from an \\nautorotation and establish a climb . \\n \\nAERODYNAMICS OF AUTOROTATION  \\n \\n5.3 The explanation as to how the blades continue to turn  in autorotation  can \\nbest be demonstrated through the hypothetical situation where the helicopter is \\nautorotating vertically downwards in still air. The various airflows and angles \\nwhich will be referred to are shown in Figure  5-1.  \\n \\nFigure  5-1: Blade cross section during autorotation  \\n \\n \\na. Inflow angle  and Relative airflow . The inflow angle  is the angle \\nbetween the airflow due to the blades’ rotational velocity and the airflow \\narising from rate of descent  (ROD) . The derived relative airflow (R AF) is \\nbelow the rotational airflow in autorotation leading to the blade having an \\nincreased angle of attack.  This is not strictly true  in reality  as the action of \\n', metadata={'source': 'data\\\\124\\\\EEM FINAL caa201221.pdf', 'page': 41})]}"
      ]
     },
     "execution_count": 13,
     "metadata": {},
     "output_type": "execute_result"
    }
   ],
   "source": [
    "qa({\"question\": \"what are the types of autorotation?\"})"
   ]
  },
  {
   "cell_type": "code",
   "execution_count": 14,
   "metadata": {},
   "outputs": [
    {
     "data": {
      "text/plain": [
       "{'question': 'Tell me more about glide autorotation',\n",
       " 'chat_history': [HumanMessage(content='what are the types of autorotation?', additional_kwargs={}, example=False),\n",
       "  AIMessage(content='The types of autorotation covered in the handbook are:\\n\\n1. Glide autorotation\\n2. 180° autorotation\\n3. 360° autorotation\\n4. Low level autorotation', additional_kwargs={}, example=False),\n",
       "  HumanMessage(content='Tell me more about glide autorotation', additional_kwargs={}, example=False),\n",
       "  AIMessage(content=\"Assistant: Glide autorotation, also known as straight-in autorotation, is a direct extension of basic autorotation. It introduces the flare technique along with the application of standard ranging for the touchdown point. Here's the sequence:\\n\\n1. Circuit: Glide autos are flown at 1000ft AMSL in SBAB. For the take-off, ensure the R/T call includes the intention to conduct autorotation. On downwind, conduct the HFIPAL checks. \\n\\n2. Aim point and touch down point: The aim point refers to the position that the helicopter would impact if the autorotation was continued to the ground without a flare recovery. The touchdown point is the point where the helicopter would touch down upon the completion of the flare recovery. \\n\\n3. Verbal warning: Call out “Within range, enter Autorotation”.\\n\\n4. Cyclic: Lead the entry with application of aft cyclic. Select an attitude close to that of the flare recovery attitude. \\n\\n5. Collective: Almost immediately after the cyclic, lower the collective fully in 2 -3 seconds while looking outside to maintain the flare attitude.\\n\\n6. Control NR: Raise the collective as required to maintain NR within limits.\\n\\n7. Attitude: Anticipate 5kts prior to 65kts and reselect the 65kts autorotative attitude.\\n\\n8. Decision: Make a final decision on whether the autorotation and overshoot can be completed within the length of the assigned platform. If no, maintain attitude and conduct the overshoot.\\n\\n9. 70ft AGL: Execute the flare recovery technique.\\n\\n10. 5ft: On completing the flare recovery for power on autorotation, conduct the overshoot.\", additional_kwargs={}, example=False)],\n",
       " 'answer': \"Assistant: Glide autorotation, also known as straight-in autorotation, is a direct extension of basic autorotation. It introduces the flare technique along with the application of standard ranging for the touchdown point. Here's the sequence:\\n\\n1. Circuit: Glide autos are flown at 1000ft AMSL in SBAB. For the take-off, ensure the R/T call includes the intention to conduct autorotation. On downwind, conduct the HFIPAL checks. \\n\\n2. Aim point and touch down point: The aim point refers to the position that the helicopter would impact if the autorotation was continued to the ground without a flare recovery. The touchdown point is the point where the helicopter would touch down upon the completion of the flare recovery. \\n\\n3. Verbal warning: Call out “Within range, enter Autorotation”.\\n\\n4. Cyclic: Lead the entry with application of aft cyclic. Select an attitude close to that of the flare recovery attitude. \\n\\n5. Collective: Almost immediately after the cyclic, lower the collective fully in 2 -3 seconds while looking outside to maintain the flare attitude.\\n\\n6. Control NR: Raise the collective as required to maintain NR within limits.\\n\\n7. Attitude: Anticipate 5kts prior to 65kts and reselect the 65kts autorotative attitude.\\n\\n8. Decision: Make a final decision on whether the autorotation and overshoot can be completed within the length of the assigned platform. If no, maintain attitude and conduct the overshoot.\\n\\n9. 70ft AGL: Execute the flare recovery technique.\\n\\n10. 5ft: On completing the flare recovery for power on autorotation, conduct the overshoot.\",\n",
       " 'source_documents': [Document(page_content='OFFICIAL (CLOSED)   \\n11-11 \\nOFFICIAL (CLOSED)   Figure 11-5: 180 autos  \\ne. Turn . On intercepting the point where the downwind meets the \\nautorotative glideslope for the 180 turn, input 30o AOB with the cyclic \\nand commence the turn towards the platform. Maintain the AAABC scan \\nand adjust AOB (max up to 4 5o) to intercept the extended centreline and \\nglideslope. Scan the NR as it may rise rapidly due to the turn and disc \\nloading.  \\n  \\nf. 400ft AGL . Similar to glide autos, a decision on whether to \\ncontinue the autorotation  based on the criteria previously covered should \\nbe made. In 180 autos, the AOB required to line up and ability to be wings \\nlevel by 300ft should also be assessed.  \\n \\ng. 300ft AGL . Select “wings level”. The helicopter should be lined \\nup with the platform and in balanced flight.  \\n \\nh. 200ft AGL . Cross contro l as required and straighten the aircraft.  \\n \\ni. 70ft AGL . Execute the flare recovery technique as described in the \\npreceding section.  \\n \\nFlare at 70ft AGL  Adjust AOB to intercept glideslope  ', metadata={'source': 'data\\\\124\\\\EEM FINAL caa201221.pdf', 'page': 120}),\n",
       "  Document(page_content='AP3456 – 12-12 - Helicopter Flying Techniques \\n12-12 Fig 3 Airspeed/Altitude Graph for Autorotative Landing \\n \\n010020030040050060070080090010001100\\n0 20 40 60 80 100 120 140Sea Level\\n DatumAVOID CONTINUOUS OPERATION\\nIN THE SHADED AREASHeight AGL\\n(feet)\\n6500 Feet Datum\\nIAS (Knots)\\n10 feet skid clearance at sea level\\n3 feet skid clearance at 6500 feet   \\n54. Wind .  It is desirable that the final part of t he approach for an autorotative landing should be \\ncarried out into wind, bearing in mind that a considerable loss of hei ght will occur during an \\nautorotative descent if turns through more than 180º  are carried out.  Loading in the turn may make it \\nnecessary to control Rrpm by raising the lever, t he lever being lowered on completing the turn in order \\nto maintain Rrpm.  Airspeed must be maintained.  When practicable, the minimum height on a cross-\\ncountry flight should be such as to allow for turns into wind.  Because of the steep angle of descent in \\nautorotation, flying over towns,  heavily wooded areas and large stretches of water should be avoided \\nin a single-engine helicopter. \\n \\n55. Practice .  The engine-off capabilities of the helicop \\nter provide a degree of safety not found in \\nother aircraft.  Regular practices of engine-off landings and autorotation to flare recovery will promote \\npersonal confidence in the aircraft and improv e pilot judgement under varying conditions. \\n \\nAPPLIED AND OPERATIONAL TECHNIQUES \\n \\nOperating at Maximum All-up Weight \\n \\n56. When operating \\nat maximum all-up weight (auw) the following considerations must be borne in \\nmind: \\n \\na. An increase in auw requires more power to hover and thus reduces the excess power \\navailable for the climb. \\n \\nRevised Jul 12  Page 12 of 22 ', metadata={'source': 'data\\\\124\\\\AP3456 Vol 12 Helicopters.pdf', 'page': 125}),\n",
       "  Document(page_content='OFFICIAL (CLOSED)   \\n11-1 \\nOFFICIAL (CLOSED)   PART B  \\n \\nCHAPTER 11  \\n \\nADVANCED AUTOROTATION  \\n \\nINTRODUCTION  \\n \\n11.1 Advanced autorotation is an extension of basic autorotation. In advanced \\nautorotation, the terminal phase of landing the helicopter along with varying \\nprofiles through which an autorotation can be conducted will be covered.  \\n \\n11.2 The learning obj ectives are:  (1) understanding a im point and touchdown \\npoint, (2) conducting the flare recovery technique, (3) conduct glide autorotation, \\n(4) 180o autorotation, (5) 360o autorotation and (6) Low level autorotation.  \\n \\nTHE FLARE RECOVERY  \\n \\n11.3 Flare Effects . The terminal pha se of the autorotation involves a technique \\nknown as the ‘flare recovery’. The objective of this technique is to harness the \\nkinetic energy from the forward motion of the helicopter to sustain autorotative \\nflight when nearer the ground and thereafter the e nergy of the autorotating blades \\nto execute a safe touchdown. This is made possible due to the following \\naerodynamic effects in a flare:   \\n \\na. Thrust Reversal . By easing the cyclic aft, the horizontal \\ncomponent of total rotor thrust will now act in the same di rection as \\nparasite drag, causing the groundspeed to reduce rapidly. This will be \\naccompanied by a pitching up of the fuselage because reverse thrust is \\nbeing maintained while parasite drag decreases as groundspeed decreases.  \\n(See Figure  11-1).  \\n \\n Figure 1 1-1: Reversal of TRT  \\n  \\n', metadata={'source': 'data\\\\124\\\\EEM FINAL caa201221.pdf', 'page': 110}),\n",
       "  Document(page_content='AP3456 – 12-4 - Autorotation \\nRevised Mar 10  Page 8 of 8 Avoid Area for Autorotation \\n \\n18. To establish fully developed autor \\notation, following power failure, it is vital to lower the lever \\nimmediately, probably fully, depending on forward speed and how quickly the lever is lowered after \\npower loss is detected.  At low forward speed it may also be necessary to gain forward speed.  Lowering \\nthe lever and gaining forward speed will require cons iderable height loss before full autorotation is \\nestablished at a safe speed to execute an engine-off landing.  If power failure occurs above optimum \\nautorotation speed, flare may be used to recover N r and reduce height loss as autorotation is \\nestablished.  At high airspeed and low level there ma \\ny be insufficient time to reduce speed for a safe \\nlanding, despite the use of the lever and flare to maintain N r and reduce height loss as autorotation is \\nestablished.  Avoid areas, determined by test flying, are published in the relevant aircraft Aircrew Manual; \\nFig 10 shows an example.  Power failure when oper ating inside the avoid areas may result in an \\nunsuccessful engine off landing as the aircraft may be too low and too slow, or too low and too fast, to \\nestablish full autorotation at a safe speed for landing.  Operation within the avoid areas should be kept to \\na minimum.  The relevant Aircrew manual should be consulted for specific techniques following power \\nfailure. \\n \\n12-4 Fig 10 Typical Autorotation Avoid Areas \\n \\n400\\n300\\n200Height (ft)\\n100\\n10\\n01 0 2 0 3 0\\nAir Speed (kt)40 50 60Avoid Area\\nAvoid Area500\\n \\n \\n19. Autorotative Landing \\n.\\n  \\nWhen engine failure occurs at height, the aircraft has potential energy to \\ndissipate and this is converted into kinetic energy during the descent process in autorotation.  When \\nnear the ground, the kinetic energy stored in the rotor by virtue of its rp m is converted into work, in the \\nform of a large increase in rotor thrust, by use of the collective lever, with a consequent rapid decay in \\nRrpm as the kinetic energy is used.  ', metadata={'source': 'data\\\\124\\\\AP3456 Vol 12 Helicopters.pdf', 'page': 47}),\n",
       "  Document(page_content='OFFICIAL (CLOSED)   \\n11-8 \\nOFFICIAL (CLOSED)   (2) Attitude – Maintain the 65kts autorotative attitude.  \\n \\n(3) Airspeed – Scan the instruments to ensure 65kts and adjust \\nattitude as required.  \\n \\n(4) Balance – Check the ball for balance  \\n \\n(5) Control NR – Maintain NR within limits  using the \\ncollective and adjust using the ‘bracketing technique’. As a guide, \\nthe aircraft is not in powered flight as long as TQ is maintained \\n<5%.  \\n \\nf. 400ft AGL . This is the decision height on whether to continue with \\nthe autorotation. First,  the helicopte r should be in an autorotative state \\n(Tq<5%).Next, assess if the helicopter can complete the flare recovery and \\novershoot ( be established in a ROC) within the length of the platform. If \\nunable, call out and conduct the overshoot. If able, assess if the ori ginal \\nintended touch down point can be achieved. If unable, nominate a new \\ntouch down point or verbalise “long” or “short” of the original touch down \\npoint.  \\n \\ng. 300ft AGL . Select “wings level”. The helicopter should be lined \\nup with the platform and in balanc ed flight.  \\n \\nh. 200ft AGL . Cross control as required and straighten the aircraft.  \\n \\ni. 70ft AGL . Execute the flare recovery technique  (this includes the \\n15ft “check”) as described in the preceding section.  \\n \\nj. 5ft. On completing the flare recovery for power on autoro tation, \\nconduct the overshoot. In SBAB, an R/T call must be made on the \\novershoot.  \\n \\n \\n180° AUTOROTATION  \\n \\n11.10  180 Autorotation . Autorotations should, as far as possible, be conducted \\ninto wind. This aids in ranging, ensures tail rotor effectiveness and better \\ncontrollability at low speeds while maximising the flare effect. The 180o \\nautorotation (180 autos) is conducted to manoeuvre the helicopter from a \\ndownwind autorotation to eventually land into wind. The sequence is as follows:  \\n ', metadata={'source': 'data\\\\124\\\\EEM FINAL caa201221.pdf', 'page': 117}),\n",
       "  Document(page_content='AP3456 – 12-4 - Autorotation \\n12-4 Fig 3 Autorotation - Position of Total Reaction and Autorotative Forces \\n \\nFig 3a Position of Total Reaction \\nFig 3b Autorotative Force \\nDrag\\nRAF\\nRate of\\nDescent\\nAirflowLift\\nATotal \\nReaction\\nB\\nC\\nAxis of\\nRotation\\n A\\nB\\nCRotor\\nThrustTotal\\nReaction\\nRotor Drag\\n(Deceleration)\\nRotor\\nThrustTotal\\nReaction\\nTotal\\nReactionRotor\\nThrust(Equilibrium)\\nAutorotative\\nForce\\n(Acceleration) \\n \\n5. If the angle of attack for each section of the blade is known, the lift/drag ratio for these angles of \\nattack can be ascertained by referring to the aerofo il data tables, and, by adding lift and drag vectors in \\nthe correct ratio, the position of the total reacti on can be determined (Fig 3).  Relating total reaction \\nposition to the axis of rotation (see Fig 3b) at secti on A, the total reaction lies behind the axis; at section B \\nit is on the axis and at section C it  is in front of the axis.  Havi ng determined the position of the total \\nreaction, it can now be considered in terms of rotor thrust and rotor drag (Fig 3b).  At section A, the \\ncondition is the same as in powered flight and the component of total reaction in the plane of rotation \\nopposes rotation and is continually trying to decelerat \\ne the blade.  At section B no part of the total \\nreaction is acting in the plane of rotation and it is a ll rotor thrust; at section C the component of total \\nreaction in the plane of rotation assists rotation and is continually trying to accelerate the blade.  Under \\nthese conditions it is no longer referred to as  rotor drag, but as the autorotative force. \\n \\n6. Considering the blade as a whole, the section producing an autorotative force will be accelerating \\nthe blade, whilst the section producing rotor drag w ill endeavour to slow it down.  To maintain a \\nconstant rotor rpm, the autorotativ e section must be sufficient to bal \\nance the rotor drag section of the \\nblade, plus the drag set up by the ancillary equipmen t, tail rotor shaft and tail rotor, all of which \\ncontinue to function in autorotation. \\n \\n7. In normal conditions with the lever lowered, t he blade geometry is such t \\nhat the autorotative rpm \\nare in the correct operating range, provided an adequate rate of descent exists.  If the lever is raised \\nduring autorotation the pitch angles increase on a ll sections (Figs 2 and 3).  Section B will tend \\ntowards section A and section C will tend towards B, thus the autorotative se ction moves outwards.  \\nHowever, section D at the root becomes stall ed and the extra drag generated causes a decrease in \\nthe size of the autorotat ive section and therefore rpm decreases, stabilizing at a lower figure.  This \\ncontinues with further raising of the lever until such  time as the blade is no longer able to autorotate. \\n \\nRevised Mar 10  Page 3 of 8 ', metadata={'source': 'data\\\\124\\\\AP3456 Vol 12 Helicopters.pdf', 'page': 42}),\n",
       "  Document(page_content='AP3456 – 12-4 - Autorotation \\nCHAPTER 4 – AUTOROTATION (HELICOPTER) \\n \\nContents Page \\n \\nAUTOROTATION IN  STILL AIR...................................................................................................... ........ 1  \\nIntroduc tion................................................................................................................... ........................... 1  \\nAutorotative Fo rce/Rotor Drag .................................................................................................. .............. 2  \\nRate of Descent................................................................................................................ ....................... 4  \\nRelative Airflow - Vertical Auto rotation....................................................................................... ............. 4  \\nAUTOROTATION WITH  FORWA RD SPEED......................................................................................... 5  \\nRelative Airflow - Fo rward Auto rotation........................................................................................ ........... 5  \\nRate of Descent Require ments in Au torotation................................................................................... .... 6 \\nAutorotation for Endurance and Range in Still Air.............................................................................. ..... 7 \\nFlare.......................................................................................................................... ............................... 7  \\n \\nTable of Figures \\n \\n12-4 Fig 1 Autorotation - Terms Used ..................................................................................................... 2  \\n12-4 Fig 2 Distribution of Rotational Forces ............................................................................................ 2  \\n12-4 Fig 3 Autorotation - Position of Total Reaction and Autorotative Forces ........................................ 3  \\n12-4 Fig 4 Inflow Angle and Rate of Descent Relationship ..................................................................... 4  \\n12-4 Fig 5 Inflow Angle - Disc Tilted Forward ......................................................................................... 5  \\n12-4 Fig 6 Inflow Angle - Effect of Horizontal Airflow .............................................................................. 5  \\n12-4 Fig 7 Inflow Angle - Effect of Forward Speed ................................................................................. 6  \\n12-4 Fig 8 Effect of Forward Speed on Rate of Descent ........................................................................ 7  \\n12-4 Fig 9 Range and Endurance ........................................................................................................... 7  \\n12-4 Fig 10 Typical Autorotation Avoid Areas ......................................................................................... 8  \\n \\n \\nAUTOROTATION IN STILL AIR \\n \\nIntroduction \\n \\n1. In powered flight, the rotor drag is overcome  with engine \\npower but, when the engine fails or is \\ndeliberately disengaged from the rotor system, some other force must be used to maintain the rotor \\nrpm.  This is achieved by allowing the helicopter to descend and by lowering the collective lever fully so that the resultant airf low strikes the blades in such a manner that the airflow it self provides the \\ndriving force.  When the helicopter is descending in  this manner, the rate of descent becomes the \\npower equivalent and the helicopter is said  to be in a state of autorotation. \\n 2. Although most autorotations ar e carried out with forward speed, the explanation as to why the \\nblades continue to turn when in rotation can best be seen if it is considered that the helicopter is \\nautorotating vertically downwards in still air.  Under these conditions, if the various forces involved are calculated for one blade, the calculations will be valid for all the other blades irrespective of where the \\nblade is positioned in its 360\\uf0b0  of travel.  The various airflows and angles which will be referred to are \\nshown in Fig 1. \\nRevised Mar 10  Page 1 of 8 ', metadata={'source': 'data\\\\124\\\\AP3456 Vol 12 Helicopters.pdf', 'page': 40}),\n",
       "  Document(page_content='OFFICIAL (CLOSED)  \\n21-3 \\nOFFICIAL (CLOSED)  UNAIDED AUTOROTATION  \\n \\n21.8 Glide autorotation . Only glide autorotations are permitted at night. In \\ngeneral, unaided autorotations are conducted as per that in the da y with the \\nfollowing exceptions:  \\n \\na. HFIPAL . Due to risk minimisation owing to the lower visual \\nacuity and depth perception at night, the flare height at night will be 100ft \\nAGL, ‘check’ at 20ft AGL and overshoot height at 10ft AGL . These \\nspecific details sho uld be called out in clear during the HFIPAL checks.  \\n \\nb. Finals . The aim point will be selected using lane or runway edge \\nlights to judge ranging. On entering autorotation, the searchlight should \\nbe switched on.  Crew should be cautious of the high ROD in view  of \\nreduced depth perception at night.  The searchlight may be adjusted to \\nilluminate the required area  to aid with low illumination . As a guide, it \\nshould be set at a slightly higher angle than for a normal approach to allow \\nthe area ahead of the helicopte r to be lit in the flare. The flare recovery is \\nconducted as per the paramete rs above after which a standard overshoot \\nform autorotation is conducted.   \\n \\n \\nNIGHT EMERGENCIES  \\n \\n21.9 In general, there is no difference in the handling of emergencies and FRC \\ndrills at  night. However, the following peculiar differences should be noted:  \\n \\na. Total Radio / Electric Failure . The NORDO or Total E procedure \\nis as stated in the ATCI. For Total E, crew will require the use of personal \\ntorchlights, lip lights and finger lights to i lluminate the instruments.  \\n \\nb. External lighting failure . Inform ATC and carry out a normal \\ncircuit to land then return to dispersal.  \\n \\nc. Disorientation . Operating in the night environment can lead to \\ndisorientation if a pilot is unaware of the limitations of n ight vision and \\nthe visual illusions that may occur  (See Annex A for details) . Should a \\npilot experience disorientation, he is to adopt the following actions:  \\n \\n(1) Announce “Right / Left seat disoriented”.  \\n \\n(2) Roll wings level and initiate a climb to a safe heig ht \\n ', metadata={'source': 'data\\\\124\\\\EEM FINAL caa201221.pdf', 'page': 286}),\n",
       "  Document(page_content='OFFICIAL (CLOSED)   \\n11-15 \\nOFFICIAL (CLOSED)   (1)  Verbal warning . Call out “Within range, enter \\nAutorotation”.  \\n \\n(2) Cyclic . Lead the entry with application of aft cyclic. Select  \\nan attitude close to that of the flare recovery attitude. The rate of \\ncyclic entry should be paced carefully to ensure flare effects are \\ncorrectly harnessed. Too abrupt a cyclic input may lead to a sudden \\nspike in NR or a rapid loss of speed.  \\n \\n(3) Collective . Almost immediately after the cyclic, lower the \\ncollective fully in 2 -3 seconds while looking outside to maintain \\nthe flare attitude.  \\n \\n(4) Control NR . Raise the collective as required to maintain \\nNR within limits.  \\n \\n(5) Attitude . Anticipate 5kts prior to 65kts an d reselect the \\n65kts autorotative attitude.  \\n \\n(6) Decision . Make a final decision on whether the \\nautorotation and overshoot can be completed within the length of \\nthe assigned platform. If no, maintain attitude and conduct the \\novershoot.  \\n \\nf. 70ft AGL . Execute the flare recovery technique as described in the \\npreceding section.  \\n \\ng. 5ft. On completing the flare recovery for power on autorotation, \\nconduct the overshoot.  \\n \\n \\nENGINE OFF LANDING (EOL)3 \\n \\n11.14  Thus far, the emphasis of autorotations has been on executing the \\nmanoeuvr e from varying heights, culminating with the flare recovery. However, \\ndue to the single engine on the EC (and hence the possibility of an engine failure \\nor engine off ) an introduction to the Engine -Off Landing (EOL) technique will be \\ncovered.  \\n \\n11.15  Objective . The specific EOL profiles that will be introduced are: (1) 5ft \\nHover EOL, (2) Fast transition EOL, (3) Slow transition EOL and (4) Glide EOL  \\n                                           \\n3 Conducted only in the simulator.  ', metadata={'source': 'data\\\\124\\\\EEM FINAL caa201221.pdf', 'page': 124}),\n",
       "  Document(page_content='OFFICIAL (CLOSED)   \\n11-6 \\nOFFICIAL (CLOSED)   11.8 Aim point and touch down point . The end goal of the flare is to prepare \\nthe helicopter for the safe touchdown from an autorotation. The two key terms \\nand their significance in the terminal phase of an autorotation are th e aim point \\nand the touch down point.  \\nFigure 11-4: Aim point vs touchdown point  \\n \\na. Aim point . The aim point refers to the position that the helicopter \\nwould impact if the autorotation was continued to the ground without a \\nflare recovery.  \\n \\nb. Touch down point . The touch down point is the point where the \\nhelicopter would touch down upon the completion of the flare recovery. \\nDue to flare effects, the helicopter prescribes a shallower glide slope \\nbetween the point of commencement of the flare and the touch down (See \\nFigure  11-4 above ). In nil wind conditions, the approximate distance \\nbetween the aim point to the touch down is 300ft. In SBAB, this is about \\nthree -quarter the distance between two sets of marker boards. As such, \\nwhen conducting autorotations to the la ne, the touch down point will be \\napproximately two marker boards ahead of the aim point.  \\n \\n \\nGLIDE AUTOROTATION  \\n \\n11.9 Glide Autorotation.  Glide autos  or straight -in autorotation is a direct \\nextension of basic autorotation. The flare technique will be introduced i n glide \\nautorotation along with the application of standard ranging for the touchdown \\npoint. The sequence is as follows:  \\n \\na. Circuit . Glide autos is flown at 1000ft AMSL in SBAB. For the \\ntake-off, ensure the R/T call includes the intention to conduct autorota tion. \\nOn downwind, conduct the HFIPAL checks. For the H, ensure the \\nIntended \\nTouchdown \\nPoint  \\nFlare – 70ft \\nAim Point  ', metadata={'source': 'data\\\\124\\\\EEM FINAL caa201221.pdf', 'page': 115})]}"
      ]
     },
     "execution_count": 14,
     "metadata": {},
     "output_type": "execute_result"
    }
   ],
   "source": [
    "qa({'question' : \"Tell me more about glide autorotation\"})"
   ]
  },
  {
   "cell_type": "markdown",
   "metadata": {},
   "source": [
    "## Versioning Control Tests"
   ]
  },
  {
   "cell_type": "code",
   "execution_count": null,
   "metadata": {},
   "outputs": [],
   "source": []
  },
  {
   "cell_type": "markdown",
   "metadata": {},
   "source": [
    "## Alternate embedding models"
   ]
  },
  {
   "cell_type": "code",
   "execution_count": 27,
   "metadata": {},
   "outputs": [],
   "source": [
    "from langchain.embeddings.openai import OpenAIEmbeddings\n",
    "from langchain.chat_models import AzureChatOpenAI\n",
    "from langchain.vectorstores import FAISS\n",
    "from langchain.document_loaders import PyPDFLoader, DirectoryLoader\n",
    "from langchain.chains import RetrievalQA\n",
    "from langchain.chains.question_answering import load_qa_chain\n",
    "\n",
    "def load_docs(filepath):\n",
    "    loader = DirectoryLoader(filepath, glob='**/*.pdf', loader_cls=PyPDFLoader)\n",
    "\n",
    "    docs = loader.load()\n",
    "    \n",
    "    return docs\n",
    "\n",
    "from langchain.embeddings import HuggingFaceBgeEmbeddings\n",
    "model_name = \"BAAI/bge-large-en-v1.5\"\n",
    "model_kwargs = {'device': 'cpu'}\n",
    "encode_kwargs = {'normalize_embeddings': True} # set True to compute cosine similarity\n",
    "\n",
    "def vector_load(docs, key, endpoint):\n",
    "    \n",
    "    embedding_model = HuggingFaceBgeEmbeddings(\n",
    "    model_name=model_name,\n",
    "    model_kwargs=model_kwargs,\n",
    "    encode_kwargs=encode_kwargs,\n",
    "    query_instruction=\"Represent the question for retrieving supporting documents: \"\n",
    ")\n",
    "    \n",
    "    # need to build some logic here for checking the database - if exists then just add if not, create\n",
    "    \n",
    "    db = FAISS.from_documents(docs, embedding_model)\n",
    "    \n",
    "    return db\n",
    "   "
   ]
  },
  {
   "cell_type": "code",
   "execution_count": null,
   "metadata": {},
   "outputs": [],
   "source": [
    "# Was not able to finish because it was running for 15 minutes but still not done transforming yet\n",
    "docs = load_docs('./data/')\n",
    "db_bge = vector_load(docs, embed_key, embed_endpoint)"
   ]
  },
  {
   "cell_type": "code",
   "execution_count": null,
   "metadata": {},
   "outputs": [],
   "source": []
  }
 ],
 "metadata": {
  "kernelspec": {
   "display_name": ".venv",
   "language": "python",
   "name": "python3"
  },
  "language_info": {
   "codemirror_mode": {
    "name": "ipython",
    "version": 3
   },
   "file_extension": ".py",
   "mimetype": "text/x-python",
   "name": "python",
   "nbconvert_exporter": "python",
   "pygments_lexer": "ipython3",
   "version": "3.11.5"
  },
  "orig_nbformat": 4
 },
 "nbformat": 4,
 "nbformat_minor": 2
}
