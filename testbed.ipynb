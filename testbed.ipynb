{
 "cells": [
  {
   "cell_type": "code",
   "execution_count": null,
   "metadata": {},
   "outputs": [],
   "source": [
    "# Install required dependencies\n",
    "! pip install openai num2words matplotlib plotly scipy scikit-learn pandas tiktoken langchain pypdf faiss-cpu"
   ]
  },
  {
   "cell_type": "code",
   "execution_count": 1,
   "metadata": {},
   "outputs": [],
   "source": [
    "# Setup openAI connections\n",
    "\n",
    "import keys\n",
    "\n",
    "embed_key = keys.embed_key\n",
    "embed_endpoint = \"https://raid-openai-e27bcf212.openai.azure.com/\"\n",
    "\n",
    "gpt_key = keys.gpt_key\n",
    "gpt_endpoint = \"https://raid-ses-openai.openai.azure.com/\""
   ]
  },
  {
   "cell_type": "code",
   "execution_count": null,
   "metadata": {},
   "outputs": [],
   "source": [
    "# some logic here to better split the documents instead of just by page??"
   ]
  },
  {
   "cell_type": "code",
   "execution_count": 2,
   "metadata": {},
   "outputs": [],
   "source": [
    "from langchain.embeddings.openai import OpenAIEmbeddings\n",
    "from langchain.chat_models import AzureChatOpenAI\n",
    "from langchain.vectorstores import FAISS\n",
    "from langchain.document_loaders import PyPDFLoader, DirectoryLoader\n",
    "from langchain.chains import RetrievalQA\n",
    "from langchain.chains.question_answering import load_qa_chain\n",
    "\n",
    "def load_docs(filepath):\n",
    "    loader = DirectoryLoader(filepath, glob='**/*.pdf', loader_cls=PyPDFLoader)\n",
    "\n",
    "    docs = loader.load()\n",
    "    \n",
    "    return docs\n",
    "\n",
    "def vector_load(docs, key, endpoint):\n",
    "    \n",
    "    embedding_model = OpenAIEmbeddings(\n",
    "    openai_api_type=\"azure\",\n",
    "    openai_api_key=key, \n",
    "    openai_api_base=endpoint,\n",
    "    openai_api_version=\"2023-05-15\",\n",
    "    deployment=\"text-embedding-ada-002\"\n",
    "    )\n",
    "    \n",
    "    # need to build some logic here for checking the database - if exists then just add if not, create\n",
    "    \n",
    "    db = FAISS.from_documents(docs, embedding_model)\n",
    "    \n",
    "    return db\n",
    "    "
   ]
  },
  {
   "cell_type": "code",
   "execution_count": 135,
   "metadata": {},
   "outputs": [],
   "source": [
    "docs = load_docs('./data/')\n",
    "db = vector_load(docs, embed_key, embed_endpoint)"
   ]
  },
  {
   "cell_type": "code",
   "execution_count": 3,
   "metadata": {},
   "outputs": [],
   "source": [
    "db = FAISS.load_local(\"dbstore\", OpenAIEmbeddings(\n",
    "    openai_api_type=\"azure\",\n",
    "    openai_api_key=embed_key, \n",
    "    openai_api_base=embed_endpoint,\n",
    "    openai_api_version=\"2023-05-15\",\n",
    "    deployment=\"text-embedding-ada-002\"\n",
    "    ))"
   ]
  },
  {
   "cell_type": "code",
   "execution_count": 13,
   "metadata": {},
   "outputs": [],
   "source": [
    "from langchain.chat_models import AzureChatOpenAI\n",
    "from langchain.chains import ConversationalRetrievalChain\n",
    "from langchain.memory import ConversationSummaryBufferMemory\n",
    "\n",
    "# initiate llm\n",
    "llm = AzureChatOpenAI(openai_api_type=\"azure\", \n",
    "                      openai_api_version=\"2023-05-15\", \n",
    "                      openai_api_base=gpt_endpoint, \n",
    "                      openai_api_key=gpt_key, \n",
    "                      deployment_name=\"raidGPT\", \n",
    "                      temperature=0.0)\n",
    "\n",
    "retriever = db.as_retriever(search_kwargs = {\"k\": 10})\n",
    "\n",
    "memory = ConversationSummaryBufferMemory(llm=llm,\n",
    "                                   memory_key=\"chat_history\", \n",
    "                                   input_key=\"question\", \n",
    "                                   output_key=\"answer\", \n",
    "                                   return_messages=True)\n",
    "\n",
    "qa = ConversationalRetrievalChain.from_llm(llm=llm, \n",
    "                                           retriever=retriever, \n",
    "                                           return_source_documents=True, \n",
    "                                           memory = memory)"
   ]
  },
  {
   "cell_type": "code",
   "execution_count": 5,
   "metadata": {},
   "outputs": [],
   "source": [
    "result = qa({'question' : \"What is a FOEL check?\"})"
   ]
  },
  {
   "cell_type": "code",
   "execution_count": 9,
   "metadata": {},
   "outputs": [
    {
     "name": "stdout",
     "output_type": "stream",
     "text": [
      "data\\PC-21 Employment Manual - Chapt 10 Straight _ Level AL16 Mar 2023.pdf\n"
     ]
    }
   ],
   "source": [
    "print(result[\"source_documents\"][0].metadata[\"source\"])"
   ]
  },
  {
   "cell_type": "markdown",
   "metadata": {},
   "source": [
    "## Testing custom prompt"
   ]
  },
  {
   "cell_type": "code",
   "execution_count": 5,
   "metadata": {},
   "outputs": [],
   "source": [
    "from langchain.prompts.prompt import PromptTemplate"
   ]
  },
  {
   "cell_type": "code",
   "execution_count": 6,
   "metadata": {},
   "outputs": [],
   "source": [
    "custom_template = \"\"\"\n",
    "You are a bot designed to answer military pilot trainees' questions from various flying handbooks and rulebooks. Use the context provided below to answer their questions. If you don't know the answer, just say that you don't know, don't try to make up an answer. \n",
    "\n",
    "{context}\n",
    "\n",
    "Additionally, this was the chat history of your conversation with the user.\n",
    "{chat_history}\n",
    "\n",
    "Question: {question}\n",
    "\n",
    "\"\"\"\n",
    "\n",
    "PROMPT = PromptTemplate.from_template(template=custom_template)"
   ]
  },
  {
   "cell_type": "code",
   "execution_count": 14,
   "metadata": {},
   "outputs": [],
   "source": [
    "qa = ConversationalRetrievalChain.from_llm(llm=llm, \n",
    "                                           retriever=retriever, \n",
    "                                           return_source_documents=True, \n",
    "                                           memory = memory,\n",
    "                                           combine_docs_chain_kwargs={\"prompt\" : PROMPT})"
   ]
  },
  {
   "cell_type": "code",
   "execution_count": 15,
   "metadata": {},
   "outputs": [
    {
     "data": {
      "text/plain": [
       "{'question': 'engine flameout from flight idle',\n",
       " 'chat_history': [HumanMessage(content='engine flameout from flight idle', additional_kwargs={}, example=False),\n",
       "  AIMessage(content='Answer: According to the handbook, an engine flameout from flight idle takes approximately 16-17 seconds. This is based on a technical query sent. If a flameout occurs, the pilot should execute the correct Critical Action Procedures (CAPs) and prioritize turning towards a suitable airfield. The pilot should also check the Inter-Turbine Temperature (ITT) and Gas Generator speed (NG) for signs of relight. If the engine fails to relight, the Engine Pre-Start and Auto Start CAPs should be executed immediately.', additional_kwargs={}, example=False)],\n",
       " 'answer': 'Answer: According to the handbook, an engine flameout from flight idle takes approximately 16-17 seconds. This is based on a technical query sent. If a flameout occurs, the pilot should execute the correct Critical Action Procedures (CAPs) and prioritize turning towards a suitable airfield. The pilot should also check the Inter-Turbine Temperature (ITT) and Gas Generator speed (NG) for signs of relight. If the engine fails to relight, the Engine Pre-Start and Auto Start CAPs should be executed immediately.',\n",
       " 'source_documents': [Document(page_content='OFFICIAL (CLOSED) \\n \\n28-47 \\nOFFICIAL (CLOSED)  \\nChapter 28 – Emergency Procedure Handling  AL16 MAR 2023  9.7. Engine Flameout . \\n \\n9.7.1. Considerations . \\n \\na. If aircraft is within groove  of suitable airfield, \\nexecute CAPs while prioritising the turn towards the \\nairfield. This will prevent flying out of groove height \\nwithout engine relight. \\n \\nb. If aircraft is not within groove  of suitable airfield, \\nprioritise CAPs and Air Start drills, while turning \\ntowards the airfield. \\n \\nc. Check ITT and NG for signs of relight (NG >80% / \\nITT >400°C). The TQ is likely to show a very low \\nvalue due to the throttle at idle. Advance the throttle \\nto check for engine response once the NG and ITT \\nare showing signs of relight. \\n \\nd. As this emergency requires CAPs to be executed, if \\nengine fails to relight, execute the Engine Pre-Start \\nand Auto Start CAPs immediately. \\n \\n9.8. Surge \\n \\n9.8.1. Possible causes . \\n \\na. Disrupted airflow \\nb. Compressor stalls \\nc. Faults in the PMS \\n \\n9.8.2. Possible signs and symptoms . \\n \\na. Loss of power \\nb. ITT excessively high or fluctuating \\nc. Unusual engine noise (popping or rumbling) \\n \\n9.8.3. Considerations . \\n \\na. Do not confuse the signs and symptoms with Engine \\nFailure or Mechanical Engine Failure in Flight.  \\nb. During engine surge, useable thrust may still be \\navailable. ', metadata={'source': 'data\\\\PC-21 Employment Manual - Chapt 28 EP Handling AL16 Mar 2023.pdf', 'page': 46}),\n",
       "  Document(page_content='OFFICIAL (CLOSED) \\n \\n28-52 \\nOFFICIAL (CLOSED)  \\nChapter 28 – Emergency Procedure Handling  AL16 MAR 2023  9.18. Engine Temperature . \\n \\n9.18.1. Considerations . \\n \\na. If ENG ITT appears with a FIRE warning light, \\napply the CAPs for Fire.  \\nb. On ground, with high OAT and the sudden \\ndeceleration during the landing roll. ITT may \\nmomentarily increase above 750°C and resolve \\nwithout aircrew actions. This must be reported to \\nlogistic crew after landing.  \\nc. When advancing the throttle above 63% NG on \\nground, beware of the NP limits.  \\nd. NP should not be maintained between 1600 RPM \\nand 1950 RPM continuously with winds from the \\nrear. \\ne. Low ITT in the air may indicate engine flameout. \\nCross check with other engine instruments to \\nconfirm the situation.  \\n \\n9.19. Engine Fire In The Air  \\n \\n9.19.1. The key consideration to handling this emergency is to first \\nprioritise executing the correct CAPs to contain the situation, \\nfollowed by recovering to within gliding range of an airfield \\nfor a PFL/FL in the event of engine shut down. \\n \\n9.19.2. Do not attempt a restart after engine had been shut down due \\nto FIRE, FOD, or FROZEN (seizure of engine during \\nmechanical failure). \\n \\n9.19.3. Considerations . \\n \\na. Positive signs of fire may include: Visual signs of \\nFire, excessively or fluctuating high ITT, or smoke \\npresent from engine compartment or in the cockpit. \\nb. The FIRE warning light going off after initial \\npositive signs of fire does not necessarily mean that \\nthe fire had been arrested. It may be a malfunction of \\ncircuitry due to the fire that had damaged electrical \\ncomponents.  \\nc. Pull EO2 and ACS SHUT OFF (per CAPs) to \\nprevent breathing in toxic smoke/fumes. ', metadata={'source': 'data\\\\PC-21 Employment Manual - Chapt 28 EP Handling AL16 Mar 2023.pdf', 'page': 51}),\n",
       "  Document(page_content='OFFICIAL (CLOSED) \\n \\n28-48 \\nOFFICIAL (CLOSED)  \\nChapter 28 – Emergency Procedure Handling  AL16 MAR 2023  c. Monitor engine parameters closely while executing \\nchecklist.  \\nd. Throttle at Idle may resolve the surge. However if \\nsurge continues when power is increased, consider \\nselecting PMS MAN. \\ne. If PMS is automatically or manually selected to \\nMAN mode, the nominal fuel flow schedule of the \\nMAN mode will not be implemented until the \\nthrottle is moved less than 55° of the forward \\nposition. \\nf. MAN mode idle is at 67 +/-7% NG. Higher thrust on \\nground (auto approximately 54% NG). Lower thrust \\nin the air (auto approximately 80%). \\ng. Monitor engine parameters closely and do not \\nexceed 67.5% TQ limit. \\nh. If engine indications cannot be restored in PMS \\nMAN. Execute gliding checks and attempt an engine \\nrelight in auto mode.   \\n \\n9.9. Engine Speed . \\n \\n9.9.1. Considerations . \\n \\na. NG falls below flight idle value of approximately \\n80% may indicate a flameout. Cross check with all \\nother engine parameters.  \\n \\n9.10. Propeller Speed . \\n \\n9.10.1. Considerations . \\n \\na. If heavy vibration or uncontrollable speed runaway \\nof the propeller is experienced, consider expediting \\nclimb to groove height and consider shutting down \\nthe engine.  \\nb. Depending on over or under speed situation, select \\nthrottle as required to maintain engine parameters \\nwithin limits.  \\nc. Refer to engine page on MFD to monitor engine \\ninstruments.  \\n9.11. PMS Total Failure . \\n ', metadata={'source': 'data\\\\PC-21 Employment Manual - Chapt 28 EP Handling AL16 Mar 2023.pdf', 'page': 47}),\n",
       "  Document(page_content='OFFICIAL (CLOSED) \\n \\n28-44 \\nOFFICIAL (CLOSED)  \\nChapter 28 – Emergency Procedure Handling  AL16 MAR 2023  g. Once the aircraft has safely stopped, aircrew will \\nrefer to checklist and execute the subsequent actions. \\n \\nh. Before ground egress, ensure seat pin is IN and \\nparking brake is set. \\n \\n9.4. Mechanical Engine Failure In Flight . \\n \\n9.4.1. Possible Causes . \\n \\na. FOD Ingestion \\nb. Low Oil Pressure \\nc. Metal particles detected in gearbox. (CHIP \\nPROP/AGB) \\n \\n9.4.2. Possible Signs and Symptoms . \\n \\na. Grinding sounds from engine before failure \\nb. Engine torque rapidly decreases / snaps to 0 \\nc. Sudden stop in engine instead of a gradual wind \\ndown \\nd. Loud/rumbling/grinding engine noise \\ne. Vibration felt from the aircraft nose area \\n \\n9.5. Uncommanded Power Changes . \\n \\n9.5.1. Possible Causes . \\n \\na. PMS fault / failure  \\nb. Fuel scheduling malfunction  \\n \\n9.5.2. Considerations . \\n \\na. If PMS is automatically or manually selected to \\nMAN mode, the nominal fuel flow schedule of the \\nMAN mode will not be implemented until the \\nthrottle is moved less than 55° of the forward \\nposition. \\nb. MAN mode idle is at 67 +/-7% NG. Higher thrust on \\nground (approximately 54% NG in AUTO mode). \\nLower thrust in the air (approximately 80% NG in \\nAUTO mode). ', metadata={'source': 'data\\\\PC-21 Employment Manual - Chapt 28 EP Handling AL16 Mar 2023.pdf', 'page': 43}),\n",
       "  Document(page_content='OFFICIAL (CLOSED) \\n \\n28-11 \\nOFFICIAL (CLOSED)  \\nChapter 28 – Emergency Procedure Handling  AL16 MAR 2023  conduct a forced landing (established in groove), (2) \\ntime available to safely relight the engine and \\nrecover from the dive and (3) proximity to ground \\nand populace. The Flameout Decision Matrix serves \\nas a guide for aircrew to prioritise their actions in \\naccordance with the emergency handling principles. \\nb. Established in Groove . Aircrew should prioritise the \\nsafe recovery of the aircraft via a flameout approach. \\nWhere practicable, aircrew may conduct relight \\ndrills in an attempt to restart the engine. However, \\nthe safe recovery of the aircraft should not be \\ncompromised for an engine relight. \\nc. Out of Groove . When a safe flameout approach \\ncannot be achieved, aircrew should determine if \\nthere is sufficient time to conduct a relight before \\nMinimum Safe Ejection Altitude. As a guide, an \\nimmediate relight with dive recovery requires 500-\\n600ft of height loss. \\n \\ni. Above Controlled Ejection Altitude . With sufficient \\nheight/time for relight, aircrew should prioritise engine \\nrelight when established out of groove above controlled \\nejection height. \\nii. Below Controlled Ejection Altitude . Due to the proximity \\nof the aircraft to ground, aircrew should prioritise a safe \\nejection with considerations for the safety of populace, \\naircrew and aircraft. While a relight may be attempted, a \\nsafe ejection should not be compromised for an engine \\nrelight. An ejection must not be delayed if sufficient \\nthrust cannot be achieved to recover the aircraft above the \\nMinimum Safe Ejection Altitude. \\n \\n2.4.7. Minimum Safe Ejection Altitude (400ft AGL) . Aircrew should \\nnot delay ejection decision below the controlled ejection \\naltitude, unless aircraft is assessed to be within groove for a \\nsafe recovery via a flameout approach to a suitable runway, or \\nwhen engine shows signs of positive relight (sufficient thrust \\nfor dive recovery above Minimum Safe Ejection Altitude). \\nWhen established in FL parameters, aircrew may continue to \\ndescend below controlled ejection altitude to attempt a FL \\napproach. If a safe landing cannot be achieved from the ', metadata={'source': 'data\\\\PC-21 Employment Manual - Chapt 28 EP Handling AL16 Mar 2023.pdf', 'page': 10}),\n",
       "  Document(page_content='OFFICIAL (CLOSED) \\n \\n28-41 \\nOFFICIAL (CLOSED)  \\nChapter 28 – Emergency Procedure Handling  AL16 MAR 2023  9. ENGINE MALFUNCTION \\n \\nEngine Malfunction . \\n \\nThe key considerations when handling an engine related emergency \\nare: \\n \\na. Execute CAPs if applicable \\nb. Upon recognition of the engine related malfunctions, \\naircrew must execute the correct CAPs expeditiously \\nin the attempt to resolve the emergency. \\n \\nDetermine if there is useable power available to sustain flight for the \\nemergency experienced. \\n \\nc. The minimum power required to sustain level flight \\nis ~20-25% at low altitude, and ~25-35% at higher \\naltitudes. \\nd. If power is available, aircrew can use it to achieve \\ngroove.  \\ne. Do not attempt a restart after engine had been shut \\ndown / failed due to FIRE, FOD, or FROZEN \\n(seizure of engine during mechanical failure). \\n \\nDetermine if the aircraft is within gliding range (2:1) to a key position \\n/ within groove (1:1). \\n \\nf. If within gliding range and/or groove to a suitable \\nairfield, aircrew should task prioritise flying the \\nPFL/FL accurately to ensure a successful landing. \\nTime and capacity permitting, aircrew should \\nreference checklist actions (other than CAPs) for \\nnon-critical emergencies.  \\ng. If not within gliding range, aircrew should prioritise \\nexecuting checklist actions in attempt to restore a \\nuseable engine. (eg. Flameout experienced outside \\nof gliding range to GIN i.e when flying in the PTA).  \\nh. Monitor engine instruments closely for signs of \\nrelight. \\n \\n9.1. Starter Motor Remains Engaged With Engine Running . \\n ', metadata={'source': 'data\\\\PC-21 Employment Manual - Chapt 28 EP Handling AL16 Mar 2023.pdf', 'page': 40}),\n",
       "  Document(page_content='OFFICIAL (CLOSED) \\n \\n28-57 \\nOFFICIAL (CLOSED)  \\nChapter 28 – Emergency Procedure Handling  AL16 MAR 2023  10.3. Auto Start . \\n \\n10.3.1. Considerations . \\n \\na. Engine parameters must be monitored closely during \\nthe air start process. The start sequence will not be \\nautomatically terminated if limitations are exceeded. \\nb. Following Flameout CAPs, ensure that IGN is \\nswitched back to Auto during the Auto Start process. \\nc. NG must be 13% minimum to prevent high ITT. \\nd. If relight was successful, refer to After Relight drills. \\ne. If relight was unsuccessful, complete the checklist \\nfor Auto Start first. Subsequently, refer to gliding \\nchecks as per the checklist prior to carrying out \\nManual Relight.  \\n \\n10.4. Manual Relight (PMS in MAN) . \\n \\n10.4.1. Considerations . \\n \\na. Maximum airspeed of 140 KIAS.  \\nb. Select engine page to monitor all engine \\ninstruments. \\nc. Once Fuel Pumps are on and Starter is switched to \\nMAN, oil pressure will immediately start rising. \\nOnce oil pressure rises, select IGN to IGN. \\nd. Ensure NG 13% minimum before advancing the \\nthrottle to prevent high ITT. \\ne. Throttle movement is directly linked to the amount \\nof fuel directed to the engine. In PMS MAN mode, \\nthrottle is linked via a bowden cable to the FMU. \\nf. Throttle must be slowly advanced and stopped once \\nITT increases. Wait until ITT stabilises or starts \\ndecreasing advance throttle again. Repeat until the \\nthrottle reaches the Idle detent. \\ng. NG should stabilise at 67 +/- 7% after a successful \\nrelight, with higher thrust on ground (compared to \\nAuto ground idle of ~54% NG) and lower thrust in \\nthe air (compared to Auto flight idle of ~80% NG). \\nh. Monitor engine parameters closely and do not \\nexceed 67.5% TQ limit. \\ni. If relight was successful, refer to After Relight drills. ', metadata={'source': 'data\\\\PC-21 Employment Manual - Chapt 28 EP Handling AL16 Mar 2023.pdf', 'page': 56}),\n",
       "  Document(page_content='OFFICIAL (CLOSED) \\n \\n28-18 \\nOFFICIAL (CLOSED)  \\nChapter 28 – Emergency Procedure Handling  AL16 MAR 2023  3. FLAMEOUT APPROACHES (PFL/FL) \\n \\n3.1. Introduction . In general, when handling engine related EPs, \\naircrew should task prioritise flying the aircraft to a key position \\n(or 1:1). They will then refer to the EP checklist and E-Matrix if \\ntime and capacity allows. Once established in key position, \\naircrew should prioritise flying the PFL/FL to a safe touchdown. \\n \\n3.2. Land Back .  \\n \\n3.2.1. Land back is generally attempted when the aircraft experiences \\na critical engine malfunction such that useable thrust cannot be \\nproduced to safely climb to low key (example flameout). A \\nland back may be attempted when landing gears are down and \\nthere is sufficient runway remaining.  \\n \\n3.2.2. When engine fails during takeoff, the aircraft reverts to Mode \\n3 braking, with a landing distance of approximately 3348ft \\n(referencing AFM landing ground roll distance of 3100ft in \\nMode 2 + 8% for manual braking). As a rule of thumb, to \\njudge sufficient runway remaining, we need to make sure we \\nhave approximately 4000ft of runway available. \\n \\n3.2.3. At Pearce airfield, the Tacan station is approximately 4000ft \\ninto the main runway (RWY 18L/36R), therefore the Tacan \\nstation can be used as a visual cue to determine whether there \\nis approximately 4000ft of runway remaining. For short \\nrunways like runway 05/23 and Gin Gin, 4000ft of runway \\nremaining occurs very quickly approximately 2-3seconds after \\nlift off from a take-off or touch & go. \\n \\n3.2.4. Flaps may be lowered to landing position to reduce the stalling \\nspeed for landing, if doing so will not sacrifice the execution \\nof a safe landing. \\n \\n3.2.5. Land back should only be performed by QFI because of their \\nexperience level. Trainees should consider ejection as a safer \\noption due to low experience level. \\n \\n3.3. Turn Back . \\n ', metadata={'source': 'data\\\\PC-21 Employment Manual - Chapt 28 EP Handling AL16 Mar 2023.pdf', 'page': 17}),\n",
       "  Document(page_content='OFFICIAL (CLOSED) \\n \\n28-46 \\nOFFICIAL (CLOSED)  \\nChapter 28 – Emergency Procedure Handling  AL16 MAR 2023  configure for straight in. Aircrew should consider gliding to a \\nkey position and shutting down at key position.  \\n \\n9.6.4. Aircrew can make use of airbrake as required to control speed \\nbefore and during approach.  \\n \\n9.6.5. Note: Operation of airbrake is not available after an engine \\nshut down.  \\n \\n9.6.6. If throttle is stuck at a high power setting, and airbrake is \\ninsufficient to slow down the aircraft to configuration speed, \\naircrew can consider:  \\n \\na. Establishing in a climb to slow down the aircraft, \\nb. Establishing in a 360° turn and use G to slow down \\nthe aircraft (like a MPLT manoeuvre). Be aware that \\naircraft must be between 0 to +2G when gears are \\nlowered to prevent overstress of the transitional G \\nlimits. \\n \\n9.6.7. Judgement of when landing is assured is based on individual \\naircrew experience, available runway length, throttle TQ \\nsetting, aircraft parameters and environmental conditions.  \\n \\n9.6.8. As a guide, 8000’ of runway is sufficient for the engine to be \\nshut down and aircraft to be stopped when FUEL HYD \\nCUTOFF HANDLE is pulled crossing the threshold.  \\n \\n9.6.9. Ensure Airbrake is in before pulling FUEL HYD CUTOFF \\nHANDLE. Gears must be lowered subsequently (if not already \\nlowered) via emergency means with a failed engine, to obtain \\nthe landing gear, flaps, and braking services. Refer to \\nemergency landing checks.  \\n \\n9.6.10. Engine takes ~10-11 seconds to flameout from 50% TQ and \\n~16-17 seconds to flameout from flight idle (Based on tech \\nquery sent). \\n  ', metadata={'source': 'data\\\\PC-21 Employment Manual - Chapt 28 EP Handling AL16 Mar 2023.pdf', 'page': 45}),\n",
       "  Document(page_content='OFFICIAL (CLOSED) \\n \\n28-58 \\nOFFICIAL (CLOSED)  \\nChapter 28 – Emergency Procedure Handling  AL16 MAR 2023  j. If relight was unsuccessful, complete check list for \\nManual Relight followed by gliding checks. \\n \\n10.5. After Relight . \\n \\n10.5.1. Considerations . \\n \\na. Following a successful relight, regardless of Auto or \\nManual relight, the after relight check list must be \\ncarried out. \\nb. Continue to monitor engine parameters closely as a \\nflameout may occur again. \\nc. EO2 may have depleted if used more than 5 minutes. \\nPressurise the cockpit and switch on OXY. \\n  ', metadata={'source': 'data\\\\PC-21 Employment Manual - Chapt 28 EP Handling AL16 Mar 2023.pdf', 'page': 57})]}"
      ]
     },
     "execution_count": 15,
     "metadata": {},
     "output_type": "execute_result"
    }
   ],
   "source": [
    "qa({\"question\": \"engine flameout from flight idle\"})"
   ]
  },
  {
   "cell_type": "code",
   "execution_count": 9,
   "metadata": {},
   "outputs": [
    {
     "data": {
      "text/plain": [
       "'Answer: The engine takes approximately 16-17 seconds to flameout from flight idle.'"
      ]
     },
     "execution_count": 9,
     "metadata": {},
     "output_type": "execute_result"
    }
   ],
   "source": [
    "qa({'question' : \"How long does it take the engine to flameout from idle?\"})[\"answer\"]"
   ]
  },
  {
   "cell_type": "code",
   "execution_count": 16,
   "metadata": {},
   "outputs": [
    {
     "data": {
      "text/plain": [
       "{'question': 'What about from 50% power setting?',\n",
       " 'chat_history': [HumanMessage(content='engine flameout from flight idle', additional_kwargs={}, example=False),\n",
       "  AIMessage(content='Answer: According to the handbook, an engine flameout from flight idle takes approximately 16-17 seconds. This is based on a technical query sent. If a flameout occurs, the pilot should execute the correct Critical Action Procedures (CAPs) and prioritize turning towards a suitable airfield. The pilot should also check the Inter-Turbine Temperature (ITT) and Gas Generator speed (NG) for signs of relight. If the engine fails to relight, the Engine Pre-Start and Auto Start CAPs should be executed immediately.', additional_kwargs={}, example=False),\n",
       "  HumanMessage(content='What about from 50% power setting?', additional_kwargs={}, example=False),\n",
       "  AIMessage(content='Answer: According to the handbook, an engine flameout from a 50% power setting (TQ) takes approximately 10-11 seconds. This is based on a technical query sent. As with any flameout, the pilot should execute the correct Critical Action Procedures (CAPs) and prioritize turning towards a suitable airfield. The pilot should also check the Inter-Turbine Temperature (ITT) and Gas Generator speed (NG) for signs of relight. If the engine fails to relight, the Engine Pre-Start and Auto Start CAPs should be executed immediately.', additional_kwargs={}, example=False)],\n",
       " 'answer': 'Answer: According to the handbook, an engine flameout from a 50% power setting (TQ) takes approximately 10-11 seconds. This is based on a technical query sent. As with any flameout, the pilot should execute the correct Critical Action Procedures (CAPs) and prioritize turning towards a suitable airfield. The pilot should also check the Inter-Turbine Temperature (ITT) and Gas Generator speed (NG) for signs of relight. If the engine fails to relight, the Engine Pre-Start and Auto Start CAPs should be executed immediately.',\n",
       " 'source_documents': [Document(page_content='OFFICIAL (CLOSED) \\n \\n28-47 \\nOFFICIAL (CLOSED)  \\nChapter 28 – Emergency Procedure Handling  AL16 MAR 2023  9.7. Engine Flameout . \\n \\n9.7.1. Considerations . \\n \\na. If aircraft is within groove  of suitable airfield, \\nexecute CAPs while prioritising the turn towards the \\nairfield. This will prevent flying out of groove height \\nwithout engine relight. \\n \\nb. If aircraft is not within groove  of suitable airfield, \\nprioritise CAPs and Air Start drills, while turning \\ntowards the airfield. \\n \\nc. Check ITT and NG for signs of relight (NG >80% / \\nITT >400°C). The TQ is likely to show a very low \\nvalue due to the throttle at idle. Advance the throttle \\nto check for engine response once the NG and ITT \\nare showing signs of relight. \\n \\nd. As this emergency requires CAPs to be executed, if \\nengine fails to relight, execute the Engine Pre-Start \\nand Auto Start CAPs immediately. \\n \\n9.8. Surge \\n \\n9.8.1. Possible causes . \\n \\na. Disrupted airflow \\nb. Compressor stalls \\nc. Faults in the PMS \\n \\n9.8.2. Possible signs and symptoms . \\n \\na. Loss of power \\nb. ITT excessively high or fluctuating \\nc. Unusual engine noise (popping or rumbling) \\n \\n9.8.3. Considerations . \\n \\na. Do not confuse the signs and symptoms with Engine \\nFailure or Mechanical Engine Failure in Flight.  \\nb. During engine surge, useable thrust may still be \\navailable. ', metadata={'source': 'data\\\\PC-21 Employment Manual - Chapt 28 EP Handling AL16 Mar 2023.pdf', 'page': 46}),\n",
       "  Document(page_content='OFFICIAL (CLOSED) \\n \\n28-48 \\nOFFICIAL (CLOSED)  \\nChapter 28 – Emergency Procedure Handling  AL16 MAR 2023  c. Monitor engine parameters closely while executing \\nchecklist.  \\nd. Throttle at Idle may resolve the surge. However if \\nsurge continues when power is increased, consider \\nselecting PMS MAN. \\ne. If PMS is automatically or manually selected to \\nMAN mode, the nominal fuel flow schedule of the \\nMAN mode will not be implemented until the \\nthrottle is moved less than 55° of the forward \\nposition. \\nf. MAN mode idle is at 67 +/-7% NG. Higher thrust on \\nground (auto approximately 54% NG). Lower thrust \\nin the air (auto approximately 80%). \\ng. Monitor engine parameters closely and do not \\nexceed 67.5% TQ limit. \\nh. If engine indications cannot be restored in PMS \\nMAN. Execute gliding checks and attempt an engine \\nrelight in auto mode.   \\n \\n9.9. Engine Speed . \\n \\n9.9.1. Considerations . \\n \\na. NG falls below flight idle value of approximately \\n80% may indicate a flameout. Cross check with all \\nother engine parameters.  \\n \\n9.10. Propeller Speed . \\n \\n9.10.1. Considerations . \\n \\na. If heavy vibration or uncontrollable speed runaway \\nof the propeller is experienced, consider expediting \\nclimb to groove height and consider shutting down \\nthe engine.  \\nb. Depending on over or under speed situation, select \\nthrottle as required to maintain engine parameters \\nwithin limits.  \\nc. Refer to engine page on MFD to monitor engine \\ninstruments.  \\n9.11. PMS Total Failure . \\n ', metadata={'source': 'data\\\\PC-21 Employment Manual - Chapt 28 EP Handling AL16 Mar 2023.pdf', 'page': 47}),\n",
       "  Document(page_content='OFFICIAL (CLOSED) \\n \\n28-46 \\nOFFICIAL (CLOSED)  \\nChapter 28 – Emergency Procedure Handling  AL16 MAR 2023  configure for straight in. Aircrew should consider gliding to a \\nkey position and shutting down at key position.  \\n \\n9.6.4. Aircrew can make use of airbrake as required to control speed \\nbefore and during approach.  \\n \\n9.6.5. Note: Operation of airbrake is not available after an engine \\nshut down.  \\n \\n9.6.6. If throttle is stuck at a high power setting, and airbrake is \\ninsufficient to slow down the aircraft to configuration speed, \\naircrew can consider:  \\n \\na. Establishing in a climb to slow down the aircraft, \\nb. Establishing in a 360° turn and use G to slow down \\nthe aircraft (like a MPLT manoeuvre). Be aware that \\naircraft must be between 0 to +2G when gears are \\nlowered to prevent overstress of the transitional G \\nlimits. \\n \\n9.6.7. Judgement of when landing is assured is based on individual \\naircrew experience, available runway length, throttle TQ \\nsetting, aircraft parameters and environmental conditions.  \\n \\n9.6.8. As a guide, 8000’ of runway is sufficient for the engine to be \\nshut down and aircraft to be stopped when FUEL HYD \\nCUTOFF HANDLE is pulled crossing the threshold.  \\n \\n9.6.9. Ensure Airbrake is in before pulling FUEL HYD CUTOFF \\nHANDLE. Gears must be lowered subsequently (if not already \\nlowered) via emergency means with a failed engine, to obtain \\nthe landing gear, flaps, and braking services. Refer to \\nemergency landing checks.  \\n \\n9.6.10. Engine takes ~10-11 seconds to flameout from 50% TQ and \\n~16-17 seconds to flameout from flight idle (Based on tech \\nquery sent). \\n  ', metadata={'source': 'data\\\\PC-21 Employment Manual - Chapt 28 EP Handling AL16 Mar 2023.pdf', 'page': 45}),\n",
       "  Document(page_content='OFFICIAL (CLOSED) \\n \\n28-57 \\nOFFICIAL (CLOSED)  \\nChapter 28 – Emergency Procedure Handling  AL16 MAR 2023  10.3. Auto Start . \\n \\n10.3.1. Considerations . \\n \\na. Engine parameters must be monitored closely during \\nthe air start process. The start sequence will not be \\nautomatically terminated if limitations are exceeded. \\nb. Following Flameout CAPs, ensure that IGN is \\nswitched back to Auto during the Auto Start process. \\nc. NG must be 13% minimum to prevent high ITT. \\nd. If relight was successful, refer to After Relight drills. \\ne. If relight was unsuccessful, complete the checklist \\nfor Auto Start first. Subsequently, refer to gliding \\nchecks as per the checklist prior to carrying out \\nManual Relight.  \\n \\n10.4. Manual Relight (PMS in MAN) . \\n \\n10.4.1. Considerations . \\n \\na. Maximum airspeed of 140 KIAS.  \\nb. Select engine page to monitor all engine \\ninstruments. \\nc. Once Fuel Pumps are on and Starter is switched to \\nMAN, oil pressure will immediately start rising. \\nOnce oil pressure rises, select IGN to IGN. \\nd. Ensure NG 13% minimum before advancing the \\nthrottle to prevent high ITT. \\ne. Throttle movement is directly linked to the amount \\nof fuel directed to the engine. In PMS MAN mode, \\nthrottle is linked via a bowden cable to the FMU. \\nf. Throttle must be slowly advanced and stopped once \\nITT increases. Wait until ITT stabilises or starts \\ndecreasing advance throttle again. Repeat until the \\nthrottle reaches the Idle detent. \\ng. NG should stabilise at 67 +/- 7% after a successful \\nrelight, with higher thrust on ground (compared to \\nAuto ground idle of ~54% NG) and lower thrust in \\nthe air (compared to Auto flight idle of ~80% NG). \\nh. Monitor engine parameters closely and do not \\nexceed 67.5% TQ limit. \\ni. If relight was successful, refer to After Relight drills. ', metadata={'source': 'data\\\\PC-21 Employment Manual - Chapt 28 EP Handling AL16 Mar 2023.pdf', 'page': 56}),\n",
       "  Document(page_content='OFFICIAL (CLOSED) \\n \\n28-52 \\nOFFICIAL (CLOSED)  \\nChapter 28 – Emergency Procedure Handling  AL16 MAR 2023  9.18. Engine Temperature . \\n \\n9.18.1. Considerations . \\n \\na. If ENG ITT appears with a FIRE warning light, \\napply the CAPs for Fire.  \\nb. On ground, with high OAT and the sudden \\ndeceleration during the landing roll. ITT may \\nmomentarily increase above 750°C and resolve \\nwithout aircrew actions. This must be reported to \\nlogistic crew after landing.  \\nc. When advancing the throttle above 63% NG on \\nground, beware of the NP limits.  \\nd. NP should not be maintained between 1600 RPM \\nand 1950 RPM continuously with winds from the \\nrear. \\ne. Low ITT in the air may indicate engine flameout. \\nCross check with other engine instruments to \\nconfirm the situation.  \\n \\n9.19. Engine Fire In The Air  \\n \\n9.19.1. The key consideration to handling this emergency is to first \\nprioritise executing the correct CAPs to contain the situation, \\nfollowed by recovering to within gliding range of an airfield \\nfor a PFL/FL in the event of engine shut down. \\n \\n9.19.2. Do not attempt a restart after engine had been shut down due \\nto FIRE, FOD, or FROZEN (seizure of engine during \\nmechanical failure). \\n \\n9.19.3. Considerations . \\n \\na. Positive signs of fire may include: Visual signs of \\nFire, excessively or fluctuating high ITT, or smoke \\npresent from engine compartment or in the cockpit. \\nb. The FIRE warning light going off after initial \\npositive signs of fire does not necessarily mean that \\nthe fire had been arrested. It may be a malfunction of \\ncircuitry due to the fire that had damaged electrical \\ncomponents.  \\nc. Pull EO2 and ACS SHUT OFF (per CAPs) to \\nprevent breathing in toxic smoke/fumes. ', metadata={'source': 'data\\\\PC-21 Employment Manual - Chapt 28 EP Handling AL16 Mar 2023.pdf', 'page': 51}),\n",
       "  Document(page_content='OFFICIAL (CLOSED) \\n \\n28-11 \\nOFFICIAL (CLOSED)  \\nChapter 28 – Emergency Procedure Handling  AL16 MAR 2023  conduct a forced landing (established in groove), (2) \\ntime available to safely relight the engine and \\nrecover from the dive and (3) proximity to ground \\nand populace. The Flameout Decision Matrix serves \\nas a guide for aircrew to prioritise their actions in \\naccordance with the emergency handling principles. \\nb. Established in Groove . Aircrew should prioritise the \\nsafe recovery of the aircraft via a flameout approach. \\nWhere practicable, aircrew may conduct relight \\ndrills in an attempt to restart the engine. However, \\nthe safe recovery of the aircraft should not be \\ncompromised for an engine relight. \\nc. Out of Groove . When a safe flameout approach \\ncannot be achieved, aircrew should determine if \\nthere is sufficient time to conduct a relight before \\nMinimum Safe Ejection Altitude. As a guide, an \\nimmediate relight with dive recovery requires 500-\\n600ft of height loss. \\n \\ni. Above Controlled Ejection Altitude . With sufficient \\nheight/time for relight, aircrew should prioritise engine \\nrelight when established out of groove above controlled \\nejection height. \\nii. Below Controlled Ejection Altitude . Due to the proximity \\nof the aircraft to ground, aircrew should prioritise a safe \\nejection with considerations for the safety of populace, \\naircrew and aircraft. While a relight may be attempted, a \\nsafe ejection should not be compromised for an engine \\nrelight. An ejection must not be delayed if sufficient \\nthrust cannot be achieved to recover the aircraft above the \\nMinimum Safe Ejection Altitude. \\n \\n2.4.7. Minimum Safe Ejection Altitude (400ft AGL) . Aircrew should \\nnot delay ejection decision below the controlled ejection \\naltitude, unless aircraft is assessed to be within groove for a \\nsafe recovery via a flameout approach to a suitable runway, or \\nwhen engine shows signs of positive relight (sufficient thrust \\nfor dive recovery above Minimum Safe Ejection Altitude). \\nWhen established in FL parameters, aircrew may continue to \\ndescend below controlled ejection altitude to attempt a FL \\napproach. If a safe landing cannot be achieved from the ', metadata={'source': 'data\\\\PC-21 Employment Manual - Chapt 28 EP Handling AL16 Mar 2023.pdf', 'page': 10}),\n",
       "  Document(page_content='OFFICIAL (CLOSED) \\n \\n28-18 \\nOFFICIAL (CLOSED)  \\nChapter 28 – Emergency Procedure Handling  AL16 MAR 2023  3. FLAMEOUT APPROACHES (PFL/FL) \\n \\n3.1. Introduction . In general, when handling engine related EPs, \\naircrew should task prioritise flying the aircraft to a key position \\n(or 1:1). They will then refer to the EP checklist and E-Matrix if \\ntime and capacity allows. Once established in key position, \\naircrew should prioritise flying the PFL/FL to a safe touchdown. \\n \\n3.2. Land Back .  \\n \\n3.2.1. Land back is generally attempted when the aircraft experiences \\na critical engine malfunction such that useable thrust cannot be \\nproduced to safely climb to low key (example flameout). A \\nland back may be attempted when landing gears are down and \\nthere is sufficient runway remaining.  \\n \\n3.2.2. When engine fails during takeoff, the aircraft reverts to Mode \\n3 braking, with a landing distance of approximately 3348ft \\n(referencing AFM landing ground roll distance of 3100ft in \\nMode 2 + 8% for manual braking). As a rule of thumb, to \\njudge sufficient runway remaining, we need to make sure we \\nhave approximately 4000ft of runway available. \\n \\n3.2.3. At Pearce airfield, the Tacan station is approximately 4000ft \\ninto the main runway (RWY 18L/36R), therefore the Tacan \\nstation can be used as a visual cue to determine whether there \\nis approximately 4000ft of runway remaining. For short \\nrunways like runway 05/23 and Gin Gin, 4000ft of runway \\nremaining occurs very quickly approximately 2-3seconds after \\nlift off from a take-off or touch & go. \\n \\n3.2.4. Flaps may be lowered to landing position to reduce the stalling \\nspeed for landing, if doing so will not sacrifice the execution \\nof a safe landing. \\n \\n3.2.5. Land back should only be performed by QFI because of their \\nexperience level. Trainees should consider ejection as a safer \\noption due to low experience level. \\n \\n3.3. Turn Back . \\n ', metadata={'source': 'data\\\\PC-21 Employment Manual - Chapt 28 EP Handling AL16 Mar 2023.pdf', 'page': 17}),\n",
       "  Document(page_content='OFFICIAL (CLOSED) \\n \\n28-41 \\nOFFICIAL (CLOSED)  \\nChapter 28 – Emergency Procedure Handling  AL16 MAR 2023  9. ENGINE MALFUNCTION \\n \\nEngine Malfunction . \\n \\nThe key considerations when handling an engine related emergency \\nare: \\n \\na. Execute CAPs if applicable \\nb. Upon recognition of the engine related malfunctions, \\naircrew must execute the correct CAPs expeditiously \\nin the attempt to resolve the emergency. \\n \\nDetermine if there is useable power available to sustain flight for the \\nemergency experienced. \\n \\nc. The minimum power required to sustain level flight \\nis ~20-25% at low altitude, and ~25-35% at higher \\naltitudes. \\nd. If power is available, aircrew can use it to achieve \\ngroove.  \\ne. Do not attempt a restart after engine had been shut \\ndown / failed due to FIRE, FOD, or FROZEN \\n(seizure of engine during mechanical failure). \\n \\nDetermine if the aircraft is within gliding range (2:1) to a key position \\n/ within groove (1:1). \\n \\nf. If within gliding range and/or groove to a suitable \\nairfield, aircrew should task prioritise flying the \\nPFL/FL accurately to ensure a successful landing. \\nTime and capacity permitting, aircrew should \\nreference checklist actions (other than CAPs) for \\nnon-critical emergencies.  \\ng. If not within gliding range, aircrew should prioritise \\nexecuting checklist actions in attempt to restore a \\nuseable engine. (eg. Flameout experienced outside \\nof gliding range to GIN i.e when flying in the PTA).  \\nh. Monitor engine instruments closely for signs of \\nrelight. \\n \\n9.1. Starter Motor Remains Engaged With Engine Running . \\n ', metadata={'source': 'data\\\\PC-21 Employment Manual - Chapt 28 EP Handling AL16 Mar 2023.pdf', 'page': 40}),\n",
       "  Document(page_content='OFFICIAL (CLOSED) \\n \\n28-58 \\nOFFICIAL (CLOSED)  \\nChapter 28 – Emergency Procedure Handling  AL16 MAR 2023  j. If relight was unsuccessful, complete check list for \\nManual Relight followed by gliding checks. \\n \\n10.5. After Relight . \\n \\n10.5.1. Considerations . \\n \\na. Following a successful relight, regardless of Auto or \\nManual relight, the after relight check list must be \\ncarried out. \\nb. Continue to monitor engine parameters closely as a \\nflameout may occur again. \\nc. EO2 may have depleted if used more than 5 minutes. \\nPressurise the cockpit and switch on OXY. \\n  ', metadata={'source': 'data\\\\PC-21 Employment Manual - Chapt 28 EP Handling AL16 Mar 2023.pdf', 'page': 57}),\n",
       "  Document(page_content='OFFICIAL (CLOSED) \\n \\n28-45 \\nOFFICIAL (CLOSED)  \\nChapter 28 – Emergency Procedure Handling  AL16 MAR 2023  c. Monitor ITT closely if there is a need to advance the \\nthrottle beyond 67.5% TQ (2850ft lbs). A caution \\n(amber) arc will also appear on the TQ analog \\nindicator. \\n \\n9.6. No Response To Throttle / Throttle Disconnected . \\n \\n9.6.1. Throttle can be moved but does not change engine parameters \\n(no response to throttle).  \\n \\n9.6.2. Throttle cannot be moved (stuck throttle).  \\n \\na. Fly and control the aircraft \\nb. Check for FOD restricting throttle movement in both \\ncockpits \\nc. Adjust friction nut to a looser setting \\nd. Ensure other cockpit occupant is not obstructing the \\nthrottle \\n \\n9.8.3 Approximately 20-25% TQ is required to maintain level flight \\nat low altitude for landing.  \\n \\n9.8.4 As a squadron standardisation, to determine whether to fly a \\nstraight in approach or a PFL, 50% TQ is used as the point of \\ndetermination.  \\n \\na. >/= 50% TQ  \\n \\ni. Aircrew will recover via high speed PFL / FL \\nii. Upgrade to Mayday before shutting down  \\n \\nb. Below 50% TQ  \\n \\ni. Aircrew will recover via straight in approach \\nii. ~20-25% flapless approach \\niii. ~30% flapless (airbrake) or flaps T/O  \\niv. ~35% flaps landing \\nv. ~35% - 50% flaps landing (airbrake as required)  \\n \\n9.6.3. However, as a guide, if TQ is below ~15%, there may be \\ninsufficient power to maintain level flight and allow aircraft to ', metadata={'source': 'data\\\\PC-21 Employment Manual - Chapt 28 EP Handling AL16 Mar 2023.pdf', 'page': 44})]}"
      ]
     },
     "execution_count": 16,
     "metadata": {},
     "output_type": "execute_result"
    }
   ],
   "source": [
    "qa({'question' : \"What about from 50% power setting?\"})"
   ]
  },
  {
   "cell_type": "markdown",
   "metadata": {},
   "source": [
    "## Versioning Control Tests"
   ]
  },
  {
   "cell_type": "code",
   "execution_count": null,
   "metadata": {},
   "outputs": [],
   "source": []
  },
  {
   "cell_type": "markdown",
   "metadata": {},
   "source": [
    "## Alternate embedding models"
   ]
  },
  {
   "cell_type": "code",
   "execution_count": 27,
   "metadata": {},
   "outputs": [],
   "source": [
    "from langchain.embeddings.openai import OpenAIEmbeddings\n",
    "from langchain.chat_models import AzureChatOpenAI\n",
    "from langchain.vectorstores import FAISS\n",
    "from langchain.document_loaders import PyPDFLoader, DirectoryLoader\n",
    "from langchain.chains import RetrievalQA\n",
    "from langchain.chains.question_answering import load_qa_chain\n",
    "\n",
    "def load_docs(filepath):\n",
    "    loader = DirectoryLoader(filepath, glob='**/*.pdf', loader_cls=PyPDFLoader)\n",
    "\n",
    "    docs = loader.load()\n",
    "    \n",
    "    return docs\n",
    "\n",
    "from langchain.embeddings import HuggingFaceBgeEmbeddings\n",
    "model_name = \"BAAI/bge-large-en-v1.5\"\n",
    "model_kwargs = {'device': 'cpu'}\n",
    "encode_kwargs = {'normalize_embeddings': True} # set True to compute cosine similarity\n",
    "\n",
    "def vector_load(docs, key, endpoint):\n",
    "    \n",
    "    embedding_model = HuggingFaceBgeEmbeddings(\n",
    "    model_name=model_name,\n",
    "    model_kwargs=model_kwargs,\n",
    "    encode_kwargs=encode_kwargs,\n",
    "    query_instruction=\"Represent the question for retrieving supporting documents: \"\n",
    ")\n",
    "    \n",
    "    # need to build some logic here for checking the database - if exists then just add if not, create\n",
    "    \n",
    "    db = FAISS.from_documents(docs, embedding_model)\n",
    "    \n",
    "    return db\n",
    "   "
   ]
  },
  {
   "cell_type": "code",
   "execution_count": null,
   "metadata": {},
   "outputs": [],
   "source": [
    "# Was not able to finish because it was running for 15 minutes but still not done transforming yet\n",
    "docs = load_docs('./data/')\n",
    "db_bge = vector_load(docs, embed_key, embed_endpoint)"
   ]
  },
  {
   "cell_type": "code",
   "execution_count": null,
   "metadata": {},
   "outputs": [],
   "source": []
  }
 ],
 "metadata": {
  "kernelspec": {
   "display_name": ".venv",
   "language": "python",
   "name": "python3"
  },
  "language_info": {
   "codemirror_mode": {
    "name": "ipython",
    "version": 3
   },
   "file_extension": ".py",
   "mimetype": "text/x-python",
   "name": "python",
   "nbconvert_exporter": "python",
   "pygments_lexer": "ipython3",
   "version": "3.11.5"
  },
  "orig_nbformat": 4
 },
 "nbformat": 4,
 "nbformat_minor": 2
}
